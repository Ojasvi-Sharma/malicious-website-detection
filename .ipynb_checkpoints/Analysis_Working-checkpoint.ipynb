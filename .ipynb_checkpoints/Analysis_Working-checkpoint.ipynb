{
 "cells": [
  {
   "cell_type": "code",
   "execution_count": 26,
   "metadata": {},
   "outputs": [],
   "source": [
    "import pandas as pd\n",
    "import numpy as np\n",
    "import matplotlib.pyplot as plt\n",
    "%matplotlib inline"
   ]
  },
  {
   "cell_type": "code",
   "execution_count": 426,
   "metadata": {},
   "outputs": [],
   "source": [
    "import seaborn as sns\n",
    "from sklearn.preprocessing import scale\n",
    "from sklearn.manifold import TSNE"
   ]
  },
  {
   "cell_type": "code",
   "execution_count": 28,
   "metadata": {},
   "outputs": [],
   "source": [
    "data = pd.read_csv('final_dataset.csv')"
   ]
  },
  {
   "cell_type": "code",
   "execution_count": 29,
   "metadata": {},
   "outputs": [
    {
     "data": {
      "text/plain": [
       "20"
      ]
     },
     "execution_count": 29,
     "metadata": {},
     "output_type": "execute_result"
    }
   ],
   "source": [
    "len(data.columns)"
   ]
  },
  {
   "cell_type": "code",
   "execution_count": 30,
   "metadata": {},
   "outputs": [
    {
     "data": {
      "text/html": [
       "<div>\n",
       "<style scoped>\n",
       "    .dataframe tbody tr th:only-of-type {\n",
       "        vertical-align: middle;\n",
       "    }\n",
       "\n",
       "    .dataframe tbody tr th {\n",
       "        vertical-align: top;\n",
       "    }\n",
       "\n",
       "    .dataframe thead th {\n",
       "        text-align: right;\n",
       "    }\n",
       "</style>\n",
       "<table border=\"1\" class=\"dataframe\">\n",
       "  <thead>\n",
       "    <tr style=\"text-align: right;\">\n",
       "      <th></th>\n",
       "      <th>Unnamed: 0</th>\n",
       "      <th>URL</th>\n",
       "      <th>embedded_domain_in_path</th>\n",
       "      <th>ip_address</th>\n",
       "      <th>number_of_dots</th>\n",
       "      <th>host_has_dash</th>\n",
       "      <th>dictionary_word</th>\n",
       "      <th>http_in_hostname</th>\n",
       "      <th>targeted_brand</th>\n",
       "      <th>redirecting url</th>\n",
       "      <th>ext url</th>\n",
       "      <th>Phishing</th>\n",
       "      <th>Subdomains</th>\n",
       "      <th>Prefix-Suffix</th>\n",
       "      <th>Anchor Tag</th>\n",
       "      <th>Tags</th>\n",
       "      <th>Forms</th>\n",
       "      <th>SSL Expiry Date</th>\n",
       "      <th>SSL Cert Check</th>\n",
       "      <th>Alexa Ranking</th>\n",
       "    </tr>\n",
       "  </thead>\n",
       "  <tbody>\n",
       "    <tr>\n",
       "      <th>0</th>\n",
       "      <td>0</td>\n",
       "      <td>https://locking-app-adverds.000webhostapp.com/...</td>\n",
       "      <td>1</td>\n",
       "      <td>-1</td>\n",
       "      <td>-1</td>\n",
       "      <td>1</td>\n",
       "      <td>1</td>\n",
       "      <td>-1</td>\n",
       "      <td>-1</td>\n",
       "      <td>-1</td>\n",
       "      <td>-1</td>\n",
       "      <td>yes</td>\n",
       "      <td>3</td>\n",
       "      <td>-1</td>\n",
       "      <td>N-N</td>\n",
       "      <td>N-N</td>\n",
       "      <td>N-N</td>\n",
       "      <td>253</td>\n",
       "      <td>0</td>\n",
       "      <td>3664.0</td>\n",
       "    </tr>\n",
       "    <tr>\n",
       "      <th>1</th>\n",
       "      <td>1</td>\n",
       "      <td>https://mxtoolbox.com/public/upgradev2.aspx?ps...</td>\n",
       "      <td>0</td>\n",
       "      <td>-1</td>\n",
       "      <td>-1</td>\n",
       "      <td>-1</td>\n",
       "      <td>-1</td>\n",
       "      <td>-1</td>\n",
       "      <td>-1</td>\n",
       "      <td>-1</td>\n",
       "      <td>-1</td>\n",
       "      <td>no</td>\n",
       "      <td>2</td>\n",
       "      <td>1</td>\n",
       "      <td>155.3191489</td>\n",
       "      <td>100</td>\n",
       "      <td>0</td>\n",
       "      <td>256</td>\n",
       "      <td>0</td>\n",
       "      <td>6619.0</td>\n",
       "    </tr>\n",
       "    <tr>\n",
       "      <th>2</th>\n",
       "      <td>2</td>\n",
       "      <td>http://parolishop.com.br/questionreviews.htm</td>\n",
       "      <td>0</td>\n",
       "      <td>-1</td>\n",
       "      <td>-1</td>\n",
       "      <td>-1</td>\n",
       "      <td>-1</td>\n",
       "      <td>-1</td>\n",
       "      <td>-1</td>\n",
       "      <td>-1</td>\n",
       "      <td>-1</td>\n",
       "      <td>yes</td>\n",
       "      <td>3</td>\n",
       "      <td>1</td>\n",
       "      <td>293.4911243</td>\n",
       "      <td>100</td>\n",
       "      <td>0</td>\n",
       "      <td>36</td>\n",
       "      <td>0</td>\n",
       "      <td>NaN</td>\n",
       "    </tr>\n",
       "    <tr>\n",
       "      <th>3</th>\n",
       "      <td>3</td>\n",
       "      <td>http://innovate.ieee.org/innovate/35675?lt=xpl...</td>\n",
       "      <td>1</td>\n",
       "      <td>-1</td>\n",
       "      <td>-1</td>\n",
       "      <td>-1</td>\n",
       "      <td>-1</td>\n",
       "      <td>-1</td>\n",
       "      <td>-1</td>\n",
       "      <td>-1</td>\n",
       "      <td>-1</td>\n",
       "      <td>no</td>\n",
       "      <td>3</td>\n",
       "      <td>1</td>\n",
       "      <td>N-N</td>\n",
       "      <td>N-N</td>\n",
       "      <td>N-N</td>\n",
       "      <td>58</td>\n",
       "      <td>0</td>\n",
       "      <td>717.0</td>\n",
       "    </tr>\n",
       "    <tr>\n",
       "      <th>4</th>\n",
       "      <td>4</td>\n",
       "      <td>http://ietbhaddal.edu.in/bb.mobile/mobile/inde...</td>\n",
       "      <td>0</td>\n",
       "      <td>-1</td>\n",
       "      <td>-1</td>\n",
       "      <td>-1</td>\n",
       "      <td>-1</td>\n",
       "      <td>-1</td>\n",
       "      <td>1</td>\n",
       "      <td>-1</td>\n",
       "      <td>-1</td>\n",
       "      <td>yes</td>\n",
       "      <td>3</td>\n",
       "      <td>1</td>\n",
       "      <td>N-N</td>\n",
       "      <td>N-N</td>\n",
       "      <td>N-N</td>\n",
       "      <td>716</td>\n",
       "      <td>1</td>\n",
       "      <td>NaN</td>\n",
       "    </tr>\n",
       "  </tbody>\n",
       "</table>\n",
       "</div>"
      ],
      "text/plain": [
       "   Unnamed: 0                                                URL  \\\n",
       "0           0  https://locking-app-adverds.000webhostapp.com/...   \n",
       "1           1  https://mxtoolbox.com/public/upgradev2.aspx?ps...   \n",
       "2           2       http://parolishop.com.br/questionreviews.htm   \n",
       "3           3  http://innovate.ieee.org/innovate/35675?lt=xpl...   \n",
       "4           4  http://ietbhaddal.edu.in/bb.mobile/mobile/inde...   \n",
       "\n",
       "  embedded_domain_in_path ip_address number_of_dots host_has_dash  \\\n",
       "0                       1         -1             -1             1   \n",
       "1                       0         -1             -1            -1   \n",
       "2                       0         -1             -1            -1   \n",
       "3                       1         -1             -1            -1   \n",
       "4                       0         -1             -1            -1   \n",
       "\n",
       "  dictionary_word http_in_hostname targeted_brand redirecting url ext url  \\\n",
       "0               1               -1             -1              -1      -1   \n",
       "1              -1               -1             -1              -1      -1   \n",
       "2              -1               -1             -1              -1      -1   \n",
       "3              -1               -1             -1              -1      -1   \n",
       "4              -1               -1              1              -1      -1   \n",
       "\n",
       "  Phishing  Subdomains  Prefix-Suffix   Anchor Tag Tags Forms  \\\n",
       "0      yes           3             -1          N-N  N-N   N-N   \n",
       "1       no           2              1  155.3191489  100     0   \n",
       "2      yes           3              1  293.4911243  100     0   \n",
       "3       no           3              1          N-N  N-N   N-N   \n",
       "4      yes           3              1          N-N  N-N   N-N   \n",
       "\n",
       "   SSL Expiry Date  SSL Cert Check  Alexa Ranking  \n",
       "0              253               0         3664.0  \n",
       "1              256               0         6619.0  \n",
       "2               36               0            NaN  \n",
       "3               58               0          717.0  \n",
       "4              716               1            NaN  "
      ]
     },
     "execution_count": 30,
     "metadata": {},
     "output_type": "execute_result"
    }
   ],
   "source": [
    "data.head()"
   ]
  },
  {
   "cell_type": "code",
   "execution_count": null,
   "metadata": {},
   "outputs": [],
   "source": []
  },
  {
   "cell_type": "code",
   "execution_count": null,
   "metadata": {},
   "outputs": [],
   "source": []
  },
  {
   "cell_type": "markdown",
   "metadata": {},
   "source": [
    "# DATA CLEANING"
   ]
  },
  {
   "cell_type": "code",
   "execution_count": 31,
   "metadata": {},
   "outputs": [],
   "source": [
    "data.drop('Unnamed: 0', axis=1,inplace=True)"
   ]
  },
  {
   "cell_type": "code",
   "execution_count": 40,
   "metadata": {},
   "outputs": [
    {
     "data": {
      "text/html": [
       "<div>\n",
       "<style scoped>\n",
       "    .dataframe tbody tr th:only-of-type {\n",
       "        vertical-align: middle;\n",
       "    }\n",
       "\n",
       "    .dataframe tbody tr th {\n",
       "        vertical-align: top;\n",
       "    }\n",
       "\n",
       "    .dataframe thead th {\n",
       "        text-align: right;\n",
       "    }\n",
       "</style>\n",
       "<table border=\"1\" class=\"dataframe\">\n",
       "  <thead>\n",
       "    <tr style=\"text-align: right;\">\n",
       "      <th></th>\n",
       "      <th>URL</th>\n",
       "      <th>embedded_domain_in_path</th>\n",
       "      <th>ip_address</th>\n",
       "      <th>number_of_dots</th>\n",
       "      <th>host_has_dash</th>\n",
       "      <th>dictionary_word</th>\n",
       "      <th>http_in_hostname</th>\n",
       "      <th>targeted_brand</th>\n",
       "      <th>redirecting url</th>\n",
       "      <th>ext url</th>\n",
       "      <th>Phishing</th>\n",
       "      <th>Subdomains</th>\n",
       "      <th>Prefix-Suffix</th>\n",
       "      <th>Anchor Tag</th>\n",
       "      <th>Tags</th>\n",
       "      <th>Forms</th>\n",
       "      <th>SSL Expiry Date</th>\n",
       "      <th>SSL Cert Check</th>\n",
       "      <th>Alexa Ranking</th>\n",
       "    </tr>\n",
       "  </thead>\n",
       "  <tbody>\n",
       "    <tr>\n",
       "      <th>1705</th>\n",
       "      <td>url</td>\n",
       "      <td>embedded_domain_in_path</td>\n",
       "      <td>ip_address</td>\n",
       "      <td>number_of_dots</td>\n",
       "      <td>host_has_dash</td>\n",
       "      <td>dictionary_word</td>\n",
       "      <td>http_in_hostname</td>\n",
       "      <td>targeted_brand</td>\n",
       "      <td>redirecting url</td>\n",
       "      <td>ext url</td>\n",
       "      <td>result</td>\n",
       "      <td>1</td>\n",
       "      <td>1</td>\n",
       "      <td>N-N</td>\n",
       "      <td>N-N</td>\n",
       "      <td>N-N</td>\n",
       "      <td>-1</td>\n",
       "      <td>-1</td>\n",
       "      <td>NaN</td>\n",
       "    </tr>\n",
       "  </tbody>\n",
       "</table>\n",
       "</div>"
      ],
      "text/plain": [
       "      URL  embedded_domain_in_path  ip_address  number_of_dots  host_has_dash  \\\n",
       "1705  url  embedded_domain_in_path  ip_address  number_of_dots  host_has_dash   \n",
       "\n",
       "      dictionary_word  http_in_hostname  targeted_brand  redirecting url  \\\n",
       "1705  dictionary_word  http_in_hostname  targeted_brand  redirecting url   \n",
       "\n",
       "      ext url Phishing  Subdomains  Prefix-Suffix Anchor Tag Tags Forms  \\\n",
       "1705  ext url   result           1              1        N-N  N-N   N-N   \n",
       "\n",
       "      SSL Expiry Date  SSL Cert Check  Alexa Ranking  \n",
       "1705               -1              -1            NaN  "
      ]
     },
     "execution_count": 40,
     "metadata": {},
     "output_type": "execute_result"
    }
   ],
   "source": [
    "data[data['URL'] == \"url\"]"
   ]
  },
  {
   "cell_type": "code",
   "execution_count": 48,
   "metadata": {},
   "outputs": [],
   "source": [
    "data.drop(1705,axis=0,inplace=True)"
   ]
  },
  {
   "cell_type": "code",
   "execution_count": 52,
   "metadata": {},
   "outputs": [
    {
     "data": {
      "text/plain": [
       "Index(['URL', 'embedded_domain_in_path', 'ip_address', 'number_of_dots',\n",
       "       'host_has_dash', 'dictionary_word', 'http_in_hostname',\n",
       "       'targeted_brand', 'redirecting url', 'ext url', 'Phishing',\n",
       "       'Subdomains', 'Prefix-Suffix', 'Anchor Tag', 'Tags', 'Forms',\n",
       "       'SSL Expiry Date', 'SSL Cert Check', 'Alexa Ranking'],\n",
       "      dtype='object')"
      ]
     },
     "execution_count": 52,
     "metadata": {},
     "output_type": "execute_result"
    }
   ],
   "source": [
    "data.columns"
   ]
  },
  {
   "cell_type": "code",
   "execution_count": null,
   "metadata": {},
   "outputs": [],
   "source": []
  },
  {
   "cell_type": "markdown",
   "metadata": {},
   "source": [
    "# Cleaning Anchor Tag feature"
   ]
  },
  {
   "cell_type": "code",
   "execution_count": 77,
   "metadata": {},
   "outputs": [
    {
     "data": {
      "text/plain": [
       "yes    875\n",
       "no     179\n",
       "Name: Phishing, dtype: int64"
      ]
     },
     "execution_count": 77,
     "metadata": {},
     "output_type": "execute_result"
    }
   ],
   "source": [
    "data[data['Anchor Tag'] == 'N-N']['Phishing'].value_counts()"
   ]
  },
  {
   "cell_type": "code",
   "execution_count": 94,
   "metadata": {},
   "outputs": [],
   "source": [
    "data['Anchor Tag'].replace('N-N',np.nan,inplace=True)"
   ]
  },
  {
   "cell_type": "code",
   "execution_count": 104,
   "metadata": {},
   "outputs": [],
   "source": [
    "data['Anchor Tag'] = data['Anchor Tag'].astype(float)"
   ]
  },
  {
   "cell_type": "code",
   "execution_count": 106,
   "metadata": {},
   "outputs": [],
   "source": [
    "data['Anchor Tag'] = round(data['Anchor Tag'],ndigits=0)"
   ]
  },
  {
   "cell_type": "code",
   "execution_count": 121,
   "metadata": {},
   "outputs": [],
   "source": [
    "def impute_anchors_val(vals):\n",
    "    anc = vals[0]\n",
    "    phish = vals[1]\n",
    "    if phish == 'yes' and pd.isnull(anc):\n",
    "        return 300\n",
    "    elif phish == 'no' and pd.isnull(anc):\n",
    "        return 150\n",
    "    else:\n",
    "        return anc"
   ]
  },
  {
   "cell_type": "code",
   "execution_count": 124,
   "metadata": {},
   "outputs": [],
   "source": [
    "data['Anchor Tag'] = data[['Anchor Tag', 'Phishing']].apply(impute_anchors_val,axis=1)"
   ]
  },
  {
   "cell_type": "code",
   "execution_count": 127,
   "metadata": {},
   "outputs": [
    {
     "data": {
      "text/html": [
       "<div>\n",
       "<style scoped>\n",
       "    .dataframe tbody tr th:only-of-type {\n",
       "        vertical-align: middle;\n",
       "    }\n",
       "\n",
       "    .dataframe tbody tr th {\n",
       "        vertical-align: top;\n",
       "    }\n",
       "\n",
       "    .dataframe thead th {\n",
       "        text-align: right;\n",
       "    }\n",
       "</style>\n",
       "<table border=\"1\" class=\"dataframe\">\n",
       "  <thead>\n",
       "    <tr style=\"text-align: right;\">\n",
       "      <th></th>\n",
       "      <th>URL</th>\n",
       "      <th>embedded_domain_in_path</th>\n",
       "      <th>ip_address</th>\n",
       "      <th>number_of_dots</th>\n",
       "      <th>host_has_dash</th>\n",
       "      <th>dictionary_word</th>\n",
       "      <th>http_in_hostname</th>\n",
       "      <th>targeted_brand</th>\n",
       "      <th>redirecting url</th>\n",
       "      <th>ext url</th>\n",
       "      <th>Phishing</th>\n",
       "      <th>Subdomains</th>\n",
       "      <th>Prefix-Suffix</th>\n",
       "      <th>Anchor Tag</th>\n",
       "      <th>Tags</th>\n",
       "      <th>Forms</th>\n",
       "      <th>SSL Expiry Date</th>\n",
       "      <th>SSL Cert Check</th>\n",
       "      <th>Alexa Ranking</th>\n",
       "    </tr>\n",
       "  </thead>\n",
       "  <tbody>\n",
       "  </tbody>\n",
       "</table>\n",
       "</div>"
      ],
      "text/plain": [
       "Empty DataFrame\n",
       "Columns: [URL, embedded_domain_in_path, ip_address, number_of_dots, host_has_dash, dictionary_word, http_in_hostname, targeted_brand, redirecting url, ext url, Phishing, Subdomains, Prefix-Suffix, Anchor Tag, Tags, Forms, SSL Expiry Date, SSL Cert Check, Alexa Ranking]\n",
       "Index: []"
      ]
     },
     "execution_count": 127,
     "metadata": {},
     "output_type": "execute_result"
    }
   ],
   "source": [
    "data[data['Anchor Tag'].isnull()]"
   ]
  },
  {
   "cell_type": "code",
   "execution_count": 129,
   "metadata": {},
   "outputs": [
    {
     "data": {
      "text/plain": [
       "268.5291902071563"
      ]
     },
     "execution_count": 129,
     "metadata": {},
     "output_type": "execute_result"
    }
   ],
   "source": [
    "data[data['Phishing'] == 'yes']['Anchor Tag'].mean()"
   ]
  },
  {
   "cell_type": "code",
   "execution_count": 130,
   "metadata": {},
   "outputs": [
    {
     "data": {
      "text/plain": [
       "162.8074074074074"
      ]
     },
     "execution_count": 130,
     "metadata": {},
     "output_type": "execute_result"
    }
   ],
   "source": [
    "data[data['Phishing'] == 'no']['Anchor Tag'].mean()"
   ]
  },
  {
   "cell_type": "code",
   "execution_count": null,
   "metadata": {},
   "outputs": [],
   "source": []
  },
  {
   "cell_type": "markdown",
   "metadata": {},
   "source": [
    "# Tags feature processing"
   ]
  },
  {
   "cell_type": "code",
   "execution_count": 141,
   "metadata": {},
   "outputs": [
    {
     "data": {
      "text/plain": [
       "N-N    1118\n",
       "100    1024\n",
       "Name: Tags, dtype: int64"
      ]
     },
     "execution_count": 141,
     "metadata": {},
     "output_type": "execute_result"
    }
   ],
   "source": [
    "data['Tags'].value_counts()"
   ]
  },
  {
   "cell_type": "markdown",
   "metadata": {},
   "source": [
    "OBSERVATION: It is better to exclude this feature as not much useful information can be extracted from it. Moreover, for more than half the data points the information is not available (exception case)"
   ]
  },
  {
   "cell_type": "markdown",
   "metadata": {},
   "source": [
    "# Forms feature processing"
   ]
  },
  {
   "cell_type": "code",
   "execution_count": 147,
   "metadata": {},
   "outputs": [
    {
     "data": {
      "text/plain": [
       "1      447\n",
       "0      442\n",
       "N-N    175\n",
       "-1      16\n",
       "Name: Forms, dtype: int64"
      ]
     },
     "execution_count": 147,
     "metadata": {},
     "output_type": "execute_result"
    }
   ],
   "source": [
    "data[data['Phishing'] == 'no']['Forms'].value_counts()"
   ]
  },
  {
   "cell_type": "code",
   "execution_count": 148,
   "metadata": {},
   "outputs": [
    {
     "data": {
      "text/plain": [
       "N-N    875\n",
       "1      102\n",
       "0       79\n",
       "-1       6\n",
       "Name: Forms, dtype: int64"
      ]
     },
     "execution_count": 148,
     "metadata": {},
     "output_type": "execute_result"
    }
   ],
   "source": [
    "data[data['Phishing'] == 'yes']['Forms'].value_counts()"
   ]
  },
  {
   "cell_type": "code",
   "execution_count": 151,
   "metadata": {},
   "outputs": [],
   "source": [
    "data['Forms'].replace('N-N',np.nan, inplace=True)"
   ]
  },
  {
   "cell_type": "code",
   "execution_count": 159,
   "metadata": {},
   "outputs": [],
   "source": [
    "# This function checks whether any information related to the form links is available or not\n",
    "def form_info_available(form_val):\n",
    "    val = form_val[0]\n",
    "    if pd.isnull(val):\n",
    "        return 0\n",
    "    return 1"
   ]
  },
  {
   "cell_type": "code",
   "execution_count": 161,
   "metadata": {},
   "outputs": [],
   "source": [
    "data['Forms'] = data[['Forms']].apply(form_info_available,axis=1)"
   ]
  },
  {
   "cell_type": "code",
   "execution_count": null,
   "metadata": {},
   "outputs": [],
   "source": []
  },
  {
   "cell_type": "code",
   "execution_count": 185,
   "metadata": {},
   "outputs": [
    {
     "data": {
      "text/plain": [
       "-1       543\n",
       " 253      59\n",
       " 252      33\n",
       " 39       19\n",
       " 62       16\n",
       " 55       16\n",
       " 2501     10\n",
       " 35        9\n",
       " 22        8\n",
       " 80        8\n",
       " 85        8\n",
       " 64        8\n",
       " 36        8\n",
       " 43        8\n",
       " 12        8\n",
       " 251       7\n",
       " 42        7\n",
       " 84        7\n",
       " 76        7\n",
       " 79        7\n",
       " 54        6\n",
       " 70        6\n",
       " 243       6\n",
       " 37        6\n",
       " 61        6\n",
       " 44        6\n",
       " 2500      5\n",
       " 11        5\n",
       " 75        5\n",
       " 41        5\n",
       "        ... \n",
       " 654       1\n",
       " 676       1\n",
       " 715       1\n",
       " 731       1\n",
       " 742       1\n",
       " 9043      1\n",
       " 857       1\n",
       " 286       1\n",
       " 282       1\n",
       " 264       1\n",
       " 175       1\n",
       " 98        1\n",
       " 99        1\n",
       " 126       1\n",
       " 2193      1\n",
       " 148       1\n",
       " 9157      1\n",
       " 158       1\n",
       " 167       1\n",
       " 179       1\n",
       " 235       1\n",
       " 180       1\n",
       " 182       1\n",
       " 190       1\n",
       " 204       1\n",
       " 218       1\n",
       " 227       1\n",
       " 229       1\n",
       " 6374      1\n",
       " 154       1\n",
       "Name: SSL Expiry Date, Length: 141, dtype: int64"
      ]
     },
     "execution_count": 185,
     "metadata": {},
     "output_type": "execute_result"
    }
   ],
   "source": [
    "data[data['Phishing'] == \"yes\"]['SSL Expiry Date'].value_counts()"
   ]
  },
  {
   "cell_type": "markdown",
   "metadata": {},
   "source": [
    "# Alexa Ranking Feature Processing"
   ]
  },
  {
   "cell_type": "code",
   "execution_count": 196,
   "metadata": {},
   "outputs": [
    {
     "data": {
      "text/plain": [
       "7538.0"
      ]
     },
     "execution_count": 196,
     "metadata": {},
     "output_type": "execute_result"
    }
   ],
   "source": [
    "data[data['Phishing'] == \"no\"]['Alexa Ranking'].median()"
   ]
  },
  {
   "cell_type": "code",
   "execution_count": 197,
   "metadata": {},
   "outputs": [
    {
     "data": {
      "text/plain": [
       "538085.0"
      ]
     },
     "execution_count": 197,
     "metadata": {},
     "output_type": "execute_result"
    }
   ],
   "source": [
    "data[data['Phishing'] == \"yes\"]['Alexa Ranking'].median()"
   ]
  },
  {
   "cell_type": "code",
   "execution_count": 198,
   "metadata": {},
   "outputs": [],
   "source": [
    "def impute_alexa(vals):\n",
    "    rank = vals[0]\n",
    "    phis = vals[1]\n",
    "    if pd.isnull(rank):\n",
    "        if phis == \"no\":\n",
    "            return 7500\n",
    "        else:\n",
    "            return 538000\n",
    "    return rank"
   ]
  },
  {
   "cell_type": "code",
   "execution_count": 201,
   "metadata": {},
   "outputs": [],
   "source": [
    "data['Alexa Ranking'] = data[['Alexa Ranking', 'Phishing']].apply(impute_alexa,axis=1)"
   ]
  },
  {
   "cell_type": "code",
   "execution_count": 203,
   "metadata": {},
   "outputs": [
    {
     "data": {
      "text/plain": [
       "Index(['URL', 'embedded_domain_in_path', 'ip_address', 'number_of_dots',\n",
       "       'host_has_dash', 'dictionary_word', 'http_in_hostname',\n",
       "       'targeted_brand', 'redirecting url', 'ext url', 'Phishing',\n",
       "       'Subdomains', 'Prefix-Suffix', 'Anchor Tag', 'Tags', 'Forms',\n",
       "       'SSL Expiry Date', 'SSL Cert Check', 'Alexa Ranking'],\n",
       "      dtype='object')"
      ]
     },
     "execution_count": 203,
     "metadata": {},
     "output_type": "execute_result"
    }
   ],
   "source": [
    "data.columns"
   ]
  },
  {
   "cell_type": "code",
   "execution_count": null,
   "metadata": {},
   "outputs": [],
   "source": []
  },
  {
   "cell_type": "code",
   "execution_count": 213,
   "metadata": {},
   "outputs": [
    {
     "data": {
      "text/plain": [
       "Phishing\n",
       "no     223.114815\n",
       "yes    149.979284\n",
       "Name: SSL Expiry Date, dtype: float64"
      ]
     },
     "execution_count": 213,
     "metadata": {},
     "output_type": "execute_result"
    }
   ],
   "source": [
    "data['SSL Expiry Date'].groupby(data['Phishing']).mean()"
   ]
  },
  {
   "cell_type": "code",
   "execution_count": 228,
   "metadata": {},
   "outputs": [
    {
     "data": {
      "text/plain": [
       "-1       543\n",
       " 253      59\n",
       " 252      33\n",
       " 39       19\n",
       " 62       16\n",
       " 55       16\n",
       " 2501     10\n",
       " 35        9\n",
       " 22        8\n",
       " 80        8\n",
       " 85        8\n",
       " 64        8\n",
       " 36        8\n",
       " 43        8\n",
       " 12        8\n",
       " 251       7\n",
       " 42        7\n",
       " 84        7\n",
       " 76        7\n",
       " 79        7\n",
       " 54        6\n",
       " 70        6\n",
       " 243       6\n",
       " 37        6\n",
       " 61        6\n",
       " 44        6\n",
       " 2500      5\n",
       " 11        5\n",
       " 75        5\n",
       " 41        5\n",
       "        ... \n",
       " 654       1\n",
       " 676       1\n",
       " 715       1\n",
       " 731       1\n",
       " 742       1\n",
       " 9043      1\n",
       " 857       1\n",
       " 286       1\n",
       " 282       1\n",
       " 264       1\n",
       " 175       1\n",
       " 98        1\n",
       " 99        1\n",
       " 126       1\n",
       " 2193      1\n",
       " 148       1\n",
       " 9157      1\n",
       " 158       1\n",
       " 167       1\n",
       " 179       1\n",
       " 235       1\n",
       " 180       1\n",
       " 182       1\n",
       " 190       1\n",
       " 204       1\n",
       " 218       1\n",
       " 227       1\n",
       " 229       1\n",
       " 6374      1\n",
       " 154       1\n",
       "Name: SSL Expiry Date, Length: 141, dtype: int64"
      ]
     },
     "execution_count": 228,
     "metadata": {},
     "output_type": "execute_result"
    }
   ],
   "source": [
    "data[data['Phishing'] == \"yes\"]['SSL Expiry Date'].value_counts()"
   ]
  },
  {
   "cell_type": "code",
   "execution_count": 219,
   "metadata": {},
   "outputs": [
    {
     "data": {
      "text/plain": [
       "-1      161\n",
       " 69      78\n",
       " 68      26\n",
       " 163     14\n",
       " 182     13\n",
       " 219     12\n",
       " 316     10\n",
       " 380     10\n",
       " 67      10\n",
       " 151     10\n",
       " 322      9\n",
       " 626      9\n",
       " 249      8\n",
       " 77       8\n",
       " 315      8\n",
       " 74       7\n",
       " 150      7\n",
       " 434      7\n",
       " 582      7\n",
       " 93       7\n",
       " 176      7\n",
       " 49       7\n",
       " 133      7\n",
       " 34       7\n",
       " 750      7\n",
       " 147      6\n",
       " 193      6\n",
       " 66       6\n",
       " 180      6\n",
       " 175      6\n",
       "       ... \n",
       " 191      1\n",
       " 294      1\n",
       " 298      1\n",
       " 423      1\n",
       " 351      1\n",
       " 409      1\n",
       " 408      1\n",
       " 406      1\n",
       " 404      1\n",
       " 391      1\n",
       " 390      1\n",
       " 389      1\n",
       " 387      1\n",
       " 382      1\n",
       " 359      1\n",
       " 358      1\n",
       " 348      1\n",
       " 303      1\n",
       " 344      1\n",
       " 341      1\n",
       " 339      1\n",
       " 337      1\n",
       " 333      1\n",
       " 325      1\n",
       " 323      1\n",
       " 317      1\n",
       " 313      1\n",
       " 311      1\n",
       " 307      1\n",
       " 287      1\n",
       "Name: SSL Expiry Date, Length: 326, dtype: int64"
      ]
     },
     "execution_count": 219,
     "metadata": {},
     "output_type": "execute_result"
    }
   ],
   "source": [
    "data[data['Phishing'] == \"no\"]['SSL Expiry Date'].value_counts()"
   ]
  },
  {
   "cell_type": "code",
   "execution_count": null,
   "metadata": {},
   "outputs": [],
   "source": []
  },
  {
   "cell_type": "code",
   "execution_count": 229,
   "metadata": {},
   "outputs": [],
   "source": [
    "def impute_expiry(vals):\n",
    "    days = vals[0]\n",
    "    phis = vals[1]\n",
    "    if days == -1:\n",
    "        if phis == 'yes':\n",
    "            return 69\n",
    "        else:\n",
    "            return 253\n",
    "    return days"
   ]
  },
  {
   "cell_type": "code",
   "execution_count": 231,
   "metadata": {},
   "outputs": [],
   "source": [
    "data[\"SSL Expiry Date\"] = data[['SSL Expiry Date','Phishing']].apply(impute_expiry, axis=1)"
   ]
  },
  {
   "cell_type": "code",
   "execution_count": 232,
   "metadata": {},
   "outputs": [
    {
     "data": {
      "text/html": [
       "<div>\n",
       "<style scoped>\n",
       "    .dataframe tbody tr th:only-of-type {\n",
       "        vertical-align: middle;\n",
       "    }\n",
       "\n",
       "    .dataframe tbody tr th {\n",
       "        vertical-align: top;\n",
       "    }\n",
       "\n",
       "    .dataframe thead th {\n",
       "        text-align: right;\n",
       "    }\n",
       "</style>\n",
       "<table border=\"1\" class=\"dataframe\">\n",
       "  <thead>\n",
       "    <tr style=\"text-align: right;\">\n",
       "      <th></th>\n",
       "      <th>URL</th>\n",
       "      <th>embedded_domain_in_path</th>\n",
       "      <th>ip_address</th>\n",
       "      <th>number_of_dots</th>\n",
       "      <th>host_has_dash</th>\n",
       "      <th>dictionary_word</th>\n",
       "      <th>http_in_hostname</th>\n",
       "      <th>targeted_brand</th>\n",
       "      <th>redirecting url</th>\n",
       "      <th>ext url</th>\n",
       "      <th>Phishing</th>\n",
       "      <th>Subdomains</th>\n",
       "      <th>Prefix-Suffix</th>\n",
       "      <th>Anchor Tag</th>\n",
       "      <th>Tags</th>\n",
       "      <th>Forms</th>\n",
       "      <th>SSL Expiry Date</th>\n",
       "      <th>SSL Cert Check</th>\n",
       "      <th>Alexa Ranking</th>\n",
       "    </tr>\n",
       "  </thead>\n",
       "  <tbody>\n",
       "    <tr>\n",
       "      <th>0</th>\n",
       "      <td>https://locking-app-adverds.000webhostapp.com/...</td>\n",
       "      <td>1</td>\n",
       "      <td>-1</td>\n",
       "      <td>-1</td>\n",
       "      <td>1</td>\n",
       "      <td>1</td>\n",
       "      <td>-1</td>\n",
       "      <td>-1</td>\n",
       "      <td>-1</td>\n",
       "      <td>-1</td>\n",
       "      <td>yes</td>\n",
       "      <td>3</td>\n",
       "      <td>-1</td>\n",
       "      <td>300.0</td>\n",
       "      <td>N-N</td>\n",
       "      <td>0</td>\n",
       "      <td>253</td>\n",
       "      <td>0</td>\n",
       "      <td>3664.0</td>\n",
       "    </tr>\n",
       "    <tr>\n",
       "      <th>1</th>\n",
       "      <td>https://mxtoolbox.com/public/upgradev2.aspx?ps...</td>\n",
       "      <td>0</td>\n",
       "      <td>-1</td>\n",
       "      <td>-1</td>\n",
       "      <td>-1</td>\n",
       "      <td>-1</td>\n",
       "      <td>-1</td>\n",
       "      <td>-1</td>\n",
       "      <td>-1</td>\n",
       "      <td>-1</td>\n",
       "      <td>no</td>\n",
       "      <td>2</td>\n",
       "      <td>1</td>\n",
       "      <td>155.0</td>\n",
       "      <td>100</td>\n",
       "      <td>1</td>\n",
       "      <td>256</td>\n",
       "      <td>0</td>\n",
       "      <td>6619.0</td>\n",
       "    </tr>\n",
       "    <tr>\n",
       "      <th>2</th>\n",
       "      <td>http://parolishop.com.br/questionreviews.htm</td>\n",
       "      <td>0</td>\n",
       "      <td>-1</td>\n",
       "      <td>-1</td>\n",
       "      <td>-1</td>\n",
       "      <td>-1</td>\n",
       "      <td>-1</td>\n",
       "      <td>-1</td>\n",
       "      <td>-1</td>\n",
       "      <td>-1</td>\n",
       "      <td>yes</td>\n",
       "      <td>3</td>\n",
       "      <td>1</td>\n",
       "      <td>293.0</td>\n",
       "      <td>100</td>\n",
       "      <td>1</td>\n",
       "      <td>36</td>\n",
       "      <td>0</td>\n",
       "      <td>538000.0</td>\n",
       "    </tr>\n",
       "    <tr>\n",
       "      <th>3</th>\n",
       "      <td>http://innovate.ieee.org/innovate/35675?lt=xpl...</td>\n",
       "      <td>1</td>\n",
       "      <td>-1</td>\n",
       "      <td>-1</td>\n",
       "      <td>-1</td>\n",
       "      <td>-1</td>\n",
       "      <td>-1</td>\n",
       "      <td>-1</td>\n",
       "      <td>-1</td>\n",
       "      <td>-1</td>\n",
       "      <td>no</td>\n",
       "      <td>3</td>\n",
       "      <td>1</td>\n",
       "      <td>150.0</td>\n",
       "      <td>N-N</td>\n",
       "      <td>0</td>\n",
       "      <td>58</td>\n",
       "      <td>0</td>\n",
       "      <td>717.0</td>\n",
       "    </tr>\n",
       "    <tr>\n",
       "      <th>4</th>\n",
       "      <td>http://ietbhaddal.edu.in/bb.mobile/mobile/inde...</td>\n",
       "      <td>0</td>\n",
       "      <td>-1</td>\n",
       "      <td>-1</td>\n",
       "      <td>-1</td>\n",
       "      <td>-1</td>\n",
       "      <td>-1</td>\n",
       "      <td>1</td>\n",
       "      <td>-1</td>\n",
       "      <td>-1</td>\n",
       "      <td>yes</td>\n",
       "      <td>3</td>\n",
       "      <td>1</td>\n",
       "      <td>300.0</td>\n",
       "      <td>N-N</td>\n",
       "      <td>0</td>\n",
       "      <td>716</td>\n",
       "      <td>1</td>\n",
       "      <td>538000.0</td>\n",
       "    </tr>\n",
       "  </tbody>\n",
       "</table>\n",
       "</div>"
      ],
      "text/plain": [
       "                                                 URL embedded_domain_in_path  \\\n",
       "0  https://locking-app-adverds.000webhostapp.com/...                       1   \n",
       "1  https://mxtoolbox.com/public/upgradev2.aspx?ps...                       0   \n",
       "2       http://parolishop.com.br/questionreviews.htm                       0   \n",
       "3  http://innovate.ieee.org/innovate/35675?lt=xpl...                       1   \n",
       "4  http://ietbhaddal.edu.in/bb.mobile/mobile/inde...                       0   \n",
       "\n",
       "  ip_address number_of_dots host_has_dash dictionary_word http_in_hostname  \\\n",
       "0         -1             -1             1               1               -1   \n",
       "1         -1             -1            -1              -1               -1   \n",
       "2         -1             -1            -1              -1               -1   \n",
       "3         -1             -1            -1              -1               -1   \n",
       "4         -1             -1            -1              -1               -1   \n",
       "\n",
       "  targeted_brand redirecting url ext url Phishing  Subdomains  Prefix-Suffix  \\\n",
       "0             -1              -1      -1      yes           3             -1   \n",
       "1             -1              -1      -1       no           2              1   \n",
       "2             -1              -1      -1      yes           3              1   \n",
       "3             -1              -1      -1       no           3              1   \n",
       "4              1              -1      -1      yes           3              1   \n",
       "\n",
       "   Anchor Tag Tags  Forms  SSL Expiry Date  SSL Cert Check  Alexa Ranking  \n",
       "0       300.0  N-N      0              253               0         3664.0  \n",
       "1       155.0  100      1              256               0         6619.0  \n",
       "2       293.0  100      1               36               0       538000.0  \n",
       "3       150.0  N-N      0               58               0          717.0  \n",
       "4       300.0  N-N      0              716               1       538000.0  "
      ]
     },
     "execution_count": 232,
     "metadata": {},
     "output_type": "execute_result"
    }
   ],
   "source": [
    "data.head()"
   ]
  },
  {
   "cell_type": "code",
   "execution_count": 235,
   "metadata": {},
   "outputs": [],
   "source": [
    "data.to_csv(\"final_cleaned_dataset.csv\",index=False)"
   ]
  },
  {
   "cell_type": "code",
   "execution_count": null,
   "metadata": {},
   "outputs": [],
   "source": []
  },
  {
   "cell_type": "code",
   "execution_count": null,
   "metadata": {},
   "outputs": [],
   "source": []
  },
  {
   "cell_type": "code",
   "execution_count": null,
   "metadata": {},
   "outputs": [],
   "source": []
  },
  {
   "cell_type": "code",
   "execution_count": null,
   "metadata": {},
   "outputs": [],
   "source": []
  },
  {
   "cell_type": "code",
   "execution_count": null,
   "metadata": {},
   "outputs": [],
   "source": []
  },
  {
   "cell_type": "code",
   "execution_count": null,
   "metadata": {},
   "outputs": [],
   "source": []
  },
  {
   "cell_type": "code",
   "execution_count": 288,
   "metadata": {},
   "outputs": [],
   "source": [
    "data = pd.read_csv(\"final_cleaned_dataset.csv\")"
   ]
  },
  {
   "cell_type": "code",
   "execution_count": 289,
   "metadata": {},
   "outputs": [],
   "source": [
    "data.drop(['Tags'],axis=1, inplace=True)"
   ]
  },
  {
   "cell_type": "code",
   "execution_count": 290,
   "metadata": {},
   "outputs": [
    {
     "data": {
      "text/html": [
       "<div>\n",
       "<style scoped>\n",
       "    .dataframe tbody tr th:only-of-type {\n",
       "        vertical-align: middle;\n",
       "    }\n",
       "\n",
       "    .dataframe tbody tr th {\n",
       "        vertical-align: top;\n",
       "    }\n",
       "\n",
       "    .dataframe thead th {\n",
       "        text-align: right;\n",
       "    }\n",
       "</style>\n",
       "<table border=\"1\" class=\"dataframe\">\n",
       "  <thead>\n",
       "    <tr style=\"text-align: right;\">\n",
       "      <th></th>\n",
       "      <th>URL</th>\n",
       "      <th>embedded_domain_in_path</th>\n",
       "      <th>ip_address</th>\n",
       "      <th>dictionary_word</th>\n",
       "      <th>targeted_brand</th>\n",
       "      <th>ext url</th>\n",
       "      <th>Phishing</th>\n",
       "      <th>Subdomains</th>\n",
       "      <th>Prefix-Suffix</th>\n",
       "      <th>Anchor Tag</th>\n",
       "      <th>Forms</th>\n",
       "      <th>SSL Expiry Date</th>\n",
       "      <th>SSL Cert Check</th>\n",
       "      <th>Alexa Ranking</th>\n",
       "      <th>URL Length</th>\n",
       "      <th>URL Shortened</th>\n",
       "      <th>Redirects User</th>\n",
       "      <th>URL has @ Symbol</th>\n",
       "      <th>URL has HTTPS</th>\n",
       "    </tr>\n",
       "  </thead>\n",
       "  <tbody>\n",
       "    <tr>\n",
       "      <th>0</th>\n",
       "      <td>https://locking-app-adverds.000webhostapp.com/...</td>\n",
       "      <td>1</td>\n",
       "      <td>-1</td>\n",
       "      <td>1</td>\n",
       "      <td>-1</td>\n",
       "      <td>-1</td>\n",
       "      <td>yes</td>\n",
       "      <td>3</td>\n",
       "      <td>-1</td>\n",
       "      <td>300</td>\n",
       "      <td>0</td>\n",
       "      <td>253</td>\n",
       "      <td>0</td>\n",
       "      <td>3664</td>\n",
       "      <td>135</td>\n",
       "      <td>-1</td>\n",
       "      <td>1</td>\n",
       "      <td>1</td>\n",
       "      <td>1</td>\n",
       "    </tr>\n",
       "    <tr>\n",
       "      <th>1</th>\n",
       "      <td>https://mxtoolbox.com/public/upgradev2.aspx?ps...</td>\n",
       "      <td>0</td>\n",
       "      <td>-1</td>\n",
       "      <td>-1</td>\n",
       "      <td>-1</td>\n",
       "      <td>-1</td>\n",
       "      <td>no</td>\n",
       "      <td>2</td>\n",
       "      <td>1</td>\n",
       "      <td>155</td>\n",
       "      <td>1</td>\n",
       "      <td>256</td>\n",
       "      <td>0</td>\n",
       "      <td>6619</td>\n",
       "      <td>295</td>\n",
       "      <td>1</td>\n",
       "      <td>1</td>\n",
       "      <td>1</td>\n",
       "      <td>1</td>\n",
       "    </tr>\n",
       "    <tr>\n",
       "      <th>2</th>\n",
       "      <td>http://parolishop.com.br/questionreviews.htm</td>\n",
       "      <td>0</td>\n",
       "      <td>-1</td>\n",
       "      <td>-1</td>\n",
       "      <td>-1</td>\n",
       "      <td>-1</td>\n",
       "      <td>yes</td>\n",
       "      <td>3</td>\n",
       "      <td>1</td>\n",
       "      <td>293</td>\n",
       "      <td>1</td>\n",
       "      <td>36</td>\n",
       "      <td>0</td>\n",
       "      <td>538000</td>\n",
       "      <td>44</td>\n",
       "      <td>-1</td>\n",
       "      <td>1</td>\n",
       "      <td>1</td>\n",
       "      <td>-1</td>\n",
       "    </tr>\n",
       "    <tr>\n",
       "      <th>3</th>\n",
       "      <td>http://innovate.ieee.org/innovate/35675?lt=xpl...</td>\n",
       "      <td>1</td>\n",
       "      <td>-1</td>\n",
       "      <td>-1</td>\n",
       "      <td>-1</td>\n",
       "      <td>-1</td>\n",
       "      <td>no</td>\n",
       "      <td>3</td>\n",
       "      <td>1</td>\n",
       "      <td>150</td>\n",
       "      <td>0</td>\n",
       "      <td>58</td>\n",
       "      <td>0</td>\n",
       "      <td>717</td>\n",
       "      <td>80</td>\n",
       "      <td>-1</td>\n",
       "      <td>1</td>\n",
       "      <td>1</td>\n",
       "      <td>-1</td>\n",
       "    </tr>\n",
       "    <tr>\n",
       "      <th>4</th>\n",
       "      <td>http://ietbhaddal.edu.in/bb.mobile/mobile/inde...</td>\n",
       "      <td>0</td>\n",
       "      <td>-1</td>\n",
       "      <td>-1</td>\n",
       "      <td>1</td>\n",
       "      <td>-1</td>\n",
       "      <td>yes</td>\n",
       "      <td>3</td>\n",
       "      <td>1</td>\n",
       "      <td>300</td>\n",
       "      <td>0</td>\n",
       "      <td>716</td>\n",
       "      <td>1</td>\n",
       "      <td>538000</td>\n",
       "      <td>51</td>\n",
       "      <td>-1</td>\n",
       "      <td>1</td>\n",
       "      <td>1</td>\n",
       "      <td>-1</td>\n",
       "    </tr>\n",
       "  </tbody>\n",
       "</table>\n",
       "</div>"
      ],
      "text/plain": [
       "                                                 URL  embedded_domain_in_path  \\\n",
       "0  https://locking-app-adverds.000webhostapp.com/...                        1   \n",
       "1  https://mxtoolbox.com/public/upgradev2.aspx?ps...                        0   \n",
       "2       http://parolishop.com.br/questionreviews.htm                        0   \n",
       "3  http://innovate.ieee.org/innovate/35675?lt=xpl...                        1   \n",
       "4  http://ietbhaddal.edu.in/bb.mobile/mobile/inde...                        0   \n",
       "\n",
       "   ip_address  dictionary_word  targeted_brand  ext url Phishing  Subdomains  \\\n",
       "0          -1                1              -1       -1      yes           3   \n",
       "1          -1               -1              -1       -1       no           2   \n",
       "2          -1               -1              -1       -1      yes           3   \n",
       "3          -1               -1              -1       -1       no           3   \n",
       "4          -1               -1               1       -1      yes           3   \n",
       "\n",
       "   Prefix-Suffix  Anchor Tag  Forms  SSL Expiry Date  SSL Cert Check  \\\n",
       "0             -1         300      0              253               0   \n",
       "1              1         155      1              256               0   \n",
       "2              1         293      1               36               0   \n",
       "3              1         150      0               58               0   \n",
       "4              1         300      0              716               1   \n",
       "\n",
       "   Alexa Ranking  URL Length  URL Shortened  Redirects User  URL has @ Symbol  \\\n",
       "0           3664         135             -1               1                 1   \n",
       "1           6619         295              1               1                 1   \n",
       "2         538000          44             -1               1                 1   \n",
       "3            717          80             -1               1                 1   \n",
       "4         538000          51             -1               1                 1   \n",
       "\n",
       "   URL has HTTPS  \n",
       "0              1  \n",
       "1              1  \n",
       "2             -1  \n",
       "3             -1  \n",
       "4             -1  "
      ]
     },
     "execution_count": 290,
     "metadata": {},
     "output_type": "execute_result"
    }
   ],
   "source": [
    "data.head()"
   ]
  },
  {
   "cell_type": "code",
   "execution_count": 291,
   "metadata": {},
   "outputs": [
    {
     "data": {
      "text/plain": [
       "Index(['URL', 'embedded_domain_in_path', 'ip_address', 'dictionary_word',\n",
       "       'targeted_brand', 'ext url', 'Phishing', 'Subdomains', 'Prefix-Suffix',\n",
       "       'Anchor Tag', 'Forms', 'SSL Expiry Date', 'SSL Cert Check',\n",
       "       'Alexa Ranking', 'URL Length', 'URL Shortened', 'Redirects User',\n",
       "       'URL has @ Symbol', 'URL has HTTPS'],\n",
       "      dtype='object')"
      ]
     },
     "execution_count": 291,
     "metadata": {},
     "output_type": "execute_result"
    }
   ],
   "source": [
    "data.columns"
   ]
  },
  {
   "cell_type": "code",
   "execution_count": 292,
   "metadata": {},
   "outputs": [
    {
     "data": {
      "text/html": [
       "<div>\n",
       "<style scoped>\n",
       "    .dataframe tbody tr th:only-of-type {\n",
       "        vertical-align: middle;\n",
       "    }\n",
       "\n",
       "    .dataframe tbody tr th {\n",
       "        vertical-align: top;\n",
       "    }\n",
       "\n",
       "    .dataframe thead th {\n",
       "        text-align: right;\n",
       "    }\n",
       "</style>\n",
       "<table border=\"1\" class=\"dataframe\">\n",
       "  <thead>\n",
       "    <tr style=\"text-align: right;\">\n",
       "      <th></th>\n",
       "      <th>embedded_domain_in_path</th>\n",
       "      <th>ip_address</th>\n",
       "      <th>dictionary_word</th>\n",
       "      <th>targeted_brand</th>\n",
       "      <th>ext url</th>\n",
       "      <th>Subdomains</th>\n",
       "      <th>Prefix-Suffix</th>\n",
       "      <th>Anchor Tag</th>\n",
       "      <th>Forms</th>\n",
       "      <th>SSL Expiry Date</th>\n",
       "      <th>SSL Cert Check</th>\n",
       "      <th>Alexa Ranking</th>\n",
       "      <th>URL Length</th>\n",
       "      <th>URL Shortened</th>\n",
       "      <th>Redirects User</th>\n",
       "      <th>URL has @ Symbol</th>\n",
       "      <th>URL has HTTPS</th>\n",
       "    </tr>\n",
       "  </thead>\n",
       "  <tbody>\n",
       "    <tr>\n",
       "      <th>count</th>\n",
       "      <td>2142.000000</td>\n",
       "      <td>2142.000000</td>\n",
       "      <td>2142.000000</td>\n",
       "      <td>2142.000000</td>\n",
       "      <td>2142.000000</td>\n",
       "      <td>2142.000000</td>\n",
       "      <td>2142.000000</td>\n",
       "      <td>2142.000000</td>\n",
       "      <td>2142.000000</td>\n",
       "      <td>2142.000000</td>\n",
       "      <td>2142.000000</td>\n",
       "      <td>2.142000e+03</td>\n",
       "      <td>2142.000000</td>\n",
       "      <td>2142.000000</td>\n",
       "      <td>2142.000000</td>\n",
       "      <td>2142.000000</td>\n",
       "      <td>2142.000000</td>\n",
       "    </tr>\n",
       "    <tr>\n",
       "      <th>mean</th>\n",
       "      <td>0.351541</td>\n",
       "      <td>-0.992530</td>\n",
       "      <td>-0.433240</td>\n",
       "      <td>-0.478992</td>\n",
       "      <td>5.282913</td>\n",
       "      <td>2.776844</td>\n",
       "      <td>0.758170</td>\n",
       "      <td>215.224090</td>\n",
       "      <td>0.509804</td>\n",
       "      <td>223.690943</td>\n",
       "      <td>-0.229692</td>\n",
       "      <td>1.076952e+06</td>\n",
       "      <td>87.266573</td>\n",
       "      <td>-0.875817</td>\n",
       "      <td>0.985061</td>\n",
       "      <td>0.983193</td>\n",
       "      <td>-0.456583</td>\n",
       "    </tr>\n",
       "    <tr>\n",
       "      <th>std</th>\n",
       "      <td>0.859676</td>\n",
       "      <td>0.122026</td>\n",
       "      <td>0.901489</td>\n",
       "      <td>0.878024</td>\n",
       "      <td>24.216451</td>\n",
       "      <td>0.784998</td>\n",
       "      <td>0.652209</td>\n",
       "      <td>90.402299</td>\n",
       "      <td>0.500021</td>\n",
       "      <td>456.308753</td>\n",
       "      <td>0.612417</td>\n",
       "      <td>3.095277e+06</td>\n",
       "      <td>97.352935</td>\n",
       "      <td>0.482756</td>\n",
       "      <td>0.172248</td>\n",
       "      <td>0.182610</td>\n",
       "      <td>0.889889</td>\n",
       "    </tr>\n",
       "    <tr>\n",
       "      <th>min</th>\n",
       "      <td>-1.000000</td>\n",
       "      <td>-1.000000</td>\n",
       "      <td>-1.000000</td>\n",
       "      <td>-1.000000</td>\n",
       "      <td>-1.000000</td>\n",
       "      <td>1.000000</td>\n",
       "      <td>-1.000000</td>\n",
       "      <td>1.000000</td>\n",
       "      <td>0.000000</td>\n",
       "      <td>8.000000</td>\n",
       "      <td>-1.000000</td>\n",
       "      <td>1.000000e+00</td>\n",
       "      <td>3.000000</td>\n",
       "      <td>-1.000000</td>\n",
       "      <td>-1.000000</td>\n",
       "      <td>-1.000000</td>\n",
       "      <td>-1.000000</td>\n",
       "    </tr>\n",
       "    <tr>\n",
       "      <th>25%</th>\n",
       "      <td>-1.000000</td>\n",
       "      <td>-1.000000</td>\n",
       "      <td>-1.000000</td>\n",
       "      <td>-1.000000</td>\n",
       "      <td>-1.000000</td>\n",
       "      <td>2.000000</td>\n",
       "      <td>1.000000</td>\n",
       "      <td>150.000000</td>\n",
       "      <td>0.000000</td>\n",
       "      <td>69.000000</td>\n",
       "      <td>-1.000000</td>\n",
       "      <td>4.243250e+03</td>\n",
       "      <td>40.000000</td>\n",
       "      <td>-1.000000</td>\n",
       "      <td>1.000000</td>\n",
       "      <td>1.000000</td>\n",
       "      <td>-1.000000</td>\n",
       "    </tr>\n",
       "    <tr>\n",
       "      <th>50%</th>\n",
       "      <td>1.000000</td>\n",
       "      <td>-1.000000</td>\n",
       "      <td>-1.000000</td>\n",
       "      <td>-1.000000</td>\n",
       "      <td>-1.000000</td>\n",
       "      <td>3.000000</td>\n",
       "      <td>1.000000</td>\n",
       "      <td>209.000000</td>\n",
       "      <td>1.000000</td>\n",
       "      <td>88.500000</td>\n",
       "      <td>0.000000</td>\n",
       "      <td>5.380000e+05</td>\n",
       "      <td>63.000000</td>\n",
       "      <td>-1.000000</td>\n",
       "      <td>1.000000</td>\n",
       "      <td>1.000000</td>\n",
       "      <td>-1.000000</td>\n",
       "    </tr>\n",
       "    <tr>\n",
       "      <th>75%</th>\n",
       "      <td>1.000000</td>\n",
       "      <td>-1.000000</td>\n",
       "      <td>1.000000</td>\n",
       "      <td>1.000000</td>\n",
       "      <td>-1.000000</td>\n",
       "      <td>3.000000</td>\n",
       "      <td>1.000000</td>\n",
       "      <td>300.000000</td>\n",
       "      <td>1.000000</td>\n",
       "      <td>253.000000</td>\n",
       "      <td>0.000000</td>\n",
       "      <td>5.380000e+05</td>\n",
       "      <td>98.000000</td>\n",
       "      <td>-1.000000</td>\n",
       "      <td>1.000000</td>\n",
       "      <td>1.000000</td>\n",
       "      <td>1.000000</td>\n",
       "    </tr>\n",
       "    <tr>\n",
       "      <th>max</th>\n",
       "      <td>1.000000</td>\n",
       "      <td>1.000000</td>\n",
       "      <td>1.000000</td>\n",
       "      <td>1.000000</td>\n",
       "      <td>99.000000</td>\n",
       "      <td>10.000000</td>\n",
       "      <td>1.000000</td>\n",
       "      <td>300.000000</td>\n",
       "      <td>1.000000</td>\n",
       "      <td>9803.000000</td>\n",
       "      <td>1.000000</td>\n",
       "      <td>1.999684e+07</td>\n",
       "      <td>1457.000000</td>\n",
       "      <td>1.000000</td>\n",
       "      <td>1.000000</td>\n",
       "      <td>1.000000</td>\n",
       "      <td>1.000000</td>\n",
       "    </tr>\n",
       "  </tbody>\n",
       "</table>\n",
       "</div>"
      ],
      "text/plain": [
       "       embedded_domain_in_path   ip_address  dictionary_word  targeted_brand  \\\n",
       "count              2142.000000  2142.000000      2142.000000     2142.000000   \n",
       "mean                  0.351541    -0.992530        -0.433240       -0.478992   \n",
       "std                   0.859676     0.122026         0.901489        0.878024   \n",
       "min                  -1.000000    -1.000000        -1.000000       -1.000000   \n",
       "25%                  -1.000000    -1.000000        -1.000000       -1.000000   \n",
       "50%                   1.000000    -1.000000        -1.000000       -1.000000   \n",
       "75%                   1.000000    -1.000000         1.000000        1.000000   \n",
       "max                   1.000000     1.000000         1.000000        1.000000   \n",
       "\n",
       "           ext url   Subdomains  Prefix-Suffix   Anchor Tag        Forms  \\\n",
       "count  2142.000000  2142.000000    2142.000000  2142.000000  2142.000000   \n",
       "mean      5.282913     2.776844       0.758170   215.224090     0.509804   \n",
       "std      24.216451     0.784998       0.652209    90.402299     0.500021   \n",
       "min      -1.000000     1.000000      -1.000000     1.000000     0.000000   \n",
       "25%      -1.000000     2.000000       1.000000   150.000000     0.000000   \n",
       "50%      -1.000000     3.000000       1.000000   209.000000     1.000000   \n",
       "75%      -1.000000     3.000000       1.000000   300.000000     1.000000   \n",
       "max      99.000000    10.000000       1.000000   300.000000     1.000000   \n",
       "\n",
       "       SSL Expiry Date  SSL Cert Check  Alexa Ranking   URL Length  \\\n",
       "count      2142.000000     2142.000000   2.142000e+03  2142.000000   \n",
       "mean        223.690943       -0.229692   1.076952e+06    87.266573   \n",
       "std         456.308753        0.612417   3.095277e+06    97.352935   \n",
       "min           8.000000       -1.000000   1.000000e+00     3.000000   \n",
       "25%          69.000000       -1.000000   4.243250e+03    40.000000   \n",
       "50%          88.500000        0.000000   5.380000e+05    63.000000   \n",
       "75%         253.000000        0.000000   5.380000e+05    98.000000   \n",
       "max        9803.000000        1.000000   1.999684e+07  1457.000000   \n",
       "\n",
       "       URL Shortened  Redirects User  URL has @ Symbol  URL has HTTPS  \n",
       "count    2142.000000     2142.000000       2142.000000    2142.000000  \n",
       "mean       -0.875817        0.985061          0.983193      -0.456583  \n",
       "std         0.482756        0.172248          0.182610       0.889889  \n",
       "min        -1.000000       -1.000000         -1.000000      -1.000000  \n",
       "25%        -1.000000        1.000000          1.000000      -1.000000  \n",
       "50%        -1.000000        1.000000          1.000000      -1.000000  \n",
       "75%        -1.000000        1.000000          1.000000       1.000000  \n",
       "max         1.000000        1.000000          1.000000       1.000000  "
      ]
     },
     "execution_count": 292,
     "metadata": {},
     "output_type": "execute_result"
    }
   ],
   "source": [
    "data.describe()"
   ]
  },
  {
   "cell_type": "code",
   "execution_count": 293,
   "metadata": {},
   "outputs": [
    {
     "name": "stdout",
     "output_type": "stream",
     "text": [
      "<class 'pandas.core.frame.DataFrame'>\n",
      "RangeIndex: 2142 entries, 0 to 2141\n",
      "Data columns (total 19 columns):\n",
      "URL                        2142 non-null object\n",
      "embedded_domain_in_path    2142 non-null int64\n",
      "ip_address                 2142 non-null int64\n",
      "dictionary_word            2142 non-null int64\n",
      "targeted_brand             2142 non-null int64\n",
      "ext url                    2142 non-null int64\n",
      "Phishing                   2142 non-null object\n",
      "Subdomains                 2142 non-null int64\n",
      "Prefix-Suffix              2142 non-null int64\n",
      "Anchor Tag                 2142 non-null int64\n",
      "Forms                      2142 non-null int64\n",
      "SSL Expiry Date            2142 non-null int64\n",
      "SSL Cert Check             2142 non-null int64\n",
      "Alexa Ranking              2142 non-null int64\n",
      "URL Length                 2142 non-null int64\n",
      "URL Shortened              2142 non-null int64\n",
      "Redirects User             2142 non-null int64\n",
      "URL has @ Symbol           2142 non-null int64\n",
      "URL has HTTPS              2142 non-null int64\n",
      "dtypes: int64(17), object(2)\n",
      "memory usage: 318.0+ KB\n"
     ]
    }
   ],
   "source": [
    "data.info()"
   ]
  },
  {
   "cell_type": "code",
   "execution_count": 294,
   "metadata": {},
   "outputs": [
    {
     "data": {
      "text/plain": [
       "Phishing  embedded_domain_in_path\n",
       "no         1                         793\n",
       "          -1                         237\n",
       "           0                          50\n",
       "yes        1                         507\n",
       "          -1                         310\n",
       "           0                         245\n",
       "Name: embedded_domain_in_path, dtype: int64"
      ]
     },
     "execution_count": 294,
     "metadata": {},
     "output_type": "execute_result"
    }
   ],
   "source": [
    "data['embedded_domain_in_path'].groupby(data['Phishing']).value_counts()"
   ]
  },
  {
   "cell_type": "code",
   "execution_count": 295,
   "metadata": {},
   "outputs": [
    {
     "data": {
      "text/plain": [
       "Text(0.5,0,\"['Malicious candidate', 'Suspect', 'Safe candidate']\")"
      ]
     },
     "execution_count": 295,
     "metadata": {},
     "output_type": "execute_result"
    },
    {
     "data": {
      "image/png": "[encoded data removed]",
      "text/plain": [
       "<Figure size 432x288 with 1 Axes>"
      ]
     },
     "metadata": {
      "needs_background": "light"
     },
     "output_type": "display_data"
    }
   ],
   "source": [
    "sns.countplot(x='embedded_domain_in_path',data= data, hue = 'Phishing')\n",
    "plt.xlabel(['Malicious candidate', 'Suspect', 'Safe candidate'])"
   ]
  },
  {
   "cell_type": "code",
   "execution_count": 296,
   "metadata": {},
   "outputs": [],
   "source": [
    "# Status: Included for model"
   ]
  },
  {
   "cell_type": "code",
   "execution_count": null,
   "metadata": {},
   "outputs": [],
   "source": []
  },
  {
   "cell_type": "code",
   "execution_count": 297,
   "metadata": {},
   "outputs": [
    {
     "data": {
      "text/plain": [
       "-1    2134\n",
       " 1       8\n",
       "Name: ip_address, dtype: int64"
      ]
     },
     "execution_count": 297,
     "metadata": {},
     "output_type": "execute_result"
    }
   ],
   "source": [
    "data['ip_address'].value_counts()"
   ]
  },
  {
   "cell_type": "code",
   "execution_count": 298,
   "metadata": {},
   "outputs": [],
   "source": [
    "# Status: Drop it (No useful information can be obtained from this feature)"
   ]
  },
  {
   "cell_type": "code",
   "execution_count": 299,
   "metadata": {},
   "outputs": [],
   "source": [
    "# Note: Check for the source and validity of dictionary word and targeted blank and ext url"
   ]
  },
  {
   "cell_type": "code",
   "execution_count": null,
   "metadata": {},
   "outputs": [],
   "source": []
  },
  {
   "cell_type": "code",
   "execution_count": 300,
   "metadata": {},
   "outputs": [
    {
     "data": {
      "text/plain": [
       "Phishing  targeted_brand\n",
       "no        -1                837\n",
       "           1                243\n",
       "yes       -1                747\n",
       "           1                315\n",
       "Name: targeted_brand, dtype: int64"
      ]
     },
     "execution_count": 300,
     "metadata": {},
     "output_type": "execute_result"
    }
   ],
   "source": [
    "data['targeted_brand'].groupby(data['Phishing']).value_counts()"
   ]
  },
  {
   "cell_type": "code",
   "execution_count": 301,
   "metadata": {},
   "outputs": [
    {
     "data": {
      "text/plain": [
       "<matplotlib.axes._subplots.AxesSubplot at 0x26e559462b0>"
      ]
     },
     "execution_count": 301,
     "metadata": {},
     "output_type": "execute_result"
    },
    {
     "data": {
      "image/png": "[encoded data removed]",
      "text/plain": [
       "<Figure size 432x288 with 1 Axes>"
      ]
     },
     "metadata": {
      "needs_background": "light"
     },
     "output_type": "display_data"
    }
   ],
   "source": [
    "sns.countplot(x=\"targeted_brand\",hue=\"Phishing\",data= data)"
   ]
  },
  {
   "cell_type": "code",
   "execution_count": 302,
   "metadata": {},
   "outputs": [
    {
     "data": {
      "text/html": [
       "<div>\n",
       "<style scoped>\n",
       "    .dataframe tbody tr th:only-of-type {\n",
       "        vertical-align: middle;\n",
       "    }\n",
       "\n",
       "    .dataframe tbody tr th {\n",
       "        vertical-align: top;\n",
       "    }\n",
       "\n",
       "    .dataframe thead th {\n",
       "        text-align: right;\n",
       "    }\n",
       "</style>\n",
       "<table border=\"1\" class=\"dataframe\">\n",
       "  <thead>\n",
       "    <tr style=\"text-align: right;\">\n",
       "      <th></th>\n",
       "      <th>URL</th>\n",
       "      <th>embedded_domain_in_path</th>\n",
       "      <th>ip_address</th>\n",
       "      <th>dictionary_word</th>\n",
       "      <th>targeted_brand</th>\n",
       "      <th>ext url</th>\n",
       "      <th>Phishing</th>\n",
       "      <th>Subdomains</th>\n",
       "      <th>Prefix-Suffix</th>\n",
       "      <th>Anchor Tag</th>\n",
       "      <th>Forms</th>\n",
       "      <th>SSL Expiry Date</th>\n",
       "      <th>SSL Cert Check</th>\n",
       "      <th>Alexa Ranking</th>\n",
       "      <th>URL Length</th>\n",
       "      <th>URL Shortened</th>\n",
       "      <th>Redirects User</th>\n",
       "      <th>URL has @ Symbol</th>\n",
       "      <th>URL has HTTPS</th>\n",
       "    </tr>\n",
       "  </thead>\n",
       "  <tbody>\n",
       "  </tbody>\n",
       "</table>\n",
       "</div>"
      ],
      "text/plain": [
       "Empty DataFrame\n",
       "Columns: [URL, embedded_domain_in_path, ip_address, dictionary_word, targeted_brand, ext url, Phishing, Subdomains, Prefix-Suffix, Anchor Tag, Forms, SSL Expiry Date, SSL Cert Check, Alexa Ranking, URL Length, URL Shortened, Redirects User, URL has @ Symbol, URL has HTTPS]\n",
       "Index: []"
      ]
     },
     "execution_count": 302,
     "metadata": {},
     "output_type": "execute_result"
    }
   ],
   "source": [
    "data[pd.isnull(data['Subdomains'])]"
   ]
  },
  {
   "cell_type": "code",
   "execution_count": 308,
   "metadata": {},
   "outputs": [
    {
     "name": "stderr",
     "output_type": "stream",
     "text": [
      "C:\\Users\\prabh\\Anaconda3\\lib\\site-packages\\scipy\\stats\\stats.py:1713: FutureWarning: Using a non-tuple sequence for multidimensional indexing is deprecated; use `arr[tuple(seq)]` instead of `arr[seq]`. In the future this will be interpreted as an array index, `arr[np.array(seq)]`, which will result either in an error or a different result.\n",
      "  return np.add.reduce(sorted[indexer] * weights, axis=axis) / sumval\n"
     ]
    },
    {
     "data": {
      "text/plain": [
       "<seaborn.axisgrid.FacetGrid at 0x26e51f20780>"
      ]
     },
     "execution_count": 308,
     "metadata": {},
     "output_type": "execute_result"
    },
    {
     "data": {
      "image/png": "[encoded data removed]",
      "text/plain": [
       "<Figure size 485.25x432 with 1 Axes>"
      ]
     },
     "metadata": {
      "needs_background": "light"
     },
     "output_type": "display_data"
    }
   ],
   "source": [
    "sns.FacetGrid(data, hue=\"Phishing\", height=6).map(sns.distplot,\"Subdomains\").add_legend()"
   ]
  },
  {
   "cell_type": "markdown",
   "metadata": {},
   "source": [
    "Observations: When the number of subdomains are more than 5, it is highly likely the site is malicious"
   ]
  },
  {
   "cell_type": "code",
   "execution_count": 309,
   "metadata": {},
   "outputs": [],
   "source": [
    "#Status: Include it"
   ]
  },
  {
   "cell_type": "code",
   "execution_count": 312,
   "metadata": {},
   "outputs": [],
   "source": [
    "numerical_features = []\n",
    "numerical_features.append('Subdomains')"
   ]
  },
  {
   "cell_type": "code",
   "execution_count": null,
   "metadata": {},
   "outputs": [],
   "source": []
  },
  {
   "cell_type": "code",
   "execution_count": 320,
   "metadata": {},
   "outputs": [
    {
     "data": {
      "text/plain": [
       "Phishing  Prefix-Suffix\n",
       "no         1               1039\n",
       "          -1                 41\n",
       "yes        1                844\n",
       "          -1                218\n",
       "Name: Prefix-Suffix, dtype: int64"
      ]
     },
     "execution_count": 320,
     "metadata": {},
     "output_type": "execute_result"
    }
   ],
   "source": [
    "data['Prefix-Suffix'].groupby(data['Phishing']).value_counts()"
   ]
  },
  {
   "cell_type": "code",
   "execution_count": 323,
   "metadata": {},
   "outputs": [
    {
     "data": {
      "text/plain": [
       "<matplotlib.axes._subplots.AxesSubplot at 0x26e51ab2b38>"
      ]
     },
     "execution_count": 323,
     "metadata": {},
     "output_type": "execute_result"
    },
    {
     "data": {
      "image/png": "[encoded data removed]",
      "text/plain": [
       "<Figure size 432x288 with 1 Axes>"
      ]
     },
     "metadata": {
      "needs_background": "light"
     },
     "output_type": "display_data"
    }
   ],
   "source": [
    "sns.countplot(x= 'Prefix-Suffix',data= data, hue='Phishing')"
   ]
  },
  {
   "cell_type": "code",
   "execution_count": 325,
   "metadata": {},
   "outputs": [],
   "source": [
    "#Status include it  (most of the malicious candidates are correctly attributes)"
   ]
  },
  {
   "cell_type": "code",
   "execution_count": null,
   "metadata": {},
   "outputs": [],
   "source": []
  },
  {
   "cell_type": "code",
   "execution_count": 332,
   "metadata": {},
   "outputs": [
    {
     "data": {
      "text/plain": [
       "count    2142.000000\n",
       "mean      215.224090\n",
       "std        90.402299\n",
       "min         1.000000\n",
       "25%       150.000000\n",
       "50%       209.000000\n",
       "75%       300.000000\n",
       "max       300.000000\n",
       "Name: Anchor Tag, dtype: float64"
      ]
     },
     "execution_count": 332,
     "metadata": {},
     "output_type": "execute_result"
    }
   ],
   "source": [
    "data['Anchor Tag'].describe()"
   ]
  },
  {
   "cell_type": "code",
   "execution_count": 333,
   "metadata": {},
   "outputs": [
    {
     "data": {
      "text/html": [
       "<div>\n",
       "<style scoped>\n",
       "    .dataframe tbody tr th:only-of-type {\n",
       "        vertical-align: middle;\n",
       "    }\n",
       "\n",
       "    .dataframe tbody tr th {\n",
       "        vertical-align: top;\n",
       "    }\n",
       "\n",
       "    .dataframe thead th {\n",
       "        text-align: right;\n",
       "    }\n",
       "</style>\n",
       "<table border=\"1\" class=\"dataframe\">\n",
       "  <thead>\n",
       "    <tr style=\"text-align: right;\">\n",
       "      <th></th>\n",
       "      <th>count</th>\n",
       "      <th>mean</th>\n",
       "      <th>std</th>\n",
       "      <th>min</th>\n",
       "      <th>25%</th>\n",
       "      <th>50%</th>\n",
       "      <th>75%</th>\n",
       "      <th>max</th>\n",
       "    </tr>\n",
       "    <tr>\n",
       "      <th>Phishing</th>\n",
       "      <th></th>\n",
       "      <th></th>\n",
       "      <th></th>\n",
       "      <th></th>\n",
       "      <th></th>\n",
       "      <th></th>\n",
       "      <th></th>\n",
       "      <th></th>\n",
       "    </tr>\n",
       "  </thead>\n",
       "  <tbody>\n",
       "    <tr>\n",
       "      <th>no</th>\n",
       "      <td>1080.0</td>\n",
       "      <td>162.807407</td>\n",
       "      <td>65.450715</td>\n",
       "      <td>1.0</td>\n",
       "      <td>150.0</td>\n",
       "      <td>179.5</td>\n",
       "      <td>200.0</td>\n",
       "      <td>300.0</td>\n",
       "    </tr>\n",
       "    <tr>\n",
       "      <th>yes</th>\n",
       "      <td>1062.0</td>\n",
       "      <td>268.529190</td>\n",
       "      <td>80.586660</td>\n",
       "      <td>1.0</td>\n",
       "      <td>300.0</td>\n",
       "      <td>300.0</td>\n",
       "      <td>300.0</td>\n",
       "      <td>300.0</td>\n",
       "    </tr>\n",
       "  </tbody>\n",
       "</table>\n",
       "</div>"
      ],
      "text/plain": [
       "           count        mean        std  min    25%    50%    75%    max\n",
       "Phishing                                                                \n",
       "no        1080.0  162.807407  65.450715  1.0  150.0  179.5  200.0  300.0\n",
       "yes       1062.0  268.529190  80.586660  1.0  300.0  300.0  300.0  300.0"
      ]
     },
     "execution_count": 333,
     "metadata": {},
     "output_type": "execute_result"
    }
   ],
   "source": [
    "data['Anchor Tag'].groupby(data['Phishing']).describe()"
   ]
  },
  {
   "cell_type": "code",
   "execution_count": 334,
   "metadata": {},
   "outputs": [],
   "source": [
    "numerical_features.append('Anchor Tag')"
   ]
  },
  {
   "cell_type": "code",
   "execution_count": 340,
   "metadata": {},
   "outputs": [
    {
     "name": "stderr",
     "output_type": "stream",
     "text": [
      "C:\\Users\\prabh\\Anaconda3\\lib\\site-packages\\seaborn\\axisgrid.py:230: UserWarning: The `size` paramter has been renamed to `height`; please update your code.\n",
      "  warnings.warn(msg, UserWarning)\n",
      "C:\\Users\\prabh\\Anaconda3\\lib\\site-packages\\scipy\\stats\\stats.py:1713: FutureWarning: Using a non-tuple sequence for multidimensional indexing is deprecated; use `arr[tuple(seq)]` instead of `arr[seq]`. In the future this will be interpreted as an array index, `arr[np.array(seq)]`, which will result either in an error or a different result.\n",
      "  return np.add.reduce(sorted[indexer] * weights, axis=axis) / sumval\n"
     ]
    },
    {
     "data": {
      "text/plain": [
       "<seaborn.axisgrid.FacetGrid at 0x26e51c0ea20>"
      ]
     },
     "execution_count": 340,
     "metadata": {},
     "output_type": "execute_result"
    },
    {
     "data": {
      "image/png": "[encoded data removed]",
      "text/plain": [
       "<Figure size 485.25x432 with 1 Axes>"
      ]
     },
     "metadata": {
      "needs_background": "light"
     },
     "output_type": "display_data"
    }
   ],
   "source": [
    "sns.FacetGrid(data, hue=\"Phishing\", size=6).map(sns.distplot,'Anchor Tag').add_legend()"
   ]
  },
  {
   "cell_type": "markdown",
   "metadata": {},
   "source": [
    "Observation: As Anchor tag feature reach higher values the site tends to be Phishing"
   ]
  },
  {
   "cell_type": "code",
   "execution_count": 342,
   "metadata": {},
   "outputs": [],
   "source": [
    "#Status:  Definitely Include (seams to be important feature upon initial analysis)"
   ]
  },
  {
   "cell_type": "code",
   "execution_count": null,
   "metadata": {},
   "outputs": [],
   "source": []
  },
  {
   "cell_type": "code",
   "execution_count": 346,
   "metadata": {},
   "outputs": [
    {
     "data": {
      "text/plain": [
       "1    1092\n",
       "0    1050\n",
       "Name: Forms, dtype: int64"
      ]
     },
     "execution_count": 346,
     "metadata": {},
     "output_type": "execute_result"
    }
   ],
   "source": [
    "data['Forms'].value_counts()"
   ]
  },
  {
   "cell_type": "code",
   "execution_count": 347,
   "metadata": {},
   "outputs": [],
   "source": [
    "# 0: Data about forms not fetched\n",
    "# 1: Data about forms fetched"
   ]
  },
  {
   "cell_type": "code",
   "execution_count": 349,
   "metadata": {},
   "outputs": [
    {
     "data": {
      "text/plain": [
       "<matplotlib.axes._subplots.AxesSubplot at 0x26e513106a0>"
      ]
     },
     "execution_count": 349,
     "metadata": {},
     "output_type": "execute_result"
    },
    {
     "data": {
      "image/png": "[encoded data removed]",
      "text/plain": [
       "<Figure size 432x288 with 1 Axes>"
      ]
     },
     "metadata": {
      "needs_background": "light"
     },
     "output_type": "display_data"
    }
   ],
   "source": [
    "sns.countplot(x=\"Forms\", hue=\"Phishing\", data=data)"
   ]
  },
  {
   "cell_type": "markdown",
   "metadata": {},
   "source": [
    "GREAT FEATURE!\n",
    "Most of the safe candidates and malicious candidates are classified correctly"
   ]
  },
  {
   "cell_type": "code",
   "execution_count": 350,
   "metadata": {},
   "outputs": [],
   "source": [
    "# Status: Definitely Include (Important parameter)"
   ]
  },
  {
   "cell_type": "code",
   "execution_count": null,
   "metadata": {},
   "outputs": [],
   "source": []
  },
  {
   "cell_type": "code",
   "execution_count": 353,
   "metadata": {},
   "outputs": [
    {
     "data": {
      "text/html": [
       "<div>\n",
       "<style scoped>\n",
       "    .dataframe tbody tr th:only-of-type {\n",
       "        vertical-align: middle;\n",
       "    }\n",
       "\n",
       "    .dataframe tbody tr th {\n",
       "        vertical-align: top;\n",
       "    }\n",
       "\n",
       "    .dataframe thead th {\n",
       "        text-align: right;\n",
       "    }\n",
       "</style>\n",
       "<table border=\"1\" class=\"dataframe\">\n",
       "  <thead>\n",
       "    <tr style=\"text-align: right;\">\n",
       "      <th></th>\n",
       "      <th>count</th>\n",
       "      <th>mean</th>\n",
       "      <th>std</th>\n",
       "      <th>min</th>\n",
       "      <th>25%</th>\n",
       "      <th>50%</th>\n",
       "      <th>75%</th>\n",
       "      <th>max</th>\n",
       "    </tr>\n",
       "    <tr>\n",
       "      <th>Phishing</th>\n",
       "      <th></th>\n",
       "      <th></th>\n",
       "      <th></th>\n",
       "      <th></th>\n",
       "      <th></th>\n",
       "      <th></th>\n",
       "      <th></th>\n",
       "      <th></th>\n",
       "    </tr>\n",
       "  </thead>\n",
       "  <tbody>\n",
       "    <tr>\n",
       "      <th>no</th>\n",
       "      <td>1080.0</td>\n",
       "      <td>260.979630</td>\n",
       "      <td>209.460606</td>\n",
       "      <td>8.0</td>\n",
       "      <td>92.75</td>\n",
       "      <td>249.0</td>\n",
       "      <td>326.00</td>\n",
       "      <td>2501.0</td>\n",
       "    </tr>\n",
       "    <tr>\n",
       "      <th>yes</th>\n",
       "      <td>1062.0</td>\n",
       "      <td>185.770245</td>\n",
       "      <td>610.484474</td>\n",
       "      <td>11.0</td>\n",
       "      <td>69.00</td>\n",
       "      <td>69.0</td>\n",
       "      <td>84.75</td>\n",
       "      <td>9803.0</td>\n",
       "    </tr>\n",
       "  </tbody>\n",
       "</table>\n",
       "</div>"
      ],
      "text/plain": [
       "           count        mean         std   min    25%    50%     75%     max\n",
       "Phishing                                                                    \n",
       "no        1080.0  260.979630  209.460606   8.0  92.75  249.0  326.00  2501.0\n",
       "yes       1062.0  185.770245  610.484474  11.0  69.00   69.0   84.75  9803.0"
      ]
     },
     "execution_count": 353,
     "metadata": {},
     "output_type": "execute_result"
    }
   ],
   "source": [
    "data['SSL Expiry Date'].groupby(data['Phishing']).describe()"
   ]
  },
  {
   "cell_type": "markdown",
   "metadata": {},
   "source": [
    "Mean Expiry Date for Phishing websites is slightly lower than that of safe websites. However, it would be too agressive to draw conclusions."
   ]
  },
  {
   "cell_type": "code",
   "execution_count": 360,
   "metadata": {},
   "outputs": [
    {
     "name": "stderr",
     "output_type": "stream",
     "text": [
      "C:\\Users\\prabh\\Anaconda3\\lib\\site-packages\\seaborn\\axisgrid.py:230: UserWarning: The `size` paramter has been renamed to `height`; please update your code.\n",
      "  warnings.warn(msg, UserWarning)\n",
      "C:\\Users\\prabh\\Anaconda3\\lib\\site-packages\\scipy\\stats\\stats.py:1713: FutureWarning: Using a non-tuple sequence for multidimensional indexing is deprecated; use `arr[tuple(seq)]` instead of `arr[seq]`. In the future this will be interpreted as an array index, `arr[np.array(seq)]`, which will result either in an error or a different result.\n",
      "  return np.add.reduce(sorted[indexer] * weights, axis=axis) / sumval\n"
     ]
    },
    {
     "data": {
      "text/plain": [
       "<seaborn.axisgrid.FacetGrid at 0x26e516c2c18>"
      ]
     },
     "execution_count": 360,
     "metadata": {},
     "output_type": "execute_result"
    },
    {
     "data": {
      "image/png": "[encoded data removed]",
      "text/plain": [
       "<Figure size 413.25x360 with 1 Axes>"
      ]
     },
     "metadata": {
      "needs_background": "light"
     },
     "output_type": "display_data"
    }
   ],
   "source": [
    "sns.FacetGrid(data=data, hue=\"Phishing\", size=5).map(sns.distplot,'SSL Expiry Date').add_legend()"
   ]
  },
  {
   "cell_type": "markdown",
   "metadata": {},
   "source": [
    "High Overlapping can be seen except the highly skewed values"
   ]
  },
  {
   "cell_type": "code",
   "execution_count": 361,
   "metadata": {},
   "outputs": [],
   "source": [
    "# Status : Let's keep it "
   ]
  },
  {
   "cell_type": "code",
   "execution_count": 362,
   "metadata": {},
   "outputs": [],
   "source": [
    "numerical_features.append('SSL Expiry Date')"
   ]
  },
  {
   "cell_type": "code",
   "execution_count": null,
   "metadata": {},
   "outputs": [],
   "source": []
  },
  {
   "cell_type": "code",
   "execution_count": 365,
   "metadata": {},
   "outputs": [
    {
     "data": {
      "text/plain": [
       " 0    1226\n",
       "-1     704\n",
       " 1     212\n",
       "Name: SSL Cert Check, dtype: int64"
      ]
     },
     "execution_count": 365,
     "metadata": {},
     "output_type": "execute_result"
    }
   ],
   "source": [
    "data['SSL Cert Check'].value_counts()"
   ]
  },
  {
   "cell_type": "code",
   "execution_count": 366,
   "metadata": {},
   "outputs": [
    {
     "data": {
      "text/plain": [
       "<matplotlib.axes._subplots.AxesSubplot at 0x26e516a3da0>"
      ]
     },
     "execution_count": 366,
     "metadata": {},
     "output_type": "execute_result"
    },
    {
     "data": {
      "image/png": "[encoded data removed]",
      "text/plain": [
       "<Figure size 432x288 with 1 Axes>"
      ]
     },
     "metadata": {
      "needs_background": "light"
     },
     "output_type": "display_data"
    }
   ],
   "source": [
    "sns.countplot(x='SSL Cert Check', hue='Phishing', data=data)"
   ]
  },
  {
   "cell_type": "code",
   "execution_count": 367,
   "metadata": {},
   "outputs": [],
   "source": [
    "#Status : Keep it"
   ]
  },
  {
   "cell_type": "code",
   "execution_count": null,
   "metadata": {},
   "outputs": [],
   "source": []
  },
  {
   "cell_type": "code",
   "execution_count": 371,
   "metadata": {},
   "outputs": [
    {
     "data": {
      "text/html": [
       "<div>\n",
       "<style scoped>\n",
       "    .dataframe tbody tr th:only-of-type {\n",
       "        vertical-align: middle;\n",
       "    }\n",
       "\n",
       "    .dataframe tbody tr th {\n",
       "        vertical-align: top;\n",
       "    }\n",
       "\n",
       "    .dataframe thead th {\n",
       "        text-align: right;\n",
       "    }\n",
       "</style>\n",
       "<table border=\"1\" class=\"dataframe\">\n",
       "  <thead>\n",
       "    <tr style=\"text-align: right;\">\n",
       "      <th></th>\n",
       "      <th>count</th>\n",
       "      <th>mean</th>\n",
       "      <th>std</th>\n",
       "      <th>min</th>\n",
       "      <th>25%</th>\n",
       "      <th>50%</th>\n",
       "      <th>75%</th>\n",
       "      <th>max</th>\n",
       "    </tr>\n",
       "    <tr>\n",
       "      <th>Phishing</th>\n",
       "      <th></th>\n",
       "      <th></th>\n",
       "      <th></th>\n",
       "      <th></th>\n",
       "      <th></th>\n",
       "      <th></th>\n",
       "      <th></th>\n",
       "      <th></th>\n",
       "    </tr>\n",
       "  </thead>\n",
       "  <tbody>\n",
       "    <tr>\n",
       "      <th>no</th>\n",
       "      <td>1080.0</td>\n",
       "      <td>6.350705e+05</td>\n",
       "      <td>2.290722e+06</td>\n",
       "      <td>1.0</td>\n",
       "      <td>599.5</td>\n",
       "      <td>7500.0</td>\n",
       "      <td>134548.0</td>\n",
       "      <td>19171314.0</td>\n",
       "    </tr>\n",
       "    <tr>\n",
       "      <th>yes</th>\n",
       "      <td>1062.0</td>\n",
       "      <td>1.526323e+06</td>\n",
       "      <td>3.687241e+06</td>\n",
       "      <td>1482.0</td>\n",
       "      <td>538000.0</td>\n",
       "      <td>538000.0</td>\n",
       "      <td>538000.0</td>\n",
       "      <td>19996840.0</td>\n",
       "    </tr>\n",
       "  </tbody>\n",
       "</table>\n",
       "</div>"
      ],
      "text/plain": [
       "           count          mean           std     min       25%       50%  \\\n",
       "Phishing                                                                   \n",
       "no        1080.0  6.350705e+05  2.290722e+06     1.0     599.5    7500.0   \n",
       "yes       1062.0  1.526323e+06  3.687241e+06  1482.0  538000.0  538000.0   \n",
       "\n",
       "               75%         max  \n",
       "Phishing                        \n",
       "no        134548.0  19171314.0  \n",
       "yes       538000.0  19996840.0  "
      ]
     },
     "execution_count": 371,
     "metadata": {},
     "output_type": "execute_result"
    }
   ],
   "source": [
    "data['Alexa Ranking'].groupby(data['Phishing']).describe()"
   ]
  },
  {
   "cell_type": "code",
   "execution_count": 372,
   "metadata": {},
   "outputs": [
    {
     "name": "stderr",
     "output_type": "stream",
     "text": [
      "C:\\Users\\prabh\\Anaconda3\\lib\\site-packages\\seaborn\\axisgrid.py:230: UserWarning: The `size` paramter has been renamed to `height`; please update your code.\n",
      "  warnings.warn(msg, UserWarning)\n",
      "C:\\Users\\prabh\\Anaconda3\\lib\\site-packages\\scipy\\stats\\stats.py:1713: FutureWarning: Using a non-tuple sequence for multidimensional indexing is deprecated; use `arr[tuple(seq)]` instead of `arr[seq]`. In the future this will be interpreted as an array index, `arr[np.array(seq)]`, which will result either in an error or a different result.\n",
      "  return np.add.reduce(sorted[indexer] * weights, axis=axis) / sumval\n"
     ]
    },
    {
     "data": {
      "text/plain": [
       "<seaborn.axisgrid.FacetGrid at 0x26e5168f198>"
      ]
     },
     "execution_count": 372,
     "metadata": {},
     "output_type": "execute_result"
    },
    {
     "data": {
      "image/png": "[encoded data removed]",
      "text/plain": [
       "<Figure size 485.25x432 with 1 Axes>"
      ]
     },
     "metadata": {
      "needs_background": "light"
     },
     "output_type": "display_data"
    }
   ],
   "source": [
    "sns.FacetGrid(data, hue=\"Phishing\", size=6).map(sns.distplot,'Alexa Ranking').add_legend()"
   ]
  },
  {
   "cell_type": "code",
   "execution_count": 376,
   "metadata": {},
   "outputs": [],
   "source": [
    "numerical_features.append('Alexa Ranking')"
   ]
  },
  {
   "cell_type": "code",
   "execution_count": 377,
   "metadata": {},
   "outputs": [],
   "source": [
    "#Status: keep it"
   ]
  },
  {
   "cell_type": "code",
   "execution_count": null,
   "metadata": {},
   "outputs": [],
   "source": []
  },
  {
   "cell_type": "code",
   "execution_count": 381,
   "metadata": {},
   "outputs": [],
   "source": [
    "numerical_features.append('URL Length')"
   ]
  },
  {
   "cell_type": "code",
   "execution_count": 384,
   "metadata": {},
   "outputs": [
    {
     "data": {
      "text/plain": [
       "-1    2009\n",
       " 1     133\n",
       "Name: URL Shortened, dtype: int64"
      ]
     },
     "execution_count": 384,
     "metadata": {},
     "output_type": "execute_result"
    }
   ],
   "source": [
    "data['URL Shortened'].value_counts()"
   ]
  },
  {
   "cell_type": "code",
   "execution_count": 386,
   "metadata": {},
   "outputs": [
    {
     "data": {
      "text/plain": [
       "<matplotlib.axes._subplots.AxesSubplot at 0x26e588abe80>"
      ]
     },
     "execution_count": 386,
     "metadata": {},
     "output_type": "execute_result"
    },
    {
     "data": {
      "image/png": "[encoded data removed]",
      "text/plain": [
       "<Figure size 432x288 with 1 Axes>"
      ]
     },
     "metadata": {
      "needs_background": "light"
     },
     "output_type": "display_data"
    }
   ],
   "source": [
    "sns.countplot(x=\"URL Shortened\", hue=\"Phishing\", data= data)"
   ]
  },
  {
   "cell_type": "code",
   "execution_count": 388,
   "metadata": {},
   "outputs": [],
   "source": [
    "# Not much information ; "
   ]
  },
  {
   "cell_type": "code",
   "execution_count": 392,
   "metadata": {},
   "outputs": [
    {
     "data": {
      "text/plain": [
       " 1    2126\n",
       "-1      16\n",
       "Name: Redirects User, dtype: int64"
      ]
     },
     "execution_count": 392,
     "metadata": {},
     "output_type": "execute_result"
    }
   ],
   "source": [
    "data['Redirects User'].value_counts()"
   ]
  },
  {
   "cell_type": "code",
   "execution_count": 396,
   "metadata": {},
   "outputs": [],
   "source": [
    "# Not enough distinction"
   ]
  },
  {
   "cell_type": "code",
   "execution_count": 397,
   "metadata": {},
   "outputs": [
    {
     "data": {
      "text/plain": [
       " 1    2124\n",
       "-1      18\n",
       "Name: URL has @ Symbol, dtype: int64"
      ]
     },
     "execution_count": 397,
     "metadata": {},
     "output_type": "execute_result"
    }
   ],
   "source": [
    "data['URL has @ Symbol'].value_counts()"
   ]
  },
  {
   "cell_type": "code",
   "execution_count": 398,
   "metadata": {},
   "outputs": [],
   "source": [
    "# Not enough distinction"
   ]
  },
  {
   "cell_type": "code",
   "execution_count": 401,
   "metadata": {},
   "outputs": [
    {
     "data": {
      "text/plain": [
       "-1    1560\n",
       " 1     582\n",
       "Name: URL has HTTPS, dtype: int64"
      ]
     },
     "execution_count": 401,
     "metadata": {},
     "output_type": "execute_result"
    }
   ],
   "source": [
    "data['URL has HTTPS'].value_counts()"
   ]
  },
  {
   "cell_type": "code",
   "execution_count": null,
   "metadata": {},
   "outputs": [],
   "source": []
  },
  {
   "cell_type": "code",
   "execution_count": 403,
   "metadata": {},
   "outputs": [
    {
     "data": {
      "text/plain": [
       "['Subdomains', 'Anchor Tag', 'SSL Expiry Date', 'Alexa Ranking', 'URL Length']"
      ]
     },
     "execution_count": 403,
     "metadata": {},
     "output_type": "execute_result"
    }
   ],
   "source": [
    "numerical_features"
   ]
  },
  {
   "cell_type": "code",
   "execution_count": 408,
   "metadata": {},
   "outputs": [],
   "source": [
    "pairs = numerical_features"
   ]
  },
  {
   "cell_type": "code",
   "execution_count": 409,
   "metadata": {},
   "outputs": [],
   "source": [
    "pairs.append('Phishing')"
   ]
  },
  {
   "cell_type": "code",
   "execution_count": 410,
   "metadata": {},
   "outputs": [
    {
     "name": "stderr",
     "output_type": "stream",
     "text": [
      "C:\\Users\\prabh\\Anaconda3\\lib\\site-packages\\scipy\\stats\\stats.py:1713: FutureWarning: Using a non-tuple sequence for multidimensional indexing is deprecated; use `arr[tuple(seq)]` instead of `arr[seq]`. In the future this will be interpreted as an array index, `arr[np.array(seq)]`, which will result either in an error or a different result.\n",
      "  return np.add.reduce(sorted[indexer] * weights, axis=axis) / sumval\n"
     ]
    },
    {
     "data": {
      "text/plain": [
       "<seaborn.axisgrid.PairGrid at 0x26e6a94aac8>"
      ]
     },
     "execution_count": 410,
     "metadata": {},
     "output_type": "execute_result"
    },
    {
     "data": {
      "image/png": "[encoded data removed]",
      "text/plain": [
       "<Figure size 953.25x900 with 30 Axes>"
      ]
     },
     "metadata": {
      "needs_background": "light"
     },
     "output_type": "display_data"
    }
   ],
   "source": [
    "sns.pairplot(data[pairs],hue='Phishing')"
   ]
  },
  {
   "cell_type": "code",
   "execution_count": null,
   "metadata": {},
   "outputs": [],
   "source": []
  },
  {
   "cell_type": "code",
   "execution_count": 415,
   "metadata": {},
   "outputs": [],
   "source": [
    "numerical_features.remove(\"Phishing\")"
   ]
  },
  {
   "cell_type": "code",
   "execution_count": null,
   "metadata": {},
   "outputs": [],
   "source": []
  },
  {
   "cell_type": "code",
   "execution_count": 424,
   "metadata": {},
   "outputs": [
    {
     "name": "stderr",
     "output_type": "stream",
     "text": [
      "C:\\Users\\prabh\\Anaconda3\\lib\\site-packages\\sklearn\\utils\\validation.py:475: DataConversionWarning: Data with input dtype int64 was converted to float64 by the scale function.\n",
      "  warnings.warn(msg, DataConversionWarning)\n",
      "C:\\Users\\prabh\\Anaconda3\\lib\\site-packages\\sklearn\\utils\\validation.py:475: DataConversionWarning: Data with input dtype int64 was converted to float64 by the scale function.\n",
      "  warnings.warn(msg, DataConversionWarning)\n",
      "C:\\Users\\prabh\\Anaconda3\\lib\\site-packages\\sklearn\\utils\\validation.py:475: DataConversionWarning: Data with input dtype int64 was converted to float64 by the scale function.\n",
      "  warnings.warn(msg, DataConversionWarning)\n",
      "C:\\Users\\prabh\\Anaconda3\\lib\\site-packages\\sklearn\\utils\\validation.py:475: DataConversionWarning: Data with input dtype int64 was converted to float64 by the scale function.\n",
      "  warnings.warn(msg, DataConversionWarning)\n",
      "C:\\Users\\prabh\\Anaconda3\\lib\\site-packages\\sklearn\\utils\\validation.py:475: DataConversionWarning: Data with input dtype int64 was converted to float64 by the scale function.\n",
      "  warnings.warn(msg, DataConversionWarning)\n"
     ]
    }
   ],
   "source": [
    "for col in numerical_features:\n",
    "    data[col] = scale(data[col])"
   ]
  },
  {
   "cell_type": "code",
   "execution_count": null,
   "metadata": {},
   "outputs": [],
   "source": []
  },
  {
   "cell_type": "code",
   "execution_count": null,
   "metadata": {},
   "outputs": [],
   "source": []
  },
  {
   "cell_type": "code",
   "execution_count": 431,
   "metadata": {},
   "outputs": [
    {
     "data": {
      "text/plain": [
       "Index(['URL', 'embedded_domain_in_path', 'ip_address', 'dictionary_word',\n",
       "       'targeted_brand', 'ext url', 'Phishing', 'Subdomains', 'Prefix-Suffix',\n",
       "       'Anchor Tag', 'Forms', 'SSL Expiry Date', 'SSL Cert Check',\n",
       "       'Alexa Ranking', 'URL Length', 'URL Shortened', 'Redirects User',\n",
       "       'URL has @ Symbol', 'URL has HTTPS'],\n",
       "      dtype='object')"
      ]
     },
     "execution_count": 431,
     "metadata": {},
     "output_type": "execute_result"
    }
   ],
   "source": [
    "data.columns"
   ]
  },
  {
   "cell_type": "code",
   "execution_count": 428,
   "metadata": {},
   "outputs": [],
   "source": [
    "model = TSNE(n_components=2, random_state=0)"
   ]
  },
  {
   "cell_type": "code",
   "execution_count": 432,
   "metadata": {},
   "outputs": [],
   "source": [
    "X = data.drop(['Phishing','URL'],axis=1)"
   ]
  },
  {
   "cell_type": "code",
   "execution_count": 435,
   "metadata": {},
   "outputs": [],
   "source": [
    "data['Phishing'].replace('yes','1',inplace=True)"
   ]
  },
  {
   "cell_type": "code",
   "execution_count": 437,
   "metadata": {},
   "outputs": [],
   "source": [
    "data['Phishing'].replace('no','0',inplace=True)"
   ]
  },
  {
   "cell_type": "code",
   "execution_count": 438,
   "metadata": {},
   "outputs": [],
   "source": [
    "y = data['Phishing']"
   ]
  },
  {
   "cell_type": "code",
   "execution_count": 439,
   "metadata": {},
   "outputs": [],
   "source": [
    "tsne_data = model.fit_transform(X)"
   ]
  },
  {
   "cell_type": "code",
   "execution_count": 440,
   "metadata": {},
   "outputs": [],
   "source": [
    "tsne_data = np.vstack((tsne_data.T, y)).T"
   ]
  },
  {
   "cell_type": "code",
   "execution_count": 441,
   "metadata": {},
   "outputs": [
    {
     "data": {
      "text/plain": [
       "array([[-18.12958526611328, -27.14824676513672, '1'],\n",
       "       [-45.64045715332031, -23.952043533325195, '0'],\n",
       "       [22.156965255737305, 38.51922607421875, '1'],\n",
       "       ...,\n",
       "       [36.304779052734375, 20.637802124023438, '0'],\n",
       "       [37.55514144897461, 21.1378173828125, '0'],\n",
       "       [70.81363677978516, -1.3471229076385498, '1']], dtype=object)"
      ]
     },
     "execution_count": 441,
     "metadata": {},
     "output_type": "execute_result"
    }
   ],
   "source": [
    "tsne_data"
   ]
  },
  {
   "cell_type": "code",
   "execution_count": 444,
   "metadata": {},
   "outputs": [
    {
     "data": {
      "text/plain": [
       "2142"
      ]
     },
     "execution_count": 444,
     "metadata": {},
     "output_type": "execute_result"
    }
   ],
   "source": [
    "len(tsne_data)"
   ]
  },
  {
   "cell_type": "code",
   "execution_count": 445,
   "metadata": {},
   "outputs": [
    {
     "data": {
      "text/html": [
       "<div>\n",
       "<style scoped>\n",
       "    .dataframe tbody tr th:only-of-type {\n",
       "        vertical-align: middle;\n",
       "    }\n",
       "\n",
       "    .dataframe tbody tr th {\n",
       "        vertical-align: top;\n",
       "    }\n",
       "\n",
       "    .dataframe thead th {\n",
       "        text-align: right;\n",
       "    }\n",
       "</style>\n",
       "<table border=\"1\" class=\"dataframe\">\n",
       "  <thead>\n",
       "    <tr style=\"text-align: right;\">\n",
       "      <th></th>\n",
       "      <th>Dim_1</th>\n",
       "      <th>Dim_2</th>\n",
       "      <th>label</th>\n",
       "    </tr>\n",
       "  </thead>\n",
       "  <tbody>\n",
       "    <tr>\n",
       "      <th>0</th>\n",
       "      <td>-18.1296</td>\n",
       "      <td>-27.1482</td>\n",
       "      <td>1</td>\n",
       "    </tr>\n",
       "    <tr>\n",
       "      <th>1</th>\n",
       "      <td>-45.6405</td>\n",
       "      <td>-23.952</td>\n",
       "      <td>0</td>\n",
       "    </tr>\n",
       "    <tr>\n",
       "      <th>2</th>\n",
       "      <td>22.157</td>\n",
       "      <td>38.5192</td>\n",
       "      <td>1</td>\n",
       "    </tr>\n",
       "    <tr>\n",
       "      <th>3</th>\n",
       "      <td>25.8022</td>\n",
       "      <td>19.3927</td>\n",
       "      <td>0</td>\n",
       "    </tr>\n",
       "    <tr>\n",
       "      <th>4</th>\n",
       "      <td>-14.8906</td>\n",
       "      <td>-4.23886</td>\n",
       "      <td>1</td>\n",
       "    </tr>\n",
       "  </tbody>\n",
       "</table>\n",
       "</div>"
      ],
      "text/plain": [
       "     Dim_1    Dim_2 label\n",
       "0 -18.1296 -27.1482     1\n",
       "1 -45.6405  -23.952     0\n",
       "2   22.157  38.5192     1\n",
       "3  25.8022  19.3927     0\n",
       "4 -14.8906 -4.23886     1"
      ]
     },
     "execution_count": 445,
     "metadata": {},
     "output_type": "execute_result"
    }
   ],
   "source": [
    "tsne_df = pd.DataFrame(data=tsne_data, columns=(\"Dim_1\", \"Dim_2\", \"label\"))\n",
    "tsne_df.head()"
   ]
  },
  {
   "cell_type": "code",
   "execution_count": 447,
   "metadata": {},
   "outputs": [
    {
     "data": {
      "image/png": "[encoded data removed]",
      "text/plain": [
       "<Figure size 474.375x432 with 1 Axes>"
      ]
     },
     "metadata": {
      "needs_background": "light"
     },
     "output_type": "display_data"
    }
   ],
   "source": [
    "sns.FacetGrid(tsne_df, hue=\"label\", height=6).map(plt.scatter, 'Dim_1', 'Dim_2').add_legend()\n",
    "plt.show()"
   ]
  },
  {
   "cell_type": "markdown",
   "metadata": {},
   "source": [
    "# Observations\n",
    "\n",
    "- T-SNE plot has made some well defined clusters\n",
    "- Generally the central area is covered by label - 1 i.e. Phishing websites while, label-0 or safe website have some clusters around the edges\n",
    "- Algorithms like K-NN might work wonders on this dataset ; Forest techniques and ensemble learning looks promising as well.\n",
    "- Overfitting may ruin the model as this application of detecting malicious websites will observe so much unseen data once productionized"
   ]
  },
  {
   "cell_type": "code",
   "execution_count": null,
   "metadata": {},
   "outputs": [],
   "source": []
  }
 ],
 "metadata": {
  "kernelspec": {
   "display_name": "Python 3",
   "language": "python",
   "name": "python3"
  },
  "language_info": {
   "codemirror_mode": {
    "name": "ipython",
    "version": 3
   },
   "file_extension": ".py",
   "mimetype": "text/x-python",
   "name": "python",
   "nbconvert_exporter": "python",
   "pygments_lexer": "ipython3",
   "version": "3.7.0"
  }
 },
 "nbformat": 4,
 "nbformat_minor": 2
}
