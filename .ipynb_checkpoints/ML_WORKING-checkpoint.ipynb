{
 "cells": [
  {
   "cell_type": "code",
   "execution_count": 1,
   "metadata": {},
   "outputs": [],
   "source": [
    "import pandas as pd\n",
    "import numpy as np\n",
    "import matplotlib.pyplot as plt\n",
    "%matplotlib inline\n",
    "import seaborn as sns\n",
    "from sklearn.preprocessing import scale\n",
    "from sklearn.model_selection import train_test_split, cross_val_score\n",
    "from sklearn.neighbors import KNeighborsClassifier\n",
    "from sklearn.metrics import accuracy_score, confusion_matrix\n",
    "from prettytable import PrettyTable\n",
    "from sklearn.metrics import precision_score, recall_score, f1_score, make_scorer\n",
    "from sklearn.naive_bayes import GaussianNB, MultinomialNB\n",
    "from geneticfs import GeneticFS"
   ]
  },
  {
   "cell_type": "code",
   "execution_count": 2,
   "metadata": {},
   "outputs": [],
   "source": [
    "data = pd.read_csv('final_cleaned_dataset.csv')"
   ]
  },
  {
   "cell_type": "code",
   "execution_count": 9,
   "metadata": {},
   "outputs": [
    {
     "data": {
      "text/plain": [
       "<matplotlib.axes._subplots.AxesSubplot at 0x14d5869f748>"
      ]
     },
     "execution_count": 9,
     "metadata": {},
     "output_type": "execute_result"
    },
    {
     "data": {
      "image/png": "[encoded data removed]",
      "text/plain": [
       "<Figure size 432x288 with 2 Axes>"
      ]
     },
     "metadata": {
      "needs_background": "light"
     },
     "output_type": "display_data"
    }
   ],
   "source": [
    "sns.heatmap(pd.isnull(data))"
   ]
  },
  {
   "cell_type": "code",
   "execution_count": 10,
   "metadata": {},
   "outputs": [
    {
     "data": {
      "text/plain": [
       "Index(['URL', 'embedded_domain_in_path', 'ip_address', 'dictionary_word',\n",
       "       'targeted_brand', 'ext url', 'Phishing', 'Subdomains', 'Prefix-Suffix',\n",
       "       'Anchor Tag', 'Tags', 'Forms', 'SSL Expiry Date', 'SSL Cert Check',\n",
       "       'Alexa Ranking', 'URL Length', 'URL Shortened', 'Redirects User',\n",
       "       'URL has @ Symbol', 'URL has HTTPS', 'URL Small', 'URL Medium',\n",
       "       'URL Large', 'Small Domain', 'Large Domain', 'ORG Domain', 'COM Domain',\n",
       "       'Has PHP Pages', 'Is Palindrome', 'Numbers in Domain', 'X Domain',\n",
       "       'Vowels in URL', 'Deal in URL', 'Download in URL', 'Free in URL',\n",
       "       'BJKT in URL', 'URL is Happy', 'Just Why', 'Rar or Zip in URL',\n",
       "       'Large number of Subdomains', 'Small number of Subdomains'],\n",
       "      dtype='object')"
      ]
     },
     "execution_count": 10,
     "metadata": {},
     "output_type": "execute_result"
    }
   ],
   "source": [
    "data.columns"
   ]
  },
  {
   "cell_type": "code",
   "execution_count": 11,
   "metadata": {},
   "outputs": [
    {
     "data": {
      "text/plain": [
       "41"
      ]
     },
     "execution_count": 11,
     "metadata": {},
     "output_type": "execute_result"
    }
   ],
   "source": [
    "len(data.columns)"
   ]
  },
  {
   "cell_type": "code",
   "execution_count": 3,
   "metadata": {},
   "outputs": [],
   "source": [
    "data['Phishing'].replace('yes',1, inplace=True)\n",
    "data['Phishing'].replace('no',0, inplace=True)"
   ]
  },
  {
   "cell_type": "code",
   "execution_count": 4,
   "metadata": {},
   "outputs": [],
   "source": [
    "numerical_features = ['Subdomains', 'Anchor Tag', 'SSL Expiry Date', 'Alexa Ranking', 'URL Length', 'Vowels in URL']"
   ]
  },
  {
   "cell_type": "code",
   "execution_count": 5,
   "metadata": {},
   "outputs": [],
   "source": [
    "data.drop(['Tags'],axis=1,inplace=True)"
   ]
  },
  {
   "cell_type": "code",
   "execution_count": 6,
   "metadata": {},
   "outputs": [
    {
     "name": "stderr",
     "output_type": "stream",
     "text": [
      "C:\\Users\\prabh\\Anaconda3\\lib\\site-packages\\sklearn\\utils\\validation.py:590: DataConversionWarning: Data with input dtype int64 was converted to float64 by the scale function.\n",
      "  warnings.warn(msg, DataConversionWarning)\n",
      "C:\\Users\\prabh\\Anaconda3\\lib\\site-packages\\sklearn\\utils\\validation.py:590: DataConversionWarning: Data with input dtype int64 was converted to float64 by the scale function.\n",
      "  warnings.warn(msg, DataConversionWarning)\n",
      "C:\\Users\\prabh\\Anaconda3\\lib\\site-packages\\sklearn\\utils\\validation.py:590: DataConversionWarning: Data with input dtype int64 was converted to float64 by the scale function.\n",
      "  warnings.warn(msg, DataConversionWarning)\n",
      "C:\\Users\\prabh\\Anaconda3\\lib\\site-packages\\sklearn\\utils\\validation.py:590: DataConversionWarning: Data with input dtype int64 was converted to float64 by the scale function.\n",
      "  warnings.warn(msg, DataConversionWarning)\n",
      "C:\\Users\\prabh\\Anaconda3\\lib\\site-packages\\sklearn\\utils\\validation.py:590: DataConversionWarning: Data with input dtype int64 was converted to float64 by the scale function.\n",
      "  warnings.warn(msg, DataConversionWarning)\n",
      "C:\\Users\\prabh\\Anaconda3\\lib\\site-packages\\sklearn\\utils\\validation.py:590: DataConversionWarning: Data with input dtype int64 was converted to float64 by the scale function.\n",
      "  warnings.warn(msg, DataConversionWarning)\n"
     ]
    }
   ],
   "source": [
    "for col in numerical_features:\n",
    "    data[col] = scale(data[col].values)"
   ]
  },
  {
   "cell_type": "code",
   "execution_count": 7,
   "metadata": {},
   "outputs": [
    {
     "data": {
      "text/html": [
       "<div>\n",
       "<style scoped>\n",
       "    .dataframe tbody tr th:only-of-type {\n",
       "        vertical-align: middle;\n",
       "    }\n",
       "\n",
       "    .dataframe tbody tr th {\n",
       "        vertical-align: top;\n",
       "    }\n",
       "\n",
       "    .dataframe thead th {\n",
       "        text-align: right;\n",
       "    }\n",
       "</style>\n",
       "<table border=\"1\" class=\"dataframe\">\n",
       "  <thead>\n",
       "    <tr style=\"text-align: right;\">\n",
       "      <th></th>\n",
       "      <th>URL</th>\n",
       "      <th>embedded_domain_in_path</th>\n",
       "      <th>ip_address</th>\n",
       "      <th>dictionary_word</th>\n",
       "      <th>targeted_brand</th>\n",
       "      <th>ext url</th>\n",
       "      <th>Phishing</th>\n",
       "      <th>Subdomains</th>\n",
       "      <th>Prefix-Suffix</th>\n",
       "      <th>Anchor Tag</th>\n",
       "      <th>...</th>\n",
       "      <th>Vowels in URL</th>\n",
       "      <th>Deal in URL</th>\n",
       "      <th>Download in URL</th>\n",
       "      <th>Free in URL</th>\n",
       "      <th>BJKT in URL</th>\n",
       "      <th>URL is Happy</th>\n",
       "      <th>Just Why</th>\n",
       "      <th>Rar or Zip in URL</th>\n",
       "      <th>Large number of Subdomains</th>\n",
       "      <th>Small number of Subdomains</th>\n",
       "    </tr>\n",
       "  </thead>\n",
       "  <tbody>\n",
       "    <tr>\n",
       "      <th>0</th>\n",
       "      <td>https://locking-app-adverds.000webhostapp.com/...</td>\n",
       "      <td>1</td>\n",
       "      <td>-1</td>\n",
       "      <td>1</td>\n",
       "      <td>-1</td>\n",
       "      <td>-1</td>\n",
       "      <td>1</td>\n",
       "      <td>0.284342</td>\n",
       "      <td>-1</td>\n",
       "      <td>0.937982</td>\n",
       "      <td>...</td>\n",
       "      <td>0.759499</td>\n",
       "      <td>-1</td>\n",
       "      <td>-1</td>\n",
       "      <td>-1</td>\n",
       "      <td>-1</td>\n",
       "      <td>1</td>\n",
       "      <td>1</td>\n",
       "      <td>-1</td>\n",
       "      <td>-1</td>\n",
       "      <td>-1</td>\n",
       "    </tr>\n",
       "    <tr>\n",
       "      <th>1</th>\n",
       "      <td>https://mxtoolbox.com/public/upgradev2.aspx?ps...</td>\n",
       "      <td>0</td>\n",
       "      <td>-1</td>\n",
       "      <td>-1</td>\n",
       "      <td>-1</td>\n",
       "      <td>-1</td>\n",
       "      <td>0</td>\n",
       "      <td>-0.989844</td>\n",
       "      <td>1</td>\n",
       "      <td>-0.666334</td>\n",
       "      <td>...</td>\n",
       "      <td>2.197964</td>\n",
       "      <td>-1</td>\n",
       "      <td>-1</td>\n",
       "      <td>-1</td>\n",
       "      <td>-1</td>\n",
       "      <td>1</td>\n",
       "      <td>1</td>\n",
       "      <td>-1</td>\n",
       "      <td>-1</td>\n",
       "      <td>1</td>\n",
       "    </tr>\n",
       "    <tr>\n",
       "      <th>2</th>\n",
       "      <td>http://parolishop.com.br/questionreviews.htm</td>\n",
       "      <td>0</td>\n",
       "      <td>-1</td>\n",
       "      <td>-1</td>\n",
       "      <td>-1</td>\n",
       "      <td>-1</td>\n",
       "      <td>1</td>\n",
       "      <td>0.284342</td>\n",
       "      <td>1</td>\n",
       "      <td>0.860532</td>\n",
       "      <td>...</td>\n",
       "      <td>-0.402337</td>\n",
       "      <td>-1</td>\n",
       "      <td>-1</td>\n",
       "      <td>-1</td>\n",
       "      <td>-1</td>\n",
       "      <td>-1</td>\n",
       "      <td>1</td>\n",
       "      <td>-1</td>\n",
       "      <td>-1</td>\n",
       "      <td>-1</td>\n",
       "    </tr>\n",
       "    <tr>\n",
       "      <th>3</th>\n",
       "      <td>http://innovate.ieee.org/innovate/35675?lt=xpl...</td>\n",
       "      <td>1</td>\n",
       "      <td>-1</td>\n",
       "      <td>-1</td>\n",
       "      <td>-1</td>\n",
       "      <td>-1</td>\n",
       "      <td>0</td>\n",
       "      <td>0.284342</td>\n",
       "      <td>1</td>\n",
       "      <td>-0.721656</td>\n",
       "      <td>...</td>\n",
       "      <td>-0.125709</td>\n",
       "      <td>-1</td>\n",
       "      <td>-1</td>\n",
       "      <td>-1</td>\n",
       "      <td>-1</td>\n",
       "      <td>-1</td>\n",
       "      <td>1</td>\n",
       "      <td>-1</td>\n",
       "      <td>-1</td>\n",
       "      <td>-1</td>\n",
       "    </tr>\n",
       "    <tr>\n",
       "      <th>4</th>\n",
       "      <td>http://ietbhaddal.edu.in/bb.mobile/mobile/inde...</td>\n",
       "      <td>0</td>\n",
       "      <td>-1</td>\n",
       "      <td>-1</td>\n",
       "      <td>1</td>\n",
       "      <td>-1</td>\n",
       "      <td>1</td>\n",
       "      <td>0.284342</td>\n",
       "      <td>1</td>\n",
       "      <td>0.937982</td>\n",
       "      <td>...</td>\n",
       "      <td>-0.236360</td>\n",
       "      <td>-1</td>\n",
       "      <td>-1</td>\n",
       "      <td>-1</td>\n",
       "      <td>-1</td>\n",
       "      <td>-1</td>\n",
       "      <td>1</td>\n",
       "      <td>-1</td>\n",
       "      <td>-1</td>\n",
       "      <td>-1</td>\n",
       "    </tr>\n",
       "  </tbody>\n",
       "</table>\n",
       "<p>5 rows × 40 columns</p>\n",
       "</div>"
      ],
      "text/plain": [
       "                                                 URL  embedded_domain_in_path  \\\n",
       "0  https://locking-app-adverds.000webhostapp.com/...                        1   \n",
       "1  https://mxtoolbox.com/public/upgradev2.aspx?ps...                        0   \n",
       "2       http://parolishop.com.br/questionreviews.htm                        0   \n",
       "3  http://innovate.ieee.org/innovate/35675?lt=xpl...                        1   \n",
       "4  http://ietbhaddal.edu.in/bb.mobile/mobile/inde...                        0   \n",
       "\n",
       "   ip_address  dictionary_word  targeted_brand  ext url  Phishing  Subdomains  \\\n",
       "0          -1                1              -1       -1         1    0.284342   \n",
       "1          -1               -1              -1       -1         0   -0.989844   \n",
       "2          -1               -1              -1       -1         1    0.284342   \n",
       "3          -1               -1              -1       -1         0    0.284342   \n",
       "4          -1               -1               1       -1         1    0.284342   \n",
       "\n",
       "   Prefix-Suffix  Anchor Tag             ...              Vowels in URL  \\\n",
       "0             -1    0.937982             ...                   0.759499   \n",
       "1              1   -0.666334             ...                   2.197964   \n",
       "2              1    0.860532             ...                  -0.402337   \n",
       "3              1   -0.721656             ...                  -0.125709   \n",
       "4              1    0.937982             ...                  -0.236360   \n",
       "\n",
       "   Deal in URL  Download in URL  Free in URL  BJKT in URL  URL is Happy  \\\n",
       "0           -1               -1           -1           -1             1   \n",
       "1           -1               -1           -1           -1             1   \n",
       "2           -1               -1           -1           -1            -1   \n",
       "3           -1               -1           -1           -1            -1   \n",
       "4           -1               -1           -1           -1            -1   \n",
       "\n",
       "   Just Why  Rar or Zip in URL  Large number of Subdomains  \\\n",
       "0         1                 -1                          -1   \n",
       "1         1                 -1                          -1   \n",
       "2         1                 -1                          -1   \n",
       "3         1                 -1                          -1   \n",
       "4         1                 -1                          -1   \n",
       "\n",
       "   Small number of Subdomains  \n",
       "0                          -1  \n",
       "1                           1  \n",
       "2                          -1  \n",
       "3                          -1  \n",
       "4                          -1  \n",
       "\n",
       "[5 rows x 40 columns]"
      ]
     },
     "execution_count": 7,
     "metadata": {},
     "output_type": "execute_result"
    }
   ],
   "source": [
    "data.head()"
   ]
  },
  {
   "cell_type": "code",
   "execution_count": 8,
   "metadata": {},
   "outputs": [],
   "source": [
    "y = data['Phishing'].values"
   ]
  },
  {
   "cell_type": "code",
   "execution_count": null,
   "metadata": {},
   "outputs": [],
   "source": []
  },
  {
   "cell_type": "code",
   "execution_count": 9,
   "metadata": {},
   "outputs": [],
   "source": [
    "data.drop(['Phishing'], axis=1, inplace=True)"
   ]
  },
  {
   "cell_type": "code",
   "execution_count": 10,
   "metadata": {},
   "outputs": [],
   "source": [
    "data.drop(['URL'],axis=1,inplace=True)"
   ]
  },
  {
   "cell_type": "code",
   "execution_count": 11,
   "metadata": {},
   "outputs": [
    {
     "data": {
      "text/plain": [
       "Index(['embedded_domain_in_path', 'ip_address', 'dictionary_word',\n",
       "       'targeted_brand', 'ext url', 'Subdomains', 'Prefix-Suffix',\n",
       "       'Anchor Tag', 'Forms', 'SSL Expiry Date', 'SSL Cert Check',\n",
       "       'Alexa Ranking', 'URL Length', 'URL Shortened', 'Redirects User',\n",
       "       'URL has @ Symbol', 'URL has HTTPS', 'URL Small', 'URL Medium',\n",
       "       'URL Large', 'Small Domain', 'Large Domain', 'ORG Domain', 'COM Domain',\n",
       "       'Has PHP Pages', 'Is Palindrome', 'Numbers in Domain', 'X Domain',\n",
       "       'Vowels in URL', 'Deal in URL', 'Download in URL', 'Free in URL',\n",
       "       'BJKT in URL', 'URL is Happy', 'Just Why', 'Rar or Zip in URL',\n",
       "       'Large number of Subdomains', 'Small number of Subdomains'],\n",
       "      dtype='object')"
      ]
     },
     "execution_count": 11,
     "metadata": {},
     "output_type": "execute_result"
    }
   ],
   "source": [
    "data.columns"
   ]
  },
  {
   "cell_type": "code",
   "execution_count": 12,
   "metadata": {},
   "outputs": [],
   "source": [
    "all_X_cols = data.columns.values"
   ]
  },
  {
   "cell_type": "code",
   "execution_count": 13,
   "metadata": {},
   "outputs": [],
   "source": [
    "all_X = data[all_X_cols]"
   ]
  },
  {
   "cell_type": "code",
   "execution_count": null,
   "metadata": {},
   "outputs": [],
   "source": []
  },
  {
   "cell_type": "code",
   "execution_count": null,
   "metadata": {},
   "outputs": [],
   "source": []
  },
  {
   "cell_type": "code",
   "execution_count": null,
   "metadata": {},
   "outputs": [],
   "source": []
  },
  {
   "cell_type": "code",
   "execution_count": 14,
   "metadata": {},
   "outputs": [],
   "source": [
    "#KNN\n"
   ]
  },
  {
   "cell_type": "code",
   "execution_count": 15,
   "metadata": {},
   "outputs": [],
   "source": [
    "X_train, X_test, y_train, y_test = train_test_split( all_X, y, test_size=0.30, random_state=0)"
   ]
  },
  {
   "cell_type": "code",
   "execution_count": 16,
   "metadata": {},
   "outputs": [],
   "source": [
    "def knn_kfold_validation(neighbours, X_train, y_train, algo='auto'):\n",
    "    cv_scores=[]\n",
    "    for k in neighbours:\n",
    "        knn = KNeighborsClassifier(n_neighbors=k,algorithm='brute')\n",
    "        scores = cross_val_score(knn, X_train, y_train, scoring='accuracy', cv=5)\n",
    "        cv_scores.append(scores.mean())\n",
    "        print(\"K : %d , Score : %f\" % (k,scores.mean()))\n",
    "    return cv_scores\n",
    "\n",
    "def optimal_k_plot(neighbours, cv_scores):    \n",
    "    optimal_k = neighbours[cv_scores.index(max(cv_scores))]\n",
    "    plt.plot(neighbours, cv_scores)\n",
    "    for xy in zip(neighbours,np.round(cv_scores,2)):\n",
    "        plt.annotate(\"('%s',%s)\"% xy, xy=xy, textcoords='data')\n",
    "    plt.xlabel('Number of Neighbors K')\n",
    "    plt.ylabel('CV_Scores')\n",
    "    print(\"CV_SCORES: \",cv_scores)\n",
    "    return optimal_k\n",
    "\n",
    "def optimal_knn(optimal_k, X_train, X_test, y_train, y_test, algo='auto'):\n",
    "    # ============================== KNN with k = optimal_k ===============================================\n",
    "    # instantiate learning model k = optimal_k\n",
    "    knn_optimal = KNeighborsClassifier(n_neighbors=optimal_k, algorithm = algo)\n",
    "\n",
    "    # fitting the model\n",
    "    knn_optimal.fit(X_train, y_train)\n",
    "\n",
    "    # predict the response\n",
    "    pred = knn_optimal.predict(X_test)\n",
    "\n",
    "    # evaluate accuracy\n",
    "    acc = accuracy_score(y_test, pred) * 100\n",
    "    print('\\nThe accuracy of the knn classifier for k = %d is %f%%' % (optimal_k, acc))\n",
    "    \n",
    "    return pred\n",
    "\n",
    "def gen_confusion_matrix(y_test,pred):\n",
    "    print(sns.heatmap(confusion_matrix(y_test,pred),cmap=\"viridis\",fmt='g', annot=True))\n",
    "    \n",
    "def gen_scores(y_test, pred):\n",
    "    gen_confusion_matrix(y_test,pred)\n",
    "    pre = np.round(precision_score(y_test,pred,average='weighted'),4)\n",
    "    recall = np.round(recall_score(y_test,pred,average='weighted'),4)\n",
    "    f1 = np.round(f1_score(y_test,pred,average='weighted'),4)\n",
    "    accuracy = np.round(accuracy_score(y_test,pred),4)\n",
    "    table = PrettyTable()\n",
    "    table.field_names = ['Precision Score', 'Recall Score', 'f1 Score', 'Accuracy']\n",
    "    table.add_row([pre,recall,f1,accuracy])\n",
    "    print(table)"
   ]
  },
  {
   "cell_type": "code",
   "execution_count": 17,
   "metadata": {},
   "outputs": [],
   "source": [
    "neighbours = list(range(1,41,2))"
   ]
  },
  {
   "cell_type": "code",
   "execution_count": 18,
   "metadata": {},
   "outputs": [
    {
     "name": "stdout",
     "output_type": "stream",
     "text": [
      "K : 1 , Score : 0.904615\n",
      "K : 3 , Score : 0.913287\n",
      "K : 5 , Score : 0.915284\n",
      "K : 7 , Score : 0.913280\n",
      "K : 9 , Score : 0.909942\n",
      "K : 11 , Score : 0.898609\n",
      "K : 13 , Score : 0.899946\n",
      "K : 15 , Score : 0.893280\n",
      "K : 17 , Score : 0.895944\n",
      "K : 19 , Score : 0.895949\n",
      "K : 21 , Score : 0.892613\n",
      "K : 23 , Score : 0.895280\n",
      "K : 25 , Score : 0.893951\n",
      "K : 27 , Score : 0.892618\n",
      "K : 29 , Score : 0.888618\n",
      "K : 31 , Score : 0.884618\n",
      "K : 33 , Score : 0.886615\n",
      "K : 35 , Score : 0.884615\n",
      "K : 37 , Score : 0.878613\n",
      "K : 39 , Score : 0.876613\n"
     ]
    }
   ],
   "source": [
    "cv_scores = knn_kfold_validation(neighbours, X_train, y_train)"
   ]
  },
  {
   "cell_type": "code",
   "execution_count": 80,
   "metadata": {},
   "outputs": [],
   "source": []
  },
  {
   "cell_type": "code",
   "execution_count": 110,
   "metadata": {},
   "outputs": [
    {
     "name": "stdout",
     "output_type": "stream",
     "text": [
      "CV_SCORES:  [0.9046153846153846, 0.9132865105908584, 0.9152842809364549, 0.9132798216276476, 0.9099420289855071, 0.8986086956521738, 0.8999464882943145, 0.8932798216276477, 0.8959442586399108, 0.895948717948718, 0.892613154960981, 0.8952798216276477, 0.8939509476031215, 0.8926176142697884, 0.8886176142697881, 0.8846176142697881, 0.8866153846153846, 0.8846153846153847, 0.8786131549609809, 0.876613154960981]\n"
     ]
    },
    {
     "data": {
      "text/plain": [
       "5"
      ]
     },
     "execution_count": 110,
     "metadata": {},
     "output_type": "execute_result"
    },
    {
     "data": {
      "image/png": "[encoded data removed]",
      "text/plain": [
       "<Figure size 432x288 with 1 Axes>"
      ]
     },
     "metadata": {
      "needs_background": "light"
     },
     "output_type": "display_data"
    }
   ],
   "source": [
    "optimal_k_plot(neighbours,cv_scores)"
   ]
  },
  {
   "cell_type": "code",
   "execution_count": 111,
   "metadata": {},
   "outputs": [],
   "source": [
    "optimal_k=5"
   ]
  },
  {
   "cell_type": "code",
   "execution_count": 112,
   "metadata": {},
   "outputs": [
    {
     "name": "stdout",
     "output_type": "stream",
     "text": [
      "\n",
      "The accuracy of the knn classifier for k = 5 is 92.690513%\n"
     ]
    }
   ],
   "source": [
    "pred = optimal_knn(optimal_k,X_train, X_test, y_train, y_test)"
   ]
  },
  {
   "cell_type": "code",
   "execution_count": null,
   "metadata": {},
   "outputs": [],
   "source": []
  },
  {
   "cell_type": "code",
   "execution_count": 119,
   "metadata": {},
   "outputs": [
    {
     "name": "stdout",
     "output_type": "stream",
     "text": [
      "AxesSubplot(0.125,0.125;0.62x0.755)\n",
      "+-----------------+--------------+----------+----------+\n",
      "| Precision Score | Recall Score | f1 Score | Accuracy |\n",
      "+-----------------+--------------+----------+----------+\n",
      "|      0.927      |    0.9269    |  0.9269  |  0.9269  |\n",
      "+-----------------+--------------+----------+----------+\n"
     ]
    },
    {
     "data": {
      "image/png": "[encoded data removed]",
      "text/plain": [
       "<Figure size 432x288 with 2 Axes>"
      ]
     },
     "metadata": {
      "needs_background": "light"
     },
     "output_type": "display_data"
    }
   ],
   "source": [
    "gen_scores(y_test, pred)"
   ]
  },
  {
   "cell_type": "code",
   "execution_count": 118,
   "metadata": {},
   "outputs": [],
   "source": []
  },
  {
   "cell_type": "code",
   "execution_count": null,
   "metadata": {},
   "outputs": [],
   "source": []
  },
  {
   "cell_type": "code",
   "execution_count": 120,
   "metadata": {},
   "outputs": [
    {
     "name": "stdout",
     "output_type": "stream",
     "text": [
      "Iteration 10 Complete [Time Taken For Last Iteration: 9.79 Seconds]\n",
      "Iteration 20 Complete [Time Taken For Last Iteration: 6.86 Seconds]\n",
      "Iteration 30 Complete [Time Taken For Last Iteration: 7.62 Seconds]\n",
      "Iteration 40 Complete [Time Taken For Last Iteration: 7.12 Seconds]\n",
      "Iteration 50 Complete [Time Taken For Last Iteration: 7.54 Seconds]\n",
      "Iteration 60 Complete [Time Taken For Last Iteration: 6.69 Seconds]\n",
      "Iteration 70 Complete [Time Taken For Last Iteration: 6.86 Seconds]\n",
      "Iteration 80 Complete [Time Taken For Last Iteration: 6.99 Seconds]\n",
      "Iteration 90 Complete [Time Taken For Last Iteration: 3.27 Seconds]\n",
      "Iteration 100 Complete [Time Taken For Last Iteration: 3.73 Seconds]\n"
     ]
    },
    {
     "data": {
      "image/png": "[encoded data removed]",
      "text/plain": [
       "<Figure size 432x288 with 1 Axes>"
      ]
     },
     "metadata": {
      "needs_background": "light"
     },
     "output_type": "display_data"
    }
   ],
   "source": [
    "\n",
    "\n",
    "\n",
    "gen_model = KNeighborsClassifier(n_neighbors=optimal_k)\n",
    "gfs = GeneticFS()\n",
    "\n",
    "# fit the optimizer\n",
    "gfs.fit(model=gen_model, _type='classification', X=all_X, y=y) # classification model\n",
    "\n",
    "# get results output\n",
    "binary_output_of_optimal_variables, indicies_of_optimal_variables = gfs.results()\n",
    "\n",
    "# plot results of progress\n",
    "gfs.plot_progress()"
   ]
  },
  {
   "cell_type": "code",
   "execution_count": 121,
   "metadata": {},
   "outputs": [
    {
     "data": {
      "text/plain": [
       "array([1, 1, 0, 0, 0, 1, 0, 1, 1, 1, 1, 0, 0, 0, 1, 1, 0, 1, 0, 0, 0, 0,\n",
       "       1, 1, 0, 1, 0, 1, 1, 0, 1, 1, 1, 0, 1, 1, 1, 0])"
      ]
     },
     "execution_count": 121,
     "metadata": {},
     "output_type": "execute_result"
    }
   ],
   "source": [
    "binary_output_of_optimal_variables"
   ]
  },
  {
   "cell_type": "code",
   "execution_count": 122,
   "metadata": {},
   "outputs": [
    {
     "data": {
      "text/plain": [
       "38"
      ]
     },
     "execution_count": 122,
     "metadata": {},
     "output_type": "execute_result"
    }
   ],
   "source": [
    "len(data.columns)"
   ]
  },
  {
   "cell_type": "code",
   "execution_count": null,
   "metadata": {},
   "outputs": [],
   "source": []
  },
  {
   "cell_type": "code",
   "execution_count": 127,
   "metadata": {},
   "outputs": [],
   "source": [
    "reduced_cols = list(all_X.columns[indicies_of_optimal_variables])"
   ]
  },
  {
   "cell_type": "code",
   "execution_count": 133,
   "metadata": {},
   "outputs": [],
   "source": [
    "#reduced_cols.remove('Is Palindrome')\n",
    "#reduced_cols.remove('BJKT in URL')\n",
    "#reduced_cols.remove('Just Why')"
   ]
  },
  {
   "cell_type": "code",
   "execution_count": 134,
   "metadata": {},
   "outputs": [],
   "source": [
    "reduced_X = all_X[reduced_cols]"
   ]
  },
  {
   "cell_type": "code",
   "execution_count": 135,
   "metadata": {},
   "outputs": [
    {
     "data": {
      "text/plain": [
       "Index(['embedded_domain_in_path', 'ip_address', 'Subdomains', 'Anchor Tag',\n",
       "       'Forms', 'SSL Expiry Date', 'SSL Cert Check', 'Redirects User',\n",
       "       'URL has @ Symbol', 'URL Small', 'ORG Domain', 'COM Domain', 'X Domain',\n",
       "       'Vowels in URL', 'Download in URL', 'Free in URL', 'Rar or Zip in URL',\n",
       "       'Large number of Subdomains'],\n",
       "      dtype='object')"
      ]
     },
     "execution_count": 135,
     "metadata": {},
     "output_type": "execute_result"
    }
   ],
   "source": [
    "reduced_X.columns"
   ]
  },
  {
   "cell_type": "code",
   "execution_count": 136,
   "metadata": {},
   "outputs": [],
   "source": [
    "X_train, X_test, y_train, y_test = train_test_split( reduced_X, y, test_size=0.30, random_state=0)"
   ]
  },
  {
   "cell_type": "code",
   "execution_count": 137,
   "metadata": {},
   "outputs": [
    {
     "name": "stdout",
     "output_type": "stream",
     "text": [
      "K : 1 , Score : 0.956647\n",
      "K : 3 , Score : 0.956649\n",
      "K : 5 , Score : 0.955978\n",
      "K : 7 , Score : 0.950633\n",
      "K : 9 , Score : 0.941291\n",
      "K : 11 , Score : 0.933291\n",
      "K : 13 , Score : 0.929955\n",
      "K : 15 , Score : 0.924624\n",
      "K : 17 , Score : 0.917291\n",
      "K : 19 , Score : 0.915955\n",
      "K : 21 , Score : 0.911287\n",
      "K : 23 , Score : 0.909284\n",
      "K : 25 , Score : 0.910618\n",
      "K : 27 , Score : 0.911949\n",
      "K : 29 , Score : 0.911949\n",
      "K : 31 , Score : 0.907944\n",
      "K : 33 , Score : 0.910611\n",
      "K : 35 , Score : 0.911275\n",
      "K : 37 , Score : 0.909942\n",
      "K : 39 , Score : 0.910606\n"
     ]
    }
   ],
   "source": [
    "cv_scores = knn_kfold_validation(neighbours, X_train, y_train)"
   ]
  },
  {
   "cell_type": "code",
   "execution_count": 138,
   "metadata": {},
   "outputs": [
    {
     "name": "stdout",
     "output_type": "stream",
     "text": [
      "CV_SCORES:  [0.9566465997770346, 0.9566488294314383, 0.9559777034559644, 0.950633221850613, 0.9412909698996655, 0.9332909698996655, 0.9299554069119287, 0.9246243032329989, 0.9172909698996655, 0.9159554069119287, 0.9112865105908584, 0.9092842809364547, 0.9106176142697884, 0.911948717948718, 0.911948717948718, 0.9079442586399109, 0.9106109253065775, 0.9112753623188405, 0.9099420289855071, 0.9106064659977704]\n"
     ]
    },
    {
     "data": {
      "text/plain": [
       "3"
      ]
     },
     "execution_count": 138,
     "metadata": {},
     "output_type": "execute_result"
    },
    {
     "data": {
      "image/png": "[encoded data removed]",
      "text/plain": [
       "<Figure size 432x288 with 1 Axes>"
      ]
     },
     "metadata": {
      "needs_background": "light"
     },
     "output_type": "display_data"
    }
   ],
   "source": [
    "optimal_k_plot(neighbours,cv_scores)"
   ]
  },
  {
   "cell_type": "code",
   "execution_count": 141,
   "metadata": {},
   "outputs": [
    {
     "name": "stdout",
     "output_type": "stream",
     "text": [
      "\n",
      "The accuracy of the knn classifier for k = 3 is 95.956454%\n"
     ]
    }
   ],
   "source": [
    "pred = optimal_knn(3,X_train, X_test, y_train, y_test)"
   ]
  },
  {
   "cell_type": "code",
   "execution_count": 142,
   "metadata": {},
   "outputs": [
    {
     "name": "stdout",
     "output_type": "stream",
     "text": [
      "AxesSubplot(0.125,0.125;0.62x0.755)\n",
      "+-----------------+--------------+----------+----------+\n",
      "| Precision Score | Recall Score | f1 Score | Accuracy |\n",
      "+-----------------+--------------+----------+----------+\n",
      "|      0.9599     |    0.9596    |  0.9596  |  0.9596  |\n",
      "+-----------------+--------------+----------+----------+\n"
     ]
    },
    {
     "data": {
      "image/png": "[encoded data removed]",
      "text/plain": [
       "<Figure size 432x288 with 2 Axes>"
      ]
     },
     "metadata": {
      "needs_background": "light"
     },
     "output_type": "display_data"
    }
   ],
   "source": [
    "gen_scores(y_test, pred)"
   ]
  },
  {
   "cell_type": "code",
   "execution_count": null,
   "metadata": {},
   "outputs": [],
   "source": []
  },
  {
   "cell_type": "code",
   "execution_count": null,
   "metadata": {},
   "outputs": [],
   "source": []
  },
  {
   "cell_type": "code",
   "execution_count": null,
   "metadata": {},
   "outputs": [],
   "source": []
  },
  {
   "cell_type": "code",
   "execution_count": null,
   "metadata": {},
   "outputs": [],
   "source": []
  },
  {
   "cell_type": "code",
   "execution_count": null,
   "metadata": {},
   "outputs": [],
   "source": []
  },
  {
   "cell_type": "code",
   "execution_count": 143,
   "metadata": {},
   "outputs": [],
   "source": [
    "#Naive Bayes"
   ]
  },
  {
   "cell_type": "code",
   "execution_count": null,
   "metadata": {},
   "outputs": [],
   "source": []
  },
  {
   "cell_type": "code",
   "execution_count": 145,
   "metadata": {},
   "outputs": [],
   "source": [
    "X_train, X_test, y_train, y_test = train_test_split( all_X, y, test_size=0.30, random_state=0)"
   ]
  },
  {
   "cell_type": "code",
   "execution_count": 152,
   "metadata": {},
   "outputs": [],
   "source": [
    "gnb = GaussianNB()"
   ]
  },
  {
   "cell_type": "code",
   "execution_count": 153,
   "metadata": {},
   "outputs": [
    {
     "data": {
      "text/plain": [
       "GaussianNB(priors=None, var_smoothing=1e-09)"
      ]
     },
     "execution_count": 153,
     "metadata": {},
     "output_type": "execute_result"
    }
   ],
   "source": [
    "gnb.fit(X_train, y_train)"
   ]
  },
  {
   "cell_type": "code",
   "execution_count": 154,
   "metadata": {},
   "outputs": [],
   "source": [
    "pred = gnb.predict(X_test)"
   ]
  },
  {
   "cell_type": "code",
   "execution_count": 155,
   "metadata": {},
   "outputs": [
    {
     "name": "stdout",
     "output_type": "stream",
     "text": [
      "AxesSubplot(0.125,0.125;0.62x0.755)\n",
      "+-----------------+--------------+----------+----------+\n",
      "| Precision Score | Recall Score | f1 Score | Accuracy |\n",
      "+-----------------+--------------+----------+----------+\n",
      "|      0.7603     |    0.6579    |  0.6277  |  0.6579  |\n",
      "+-----------------+--------------+----------+----------+\n"
     ]
    },
    {
     "data": {
      "image/png": "[encoded data removed]",
      "text/plain": [
       "<Figure size 432x288 with 2 Axes>"
      ]
     },
     "metadata": {
      "needs_background": "light"
     },
     "output_type": "display_data"
    }
   ],
   "source": [
    "gen_scores(y_test, pred)"
   ]
  },
  {
   "cell_type": "code",
   "execution_count": 156,
   "metadata": {},
   "outputs": [
    {
     "name": "stderr",
     "output_type": "stream",
     "text": [
      "C:\\Users\\prabh\\Anaconda3\\lib\\site-packages\\sklearn\\metrics\\classification.py:1143: UndefinedMetricWarning: F-score is ill-defined and being set to 0.0 in labels with no predicted samples.\n",
      "  'precision', 'predicted', average, warn_for)\n"
     ]
    },
    {
     "name": "stdout",
     "output_type": "stream",
     "text": [
      "Iteration 10 Complete [Time Taken For Last Iteration: 0.36 Seconds]\n",
      "Iteration 20 Complete [Time Taken For Last Iteration: 0.36 Seconds]\n",
      "Iteration 30 Complete [Time Taken For Last Iteration: 0.38 Seconds]\n",
      "Iteration 40 Complete [Time Taken For Last Iteration: 0.39 Seconds]\n",
      "Iteration 50 Complete [Time Taken For Last Iteration: 0.37 Seconds]\n",
      "Iteration 60 Complete [Time Taken For Last Iteration: 0.36 Seconds]\n",
      "Iteration 70 Complete [Time Taken For Last Iteration: 0.38 Seconds]\n",
      "Iteration 80 Complete [Time Taken For Last Iteration: 0.39 Seconds]\n",
      "Iteration 90 Complete [Time Taken For Last Iteration: 0.42 Seconds]\n",
      "Iteration 100 Complete [Time Taken For Last Iteration: 0.4 Seconds]\n"
     ]
    },
    {
     "data": {
      "image/png": "[encoded data removed]",
      "text/plain": [
       "<Figure size 432x288 with 1 Axes>"
      ]
     },
     "metadata": {
      "needs_background": "light"
     },
     "output_type": "display_data"
    }
   ],
   "source": [
    "gen_model = GaussianNB()\n",
    "gfs = GeneticFS()\n",
    "\n",
    "# fit the optimizer\n",
    "gfs.fit(model=gen_model, _type='classification', X=all_X, y=y) # classification model\n",
    "\n",
    "# get results output\n",
    "binary_output_of_optimal_variables, indicies_of_optimal_variables = gfs.results()\n",
    "\n",
    "# plot results of progress\n",
    "gfs.plot_progress()"
   ]
  },
  {
   "cell_type": "code",
   "execution_count": 157,
   "metadata": {},
   "outputs": [],
   "source": [
    "reduced_cols = list(all_X.columns[indicies_of_optimal_variables])"
   ]
  },
  {
   "cell_type": "code",
   "execution_count": null,
   "metadata": {},
   "outputs": [],
   "source": []
  },
  {
   "cell_type": "code",
   "execution_count": 161,
   "metadata": {},
   "outputs": [],
   "source": [
    "#reduced_cols.remove('Is Palindrome')\n",
    "#reduced_cols.remove('Vowels in URL')\n",
    "#reduced_cols.remove('BJKT in URL')\n",
    "#reduced_cols.remove('URL is Happy')\n",
    "#reduced_cols.remove('Just Why')"
   ]
  },
  {
   "cell_type": "code",
   "execution_count": 164,
   "metadata": {},
   "outputs": [],
   "source": [
    "reduced_X = all_X[reduced_cols]"
   ]
  },
  {
   "cell_type": "code",
   "execution_count": 165,
   "metadata": {},
   "outputs": [],
   "source": [
    "X_train, X_test, y_train, y_test = train_test_split( reduced_X, y, test_size=0.30, random_state=0)"
   ]
  },
  {
   "cell_type": "code",
   "execution_count": 166,
   "metadata": {},
   "outputs": [],
   "source": [
    "gnb = GaussianNB()\n",
    "gnb.fit(X_train, y_train)\n",
    "pred = gnb.predict(X_test)"
   ]
  },
  {
   "cell_type": "code",
   "execution_count": 167,
   "metadata": {},
   "outputs": [
    {
     "name": "stdout",
     "output_type": "stream",
     "text": [
      "AxesSubplot(0.125,0.125;0.62x0.755)\n",
      "+-----------------+--------------+----------+----------+\n",
      "| Precision Score | Recall Score | f1 Score | Accuracy |\n",
      "+-----------------+--------------+----------+----------+\n",
      "|      0.9167     |    0.916     |  0.9159  |  0.916   |\n",
      "+-----------------+--------------+----------+----------+\n"
     ]
    },
    {
     "data": {
      "image/png": "[encoded data removed]",
      "text/plain": [
       "<Figure size 432x288 with 2 Axes>"
      ]
     },
     "metadata": {
      "needs_background": "light"
     },
     "output_type": "display_data"
    }
   ],
   "source": [
    "gen_scores(y_test, pred)"
   ]
  },
  {
   "cell_type": "code",
   "execution_count": 13,
   "metadata": {},
   "outputs": [],
   "source": [
    "from sklearn.ensemble import RandomForestClassifier"
   ]
  },
  {
   "cell_type": "code",
   "execution_count": 14,
   "metadata": {},
   "outputs": [],
   "source": [
    "def apply_RF(X_train, y_train):\n",
    "    tree_list = [10,20,30,40,50,60,70,80,90,100]\n",
    "    \n",
    "    cv_scores=[]\n",
    "    for trees in tree_list:\n",
    "        scores = cross_val_score(RandomForestClassifier(n_estimators=trees), X_train, y_train, scoring=\"accuracy\", cv=5)\n",
    "        cv_scores.append(scores.mean())\n",
    "        print(\"TREES : %f , Score : %f\" % (trees,scores.mean()))\n",
    "    \n",
    "    op_index = cv_scores.index(max(cv_scores))\n",
    "    op_trees = tree_list[op_index]\n",
    "    print(\"Optimum Trees\",op_trees)\n",
    "    print(plt.plot(tree_list,cv_scores,marker='o',linestyle=\"dashed\"))\n",
    "    return op_trees"
   ]
  },
  {
   "cell_type": "code",
   "execution_count": 15,
   "metadata": {},
   "outputs": [],
   "source": [
    "X_train, X_test, y_train, y_test = train_test_split( all_X, y, test_size=0.30, random_state=0)"
   ]
  },
  {
   "cell_type": "code",
   "execution_count": 16,
   "metadata": {},
   "outputs": [
    {
     "name": "stdout",
     "output_type": "stream",
     "text": [
      "TREES : 10.000000 , Score : 0.986660\n",
      "TREES : 20.000000 , Score : 0.992664\n",
      "TREES : 30.000000 , Score : 0.990662\n",
      "TREES : 40.000000 , Score : 0.992662\n",
      "TREES : 50.000000 , Score : 0.991331\n",
      "TREES : 60.000000 , Score : 0.992664\n",
      "TREES : 70.000000 , Score : 0.993998\n",
      "TREES : 80.000000 , Score : 0.991998\n",
      "TREES : 90.000000 , Score : 0.993998\n",
      "TREES : 100.000000 , Score : 0.989998\n",
      "Optimum Trees 70\n",
      "[<matplotlib.lines.Line2D object at 0x00000184F8014AC8>]\n"
     ]
    },
    {
     "data": {
      "image/png": "[encoded data removed]",
      "text/plain": [
       "<Figure size 432x288 with 1 Axes>"
      ]
     },
     "metadata": {
      "needs_background": "light"
     },
     "output_type": "display_data"
    }
   ],
   "source": [
    "op_trees = apply_RF(X_train, y_train)"
   ]
  },
  {
   "cell_type": "code",
   "execution_count": 17,
   "metadata": {},
   "outputs": [],
   "source": [
    "rf_model = RandomForestClassifier(n_estimators=70)"
   ]
  },
  {
   "cell_type": "code",
   "execution_count": 18,
   "metadata": {},
   "outputs": [],
   "source": [
    "rf_model.fit(X_train, y_train)\n",
    "pred = rf_model.predict(X_test)"
   ]
  },
  {
   "cell_type": "code",
   "execution_count": 21,
   "metadata": {},
   "outputs": [
    {
     "name": "stdout",
     "output_type": "stream",
     "text": [
      "AxesSubplot(0.125,0.125;0.62x0.755)\n",
      "+-----------------+--------------+----------+----------+\n",
      "| Precision Score | Recall Score | f1 Score | Accuracy |\n",
      "+-----------------+--------------+----------+----------+\n",
      "|      0.9938     |    0.9938    |  0.9938  |  0.9938  |\n",
      "+-----------------+--------------+----------+----------+\n"
     ]
    },
    {
     "data": {
      "image/png": "[encoded data removed]",
      "text/plain": [
       "<Figure size 432x288 with 2 Axes>"
      ]
     },
     "metadata": {
      "needs_background": "light"
     },
     "output_type": "display_data"
    }
   ],
   "source": [
    "gen_scores(y_test, pred)"
   ]
  },
  {
   "cell_type": "code",
   "execution_count": null,
   "metadata": {},
   "outputs": [],
   "source": [
    "gen_model = RandomForestClassifier(n_estimators=250)\n",
    "gfs = GeneticFS()\n",
    "\n",
    "# fit the optimizer\n",
    "gfs.fit(model=gen_model, _type='classification', X=all_X, y=y) # classification model\n",
    "\n",
    "# get results output\n",
    "binary_output_of_optimal_variables, indicies_of_optimal_variables = gfs.results()\n",
    "\n",
    "# plot results of progress\n",
    "gfs.plot_progress()"
   ]
  },
  {
   "cell_type": "code",
   "execution_count": 22,
   "metadata": {},
   "outputs": [],
   "source": [
    "# Genetic Consumes like infinite amount of time"
   ]
  },
  {
   "cell_type": "code",
   "execution_count": null,
   "metadata": {},
   "outputs": [],
   "source": [
    "# Highl overfitting - not good for production - High accuracies because the dataset used is a small one"
   ]
  },
  {
   "cell_type": "code",
   "execution_count": null,
   "metadata": {},
   "outputs": [],
   "source": []
  },
  {
   "cell_type": "code",
   "execution_count": null,
   "metadata": {},
   "outputs": [],
   "source": []
  },
  {
   "cell_type": "code",
   "execution_count": 30,
   "metadata": {},
   "outputs": [],
   "source": [
    "from sklearn.model_selection import GridSearchCV"
   ]
  },
  {
   "cell_type": "code",
   "execution_count": 31,
   "metadata": {},
   "outputs": [],
   "source": [
    "from sklearn.svm import SVC"
   ]
  },
  {
   "cell_type": "code",
   "execution_count": 28,
   "metadata": {},
   "outputs": [],
   "source": [
    "X_train, X_test, y_train, y_test = train_test_split( all_X, y, test_size=0.30, random_state=0)"
   ]
  },
  {
   "cell_type": "code",
   "execution_count": 31,
   "metadata": {},
   "outputs": [],
   "source": [
    "parameters = {'kernel':('linear', 'rbf', 'poly'), 'C':[1, 10]}"
   ]
  },
  {
   "cell_type": "code",
   "execution_count": 32,
   "metadata": {},
   "outputs": [],
   "source": [
    "clf = GridSearchCV(SVC(gamma='scale'), parameters, cv=5)"
   ]
  },
  {
   "cell_type": "code",
   "execution_count": 34,
   "metadata": {},
   "outputs": [
    {
     "data": {
      "text/plain": [
       "GridSearchCV(cv=5, error_score='raise-deprecating',\n",
       "       estimator=SVC(C=1.0, cache_size=200, class_weight=None, coef0=0.0,\n",
       "  decision_function_shape='ovr', degree=3, gamma='scale', kernel='rbf',\n",
       "  max_iter=-1, probability=False, random_state=None, shrinking=True,\n",
       "  tol=0.001, verbose=False),\n",
       "       fit_params=None, iid='warn', n_jobs=None,\n",
       "       param_grid={'kernel': ('linear', 'rbf', 'poly'), 'C': [1, 10]},\n",
       "       pre_dispatch='2*n_jobs', refit=True, return_train_score='warn',\n",
       "       scoring=None, verbose=0)"
      ]
     },
     "execution_count": 34,
     "metadata": {},
     "output_type": "execute_result"
    }
   ],
   "source": [
    "clf.fit(X_train, y_train)"
   ]
  },
  {
   "cell_type": "code",
   "execution_count": 35,
   "metadata": {},
   "outputs": [],
   "source": [
    "pred = clf.predict(X_test)"
   ]
  },
  {
   "cell_type": "code",
   "execution_count": 36,
   "metadata": {},
   "outputs": [
    {
     "name": "stdout",
     "output_type": "stream",
     "text": [
      "AxesSubplot(0.125,0.125;0.62x0.755)\n",
      "+-----------------+--------------+----------+----------+\n",
      "| Precision Score | Recall Score | f1 Score | Accuracy |\n",
      "+-----------------+--------------+----------+----------+\n",
      "|      0.9518     |    0.9518    |  0.9518  |  0.9518  |\n",
      "+-----------------+--------------+----------+----------+\n"
     ]
    },
    {
     "data": {
      "image/png": "[encoded data removed]",
      "text/plain": [
       "<Figure size 432x288 with 2 Axes>"
      ]
     },
     "metadata": {
      "needs_background": "light"
     },
     "output_type": "display_data"
    }
   ],
   "source": [
    "gen_scores(y_test, pred)"
   ]
  },
  {
   "cell_type": "code",
   "execution_count": null,
   "metadata": {},
   "outputs": [],
   "source": [
    "gen_model = GridSearchCV(SVC(gamma='scale'), parameters, cv=5)\n",
    "gfs = GeneticFS()\n",
    "\n",
    "# fit the optimizer\n",
    "gfs.fit(model=gen_model, _type='classification', X=all_X, y=y) # classification model\n",
    "\n",
    "# get results output\n",
    "binary_output_of_optimal_variables, indicies_of_optimal_variables = gfs.results()\n",
    "\n",
    "# plot results of progress\n",
    "gfs.plot_progress()"
   ]
  },
  {
   "cell_type": "code",
   "execution_count": null,
   "metadata": {},
   "outputs": [],
   "source": []
  },
  {
   "cell_type": "code",
   "execution_count": 25,
   "metadata": {},
   "outputs": [],
   "source": [
    "reduced_X_cols = ['embedded_domain_in_path', 'ip_address','Subdomains', 'Anchor Tag', 'Forms', 'SSL Expiry Date', 'SSL Cert Check', 'Redirects User',\n",
    "       'URL has @ Symbol', 'URL has HTTPS', 'URL Small','Download in URL', 'Rar or Zip in URL']"
   ]
  },
  {
   "cell_type": "code",
   "execution_count": 26,
   "metadata": {},
   "outputs": [],
   "source": [
    "reduced_X = all_X[reduced_X_cols]"
   ]
  },
  {
   "cell_type": "code",
   "execution_count": 27,
   "metadata": {},
   "outputs": [],
   "source": [
    "X_train, X_test, y_train, y_test = train_test_split( reduced_X, y, test_size=0.30, random_state=0)"
   ]
  },
  {
   "cell_type": "code",
   "execution_count": 28,
   "metadata": {},
   "outputs": [],
   "source": [
    "parameters = {'kernel':('linear', 'rbf', 'poly'), 'C':[1, 10]}"
   ]
  },
  {
   "cell_type": "code",
   "execution_count": 32,
   "metadata": {},
   "outputs": [],
   "source": [
    "clf = GridSearchCV(SVC(gamma='scale'), parameters, cv=5)"
   ]
  },
  {
   "cell_type": "code",
   "execution_count": 33,
   "metadata": {},
   "outputs": [
    {
     "data": {
      "text/plain": [
       "GridSearchCV(cv=5, error_score='raise-deprecating',\n",
       "       estimator=SVC(C=1.0, cache_size=200, class_weight=None, coef0=0.0,\n",
       "  decision_function_shape='ovr', degree=3, gamma='scale', kernel='rbf',\n",
       "  max_iter=-1, probability=False, random_state=None, shrinking=True,\n",
       "  tol=0.001, verbose=False),\n",
       "       fit_params=None, iid='warn', n_jobs=None,\n",
       "       param_grid={'kernel': ('linear', 'rbf', 'poly'), 'C': [1, 10]},\n",
       "       pre_dispatch='2*n_jobs', refit=True, return_train_score='warn',\n",
       "       scoring=None, verbose=0)"
      ]
     },
     "execution_count": 33,
     "metadata": {},
     "output_type": "execute_result"
    }
   ],
   "source": [
    "clf.fit(X_train, y_train)"
   ]
  },
  {
   "cell_type": "code",
   "execution_count": 34,
   "metadata": {},
   "outputs": [],
   "source": [
    "pred = clf.predict(X_test)"
   ]
  },
  {
   "cell_type": "code",
   "execution_count": 35,
   "metadata": {},
   "outputs": [
    {
     "name": "stdout",
     "output_type": "stream",
     "text": [
      "AxesSubplot(0.125,0.125;0.62x0.755)\n",
      "+-----------------+--------------+----------+----------+\n",
      "| Precision Score | Recall Score | f1 Score | Accuracy |\n",
      "+-----------------+--------------+----------+----------+\n",
      "|      0.9693     |    0.9689    |  0.9689  |  0.9689  |\n",
      "+-----------------+--------------+----------+----------+\n"
     ]
    },
    {
     "data": {
      "image/png": "[encoded data removed]",
      "text/plain": [
       "<Figure size 432x288 with 2 Axes>"
      ]
     },
     "metadata": {
      "needs_background": "light"
     },
     "output_type": "display_data"
    }
   ],
   "source": [
    "gen_scores(y_test, pred)"
   ]
  },
  {
   "cell_type": "code",
   "execution_count": null,
   "metadata": {},
   "outputs": [],
   "source": []
  }
 ],
 "metadata": {
  "kernelspec": {
   "display_name": "Python 3",
   "language": "python",
   "name": "python3"
  },
  "language_info": {
   "codemirror_mode": {
    "name": "ipython",
    "version": 3
   },
   "file_extension": ".py",
   "mimetype": "text/x-python",
   "name": "python",
   "nbconvert_exporter": "python",
   "pygments_lexer": "ipython3",
   "version": "3.7.0"
  }
 },
 "nbformat": 4,
 "nbformat_minor": 2
}
