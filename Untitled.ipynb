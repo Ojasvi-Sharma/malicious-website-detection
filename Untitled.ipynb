{
 "cells": [
  {
   "cell_type": "code",
   "execution_count": 1,
   "metadata": {},
   "outputs": [],
   "source": [
    "import pandas as pd\n",
    "import numpy as np\n",
    "import matplotlib.pyplot as plt\n",
    "%matplotlib inline\n",
    "import seaborn as sns\n",
    "from sklearn.preprocessing import scale\n",
    "from sklearn.model_selection import train_test_split, cross_val_score\n",
    "from sklearn.neighbors import KNeighborsClassifier\n",
    "from sklearn.metrics import accuracy_score, confusion_matrix\n",
    "from prettytable import PrettyTable\n",
    "from sklearn.metrics import precision_score, recall_score, f1_score, make_scorer\n",
    "from sklearn.naive_bayes import GaussianNB, MultinomialNB\n",
    "from geneticfs import GeneticFS\n",
    "import warnings\n",
    "warnings.filterwarnings('ignore')"
   ]
  },
  {
   "cell_type": "code",
   "execution_count": 2,
   "metadata": {},
   "outputs": [],
   "source": [
    "data = pd.read_csv('radar.csv')"
   ]
  },
  {
   "cell_type": "code",
   "execution_count": 3,
   "metadata": {},
   "outputs": [
    {
     "data": {
      "text/html": [
       "<div>\n",
       "<style scoped>\n",
       "    .dataframe tbody tr th:only-of-type {\n",
       "        vertical-align: middle;\n",
       "    }\n",
       "\n",
       "    .dataframe tbody tr th {\n",
       "        vertical-align: top;\n",
       "    }\n",
       "\n",
       "    .dataframe thead th {\n",
       "        text-align: right;\n",
       "    }\n",
       "</style>\n",
       "<table border=\"1\" class=\"dataframe\">\n",
       "  <thead>\n",
       "    <tr style=\"text-align: right;\">\n",
       "      <th></th>\n",
       "      <th>col1</th>\n",
       "      <th>col2</th>\n",
       "      <th>col3</th>\n",
       "      <th>col4</th>\n",
       "      <th>col5</th>\n",
       "      <th>col6</th>\n",
       "      <th>col7</th>\n",
       "      <th>col8</th>\n",
       "      <th>col9</th>\n",
       "      <th>col10</th>\n",
       "      <th>...</th>\n",
       "      <th>col26</th>\n",
       "      <th>col27</th>\n",
       "      <th>col28</th>\n",
       "      <th>col29</th>\n",
       "      <th>col30</th>\n",
       "      <th>col31</th>\n",
       "      <th>col32</th>\n",
       "      <th>col33</th>\n",
       "      <th>col34</th>\n",
       "      <th>result</th>\n",
       "    </tr>\n",
       "  </thead>\n",
       "  <tbody>\n",
       "    <tr>\n",
       "      <th>0</th>\n",
       "      <td>1</td>\n",
       "      <td>0</td>\n",
       "      <td>0.99539</td>\n",
       "      <td>-0.05889</td>\n",
       "      <td>0.85243</td>\n",
       "      <td>0.02306</td>\n",
       "      <td>0.83398</td>\n",
       "      <td>-0.37708</td>\n",
       "      <td>1.00000</td>\n",
       "      <td>0.03760</td>\n",
       "      <td>...</td>\n",
       "      <td>-0.51171</td>\n",
       "      <td>0.41078</td>\n",
       "      <td>-0.46168</td>\n",
       "      <td>0.21266</td>\n",
       "      <td>-0.34090</td>\n",
       "      <td>0.42267</td>\n",
       "      <td>-0.54487</td>\n",
       "      <td>0.18641</td>\n",
       "      <td>-0.45300</td>\n",
       "      <td>g</td>\n",
       "    </tr>\n",
       "    <tr>\n",
       "      <th>1</th>\n",
       "      <td>1</td>\n",
       "      <td>0</td>\n",
       "      <td>1.00000</td>\n",
       "      <td>-0.18829</td>\n",
       "      <td>0.93035</td>\n",
       "      <td>-0.36156</td>\n",
       "      <td>-0.10868</td>\n",
       "      <td>-0.93597</td>\n",
       "      <td>1.00000</td>\n",
       "      <td>-0.04549</td>\n",
       "      <td>...</td>\n",
       "      <td>-0.26569</td>\n",
       "      <td>-0.20468</td>\n",
       "      <td>-0.18401</td>\n",
       "      <td>-0.19040</td>\n",
       "      <td>-0.11593</td>\n",
       "      <td>-0.16626</td>\n",
       "      <td>-0.06288</td>\n",
       "      <td>-0.13738</td>\n",
       "      <td>-0.02447</td>\n",
       "      <td>b</td>\n",
       "    </tr>\n",
       "    <tr>\n",
       "      <th>2</th>\n",
       "      <td>1</td>\n",
       "      <td>0</td>\n",
       "      <td>1.00000</td>\n",
       "      <td>-0.03365</td>\n",
       "      <td>1.00000</td>\n",
       "      <td>0.00485</td>\n",
       "      <td>1.00000</td>\n",
       "      <td>-0.12062</td>\n",
       "      <td>0.88965</td>\n",
       "      <td>0.01198</td>\n",
       "      <td>...</td>\n",
       "      <td>-0.40220</td>\n",
       "      <td>0.58984</td>\n",
       "      <td>-0.22145</td>\n",
       "      <td>0.43100</td>\n",
       "      <td>-0.17365</td>\n",
       "      <td>0.60436</td>\n",
       "      <td>-0.24180</td>\n",
       "      <td>0.56045</td>\n",
       "      <td>-0.38238</td>\n",
       "      <td>g</td>\n",
       "    </tr>\n",
       "    <tr>\n",
       "      <th>3</th>\n",
       "      <td>1</td>\n",
       "      <td>0</td>\n",
       "      <td>1.00000</td>\n",
       "      <td>-0.45161</td>\n",
       "      <td>1.00000</td>\n",
       "      <td>1.00000</td>\n",
       "      <td>0.71216</td>\n",
       "      <td>-1.00000</td>\n",
       "      <td>0.00000</td>\n",
       "      <td>0.00000</td>\n",
       "      <td>...</td>\n",
       "      <td>0.90695</td>\n",
       "      <td>0.51613</td>\n",
       "      <td>1.00000</td>\n",
       "      <td>1.00000</td>\n",
       "      <td>-0.20099</td>\n",
       "      <td>0.25682</td>\n",
       "      <td>1.00000</td>\n",
       "      <td>-0.32382</td>\n",
       "      <td>1.00000</td>\n",
       "      <td>b</td>\n",
       "    </tr>\n",
       "    <tr>\n",
       "      <th>4</th>\n",
       "      <td>1</td>\n",
       "      <td>0</td>\n",
       "      <td>1.00000</td>\n",
       "      <td>-0.02401</td>\n",
       "      <td>0.94140</td>\n",
       "      <td>0.06531</td>\n",
       "      <td>0.92106</td>\n",
       "      <td>-0.23255</td>\n",
       "      <td>0.77152</td>\n",
       "      <td>-0.16399</td>\n",
       "      <td>...</td>\n",
       "      <td>-0.65158</td>\n",
       "      <td>0.13290</td>\n",
       "      <td>-0.53206</td>\n",
       "      <td>0.02431</td>\n",
       "      <td>-0.62197</td>\n",
       "      <td>-0.05707</td>\n",
       "      <td>-0.59573</td>\n",
       "      <td>-0.04608</td>\n",
       "      <td>-0.65697</td>\n",
       "      <td>g</td>\n",
       "    </tr>\n",
       "  </tbody>\n",
       "</table>\n",
       "<p>5 rows × 35 columns</p>\n",
       "</div>"
      ],
      "text/plain": [
       "   col1  col2     col3     col4     col5     col6     col7     col8     col9  \\\n",
       "0     1     0  0.99539 -0.05889  0.85243  0.02306  0.83398 -0.37708  1.00000   \n",
       "1     1     0  1.00000 -0.18829  0.93035 -0.36156 -0.10868 -0.93597  1.00000   \n",
       "2     1     0  1.00000 -0.03365  1.00000  0.00485  1.00000 -0.12062  0.88965   \n",
       "3     1     0  1.00000 -0.45161  1.00000  1.00000  0.71216 -1.00000  0.00000   \n",
       "4     1     0  1.00000 -0.02401  0.94140  0.06531  0.92106 -0.23255  0.77152   \n",
       "\n",
       "     col10   ...      col26    col27    col28    col29    col30    col31  \\\n",
       "0  0.03760   ...   -0.51171  0.41078 -0.46168  0.21266 -0.34090  0.42267   \n",
       "1 -0.04549   ...   -0.26569 -0.20468 -0.18401 -0.19040 -0.11593 -0.16626   \n",
       "2  0.01198   ...   -0.40220  0.58984 -0.22145  0.43100 -0.17365  0.60436   \n",
       "3  0.00000   ...    0.90695  0.51613  1.00000  1.00000 -0.20099  0.25682   \n",
       "4 -0.16399   ...   -0.65158  0.13290 -0.53206  0.02431 -0.62197 -0.05707   \n",
       "\n",
       "     col32    col33    col34  result  \n",
       "0 -0.54487  0.18641 -0.45300       g  \n",
       "1 -0.06288 -0.13738 -0.02447       b  \n",
       "2 -0.24180  0.56045 -0.38238       g  \n",
       "3  1.00000 -0.32382  1.00000       b  \n",
       "4 -0.59573 -0.04608 -0.65697       g  \n",
       "\n",
       "[5 rows x 35 columns]"
      ]
     },
     "execution_count": 3,
     "metadata": {},
     "output_type": "execute_result"
    }
   ],
   "source": [
    "data.head()"
   ]
  },
  {
   "cell_type": "code",
   "execution_count": 33,
   "metadata": {},
   "outputs": [],
   "source": [
    "X = data.drop(['result'],axis=1)"
   ]
  },
  {
   "cell_type": "code",
   "execution_count": 34,
   "metadata": {},
   "outputs": [],
   "source": [
    "y = data['result']"
   ]
  },
  {
   "cell_type": "code",
   "execution_count": 35,
   "metadata": {},
   "outputs": [],
   "source": [
    "X_train, X_test, y_train, y_test = train_test_split(X, y, test_size=0.25, random_state=42)"
   ]
  },
  {
   "cell_type": "code",
   "execution_count": 7,
   "metadata": {},
   "outputs": [],
   "source": [
    "from sklearn.model_selection import GridSearchCV"
   ]
  },
  {
   "cell_type": "code",
   "execution_count": 8,
   "metadata": {},
   "outputs": [],
   "source": [
    "from sklearn.svm import SVC"
   ]
  },
  {
   "cell_type": "code",
   "execution_count": 9,
   "metadata": {},
   "outputs": [],
   "source": [
    "parameters = {'kernel':('linear', 'rbf', 'poly'), 'C':[10**-3,10**-2,10**-1,10**0,10**1,10**2]}"
   ]
  },
  {
   "cell_type": "code",
   "execution_count": 10,
   "metadata": {},
   "outputs": [],
   "source": [
    "clf = GridSearchCV(SVC(gamma='scale'), parameters, cv=3, verbose=10)"
   ]
  },
  {
   "cell_type": "code",
   "execution_count": 11,
   "metadata": {},
   "outputs": [
    {
     "name": "stdout",
     "output_type": "stream",
     "text": [
      "Fitting 3 folds for each of 18 candidates, totalling 54 fits\n",
      "[CV] C=0.001, kernel=linear ..........................................\n",
      "[CV] . C=0.001, kernel=linear, score=0.6404494382022472, total=   0.0s\n",
      "[CV] C=0.001, kernel=linear ..........................................\n",
      "[CV] . C=0.001, kernel=linear, score=0.6436781609195402, total=   0.0s\n",
      "[CV] C=0.001, kernel=linear ..........................................\n",
      "[CV] . C=0.001, kernel=linear, score=0.6436781609195402, total=   0.0s\n",
      "[CV] C=0.001, kernel=rbf .............................................\n",
      "[CV] .... C=0.001, kernel=rbf, score=0.6404494382022472, total=   0.0s\n",
      "[CV] C=0.001, kernel=rbf .............................................\n",
      "[CV] .... C=0.001, kernel=rbf, score=0.6436781609195402, total=   0.0s\n",
      "[CV] C=0.001, kernel=rbf .............................................\n",
      "[CV] .... C=0.001, kernel=rbf, score=0.6436781609195402, total=   0.0s\n",
      "[CV] C=0.001, kernel=poly ............................................\n",
      "[CV] ... C=0.001, kernel=poly, score=0.6404494382022472, total=   0.0s\n",
      "[CV] C=0.001, kernel=poly ............................................\n",
      "[CV] ... C=0.001, kernel=poly, score=0.6436781609195402, total=   0.0s\n",
      "[CV] C=0.001, kernel=poly ............................................\n",
      "[CV] ... C=0.001, kernel=poly, score=0.6436781609195402, total=   0.0s\n",
      "[CV] C=0.01, kernel=linear ...........................................\n",
      "[CV] .. C=0.01, kernel=linear, score=0.7528089887640449, total=   0.0s\n",
      "[CV] C=0.01, kernel=linear ...........................................\n",
      "[CV] .. C=0.01, kernel=linear, score=0.7241379310344828, total=   0.0s\n",
      "[CV] C=0.01, kernel=linear ...........................................\n",
      "[CV] ... C=0.01, kernel=linear, score=0.735632183908046, total=   0.0s\n",
      "[CV] C=0.01, kernel=rbf ..............................................\n",
      "[CV] ..... C=0.01, kernel=rbf, score=0.6404494382022472, total=   0.0s\n",
      "[CV] C=0.01, kernel=rbf ..............................................\n",
      "[CV] ..... C=0.01, kernel=rbf, score=0.6436781609195402, total=   0.0s\n",
      "[CV] C=0.01, kernel=rbf ..............................................\n",
      "[CV] ..... C=0.01, kernel=rbf, score=0.6436781609195402, total=   0.0s\n",
      "[CV] C=0.01, kernel=poly .............................................\n",
      "[CV] .... C=0.01, kernel=poly, score=0.6404494382022472, total=   0.0s\n",
      "[CV] C=0.01, kernel=poly .............................................\n",
      "[CV] .... C=0.01, kernel=poly, score=0.6436781609195402, total=   0.0s\n",
      "[CV] C=0.01, kernel=poly .............................................\n",
      "[CV] .... C=0.01, kernel=poly, score=0.6436781609195402, total=   0.0s\n",
      "[CV] C=0.1, kernel=linear ............................................\n",
      "[CV] .... C=0.1, kernel=linear, score=0.797752808988764, total=   0.0s\n",
      "[CV] C=0.1, kernel=linear ............................................\n",
      "[CV] ... C=0.1, kernel=linear, score=0.8390804597701149, total=   0.0s\n",
      "[CV] C=0.1, kernel=linear ............................................\n",
      "[CV] .... C=0.1, kernel=linear, score=0.896551724137931, total=   0.0s\n",
      "[CV] C=0.1, kernel=rbf ...............................................\n"
     ]
    },
    {
     "name": "stderr",
     "output_type": "stream",
     "text": [
      "[Parallel(n_jobs=1)]: Using backend SequentialBackend with 1 concurrent workers.\n",
      "[Parallel(n_jobs=1)]: Done   1 out of   1 | elapsed:    0.0s remaining:    0.0s\n",
      "[Parallel(n_jobs=1)]: Done   2 out of   2 | elapsed:    0.0s remaining:    0.0s\n",
      "[Parallel(n_jobs=1)]: Done   3 out of   3 | elapsed:    0.0s remaining:    0.0s\n",
      "[Parallel(n_jobs=1)]: Done   4 out of   4 | elapsed:    0.0s remaining:    0.0s\n",
      "[Parallel(n_jobs=1)]: Done   5 out of   5 | elapsed:    0.0s remaining:    0.0s\n",
      "[Parallel(n_jobs=1)]: Done   6 out of   6 | elapsed:    0.0s remaining:    0.0s\n",
      "[Parallel(n_jobs=1)]: Done   7 out of   7 | elapsed:    0.0s remaining:    0.0s\n",
      "[Parallel(n_jobs=1)]: Done   8 out of   8 | elapsed:    0.0s remaining:    0.0s\n",
      "[Parallel(n_jobs=1)]: Done   9 out of   9 | elapsed:    0.0s remaining:    0.0s\n"
     ]
    },
    {
     "name": "stdout",
     "output_type": "stream",
     "text": [
      "[CV] ...... C=0.1, kernel=rbf, score=0.7303370786516854, total=   0.0s\n",
      "[CV] C=0.1, kernel=rbf ...............................................\n",
      "[CV] ...... C=0.1, kernel=rbf, score=0.6666666666666666, total=   0.0s\n",
      "[CV] C=0.1, kernel=rbf ...............................................\n",
      "[CV] ...... C=0.1, kernel=rbf, score=0.6666666666666666, total=   0.0s\n",
      "[CV] C=0.1, kernel=poly ..............................................\n",
      "[CV] ..... C=0.1, kernel=poly, score=0.6404494382022472, total=   0.0s\n",
      "[CV] C=0.1, kernel=poly ..............................................\n",
      "[CV] ..... C=0.1, kernel=poly, score=0.6436781609195402, total=   0.0s\n",
      "[CV] C=0.1, kernel=poly ..............................................\n",
      "[CV] ..... C=0.1, kernel=poly, score=0.6436781609195402, total=   0.0s\n",
      "[CV] C=1, kernel=linear ..............................................\n",
      "[CV] ..... C=1, kernel=linear, score=0.8314606741573034, total=   0.0s\n",
      "[CV] C=1, kernel=linear ..............................................\n",
      "[CV] ..... C=1, kernel=linear, score=0.8390804597701149, total=   0.0s\n",
      "[CV] C=1, kernel=linear ..............................................\n",
      "[CV] ...... C=1, kernel=linear, score=0.896551724137931, total=   0.0s\n",
      "[CV] C=1, kernel=rbf .................................................\n",
      "[CV] ........ C=1, kernel=rbf, score=0.9101123595505618, total=   0.0s\n",
      "[CV] C=1, kernel=rbf .................................................\n",
      "[CV] ........ C=1, kernel=rbf, score=0.9195402298850575, total=   0.0s\n",
      "[CV] C=1, kernel=rbf .................................................\n",
      "[CV] ........ C=1, kernel=rbf, score=0.9195402298850575, total=   0.0s\n",
      "[CV] C=1, kernel=poly ................................................\n",
      "[CV] ....... C=1, kernel=poly, score=0.8426966292134831, total=   0.0s\n",
      "[CV] C=1, kernel=poly ................................................\n",
      "[CV] ....... C=1, kernel=poly, score=0.7586206896551724, total=   0.0s\n",
      "[CV] C=1, kernel=poly ................................................\n",
      "[CV] ....... C=1, kernel=poly, score=0.6666666666666666, total=   0.0s\n",
      "[CV] C=10, kernel=linear .............................................\n",
      "[CV] .... C=10, kernel=linear, score=0.8539325842696629, total=   0.0s\n",
      "[CV] C=10, kernel=linear .............................................\n",
      "[CV] .... C=10, kernel=linear, score=0.8505747126436781, total=   0.0s\n",
      "[CV] C=10, kernel=linear .............................................\n",
      "[CV] .... C=10, kernel=linear, score=0.9080459770114943, total=   0.0s\n",
      "[CV] C=10, kernel=rbf ................................................\n",
      "[CV] ....... C=10, kernel=rbf, score=0.9325842696629213, total=   0.0s\n",
      "[CV] C=10, kernel=rbf ................................................\n",
      "[CV] ....... C=10, kernel=rbf, score=0.9195402298850575, total=   0.0s\n",
      "[CV] C=10, kernel=rbf ................................................\n",
      "[CV] ....... C=10, kernel=rbf, score=0.9770114942528736, total=   0.0s\n",
      "[CV] C=10, kernel=poly ...............................................\n",
      "[CV] ...... C=10, kernel=poly, score=0.8651685393258427, total=   0.0s\n",
      "[CV] C=10, kernel=poly ...............................................\n",
      "[CV] ...... C=10, kernel=poly, score=0.8850574712643678, total=   0.0s\n",
      "[CV] C=10, kernel=poly ...............................................\n",
      "[CV] ...... C=10, kernel=poly, score=0.7471264367816092, total=   0.0s\n",
      "[CV] C=100, kernel=linear ............................................\n",
      "[CV] ... C=100, kernel=linear, score=0.8651685393258427, total=   0.0s\n",
      "[CV] C=100, kernel=linear ............................................\n",
      "[CV] ... C=100, kernel=linear, score=0.8390804597701149, total=   0.0s\n",
      "[CV] C=100, kernel=linear ............................................\n",
      "[CV] ... C=100, kernel=linear, score=0.8620689655172413, total=   0.0s\n",
      "[CV] C=100, kernel=rbf ...............................................\n",
      "[CV] ...... C=100, kernel=rbf, score=0.9325842696629213, total=   0.0s\n",
      "[CV] C=100, kernel=rbf ...............................................\n",
      "[CV] ...... C=100, kernel=rbf, score=0.9080459770114943, total=   0.0s\n",
      "[CV] C=100, kernel=rbf ...............................................\n",
      "[CV] ...... C=100, kernel=rbf, score=0.9195402298850575, total=   0.0s\n",
      "[CV] C=100, kernel=poly ..............................................\n",
      "[CV] ..... C=100, kernel=poly, score=0.9101123595505618, total=   0.0s\n",
      "[CV] C=100, kernel=poly ..............................................\n",
      "[CV] ..... C=100, kernel=poly, score=0.8620689655172413, total=   0.0s\n",
      "[CV] C=100, kernel=poly ..............................................\n",
      "[CV] ..... C=100, kernel=poly, score=0.7586206896551724, total=   0.0s\n"
     ]
    },
    {
     "name": "stderr",
     "output_type": "stream",
     "text": [
      "[Parallel(n_jobs=1)]: Done  54 out of  54 | elapsed:    0.4s finished\n"
     ]
    },
    {
     "data": {
      "text/plain": [
       "GridSearchCV(cv=3, error_score='raise-deprecating',\n",
       "       estimator=SVC(C=1.0, cache_size=200, class_weight=None, coef0=0.0,\n",
       "  decision_function_shape='ovr', degree=3, gamma='scale', kernel='rbf',\n",
       "  max_iter=-1, probability=False, random_state=None, shrinking=True,\n",
       "  tol=0.001, verbose=False),\n",
       "       fit_params=None, iid='warn', n_jobs=None,\n",
       "       param_grid={'kernel': ('linear', 'rbf', 'poly'), 'C': [0.001, 0.01, 0.1, 1, 10, 100]},\n",
       "       pre_dispatch='2*n_jobs', refit=True, return_train_score='warn',\n",
       "       scoring=None, verbose=10)"
      ]
     },
     "execution_count": 11,
     "metadata": {},
     "output_type": "execute_result"
    }
   ],
   "source": [
    "clf.fit(X_train, y_train)"
   ]
  },
  {
   "cell_type": "code",
   "execution_count": 13,
   "metadata": {},
   "outputs": [
    {
     "data": {
      "text/plain": [
       "SVC(C=10, cache_size=200, class_weight=None, coef0=0.0,\n",
       "  decision_function_shape='ovr', degree=3, gamma='scale', kernel='rbf',\n",
       "  max_iter=-1, probability=False, random_state=None, shrinking=True,\n",
       "  tol=0.001, verbose=False)"
      ]
     },
     "execution_count": 13,
     "metadata": {},
     "output_type": "execute_result"
    }
   ],
   "source": [
    "clf.best_estimator_"
   ]
  },
  {
   "cell_type": "code",
   "execution_count": 14,
   "metadata": {},
   "outputs": [],
   "source": [
    "pred = clf.best_estimator_.predict(X_test)"
   ]
  },
  {
   "cell_type": "code",
   "execution_count": 52,
   "metadata": {},
   "outputs": [],
   "source": [
    "def gen_confusion_matrix(y_test,pred):\n",
    "    print(sns.heatmap(confusion_matrix(y_test,pred),cmap=\"viridis\",fmt='g', annot=True))\n",
    "    \n",
    "def gen_scores(y_test, pred):\n",
    "    gen_confusion_matrix(y_test,pred)\n",
    "    pre = np.round(precision_score(y_test,pred,average='weighted'),4)\n",
    "    recall = np.round(recall_score(y_test,pred,average='weighted'),4)\n",
    "    f1 = np.round(f1_score(y_test,pred,average='weighted'),4)\n",
    "    accuracy = np.round(accuracy_score(y_test,pred),4)\n",
    "    table = PrettyTable()\n",
    "    table.field_names = ['Precision Score', 'Recall Score', 'f1 Score', 'Accuracy']\n",
    "    table.add_row([pre,recall,f1,accuracy])\n",
    "    print(table)"
   ]
  },
  {
   "cell_type": "code",
   "execution_count": 16,
   "metadata": {},
   "outputs": [
    {
     "name": "stdout",
     "output_type": "stream",
     "text": [
      "AxesSubplot(0.125,0.125;0.62x0.755)\n",
      "+-----------------+--------------+----------+----------+\n",
      "| Precision Score | Recall Score | f1 Score | Accuracy |\n",
      "+-----------------+--------------+----------+----------+\n",
      "|      0.9478     |    0.9432    |  0.942   |  0.9432  |\n",
      "+-----------------+--------------+----------+----------+\n"
     ]
    },
    {
     "data": {
      "image/png": "[encoded data removed]",
      "text/plain": [
       "<Figure size 432x288 with 2 Axes>"
      ]
     },
     "metadata": {
      "needs_background": "light"
     },
     "output_type": "display_data"
    }
   ],
   "source": [
    "gen_scores(y_test, pred)"
   ]
  },
  {
   "cell_type": "code",
   "execution_count": 17,
   "metadata": {},
   "outputs": [
    {
     "name": "stdout",
     "output_type": "stream",
     "text": [
      "Iteration 10 Complete [Time Taken For Last Iteration: 1.52 Seconds]\n",
      "Iteration 20 Complete [Time Taken For Last Iteration: 1.51 Seconds]\n",
      "Iteration 30 Complete [Time Taken For Last Iteration: 1.48 Seconds]\n",
      "Iteration 40 Complete [Time Taken For Last Iteration: 1.51 Seconds]\n",
      "Iteration 50 Complete [Time Taken For Last Iteration: 1.48 Seconds]\n",
      "Iteration 60 Complete [Time Taken For Last Iteration: 1.48 Seconds]\n",
      "Iteration 70 Complete [Time Taken For Last Iteration: 1.5 Seconds]\n",
      "Iteration 80 Complete [Time Taken For Last Iteration: 1.51 Seconds]\n",
      "Iteration 90 Complete [Time Taken For Last Iteration: 1.5 Seconds]\n",
      "Iteration 100 Complete [Time Taken For Last Iteration: 1.5 Seconds]\n"
     ]
    },
    {
     "data": {
      "image/png": "[encoded data removed]",
      "text/plain": [
       "<Figure size 432x288 with 1 Axes>"
      ]
     },
     "metadata": {
      "needs_background": "light"
     },
     "output_type": "display_data"
    }
   ],
   "source": [
    "gen_model = clf.best_estimator_\n",
    "gfs = GeneticFS()\n",
    "\n",
    "# fit the optimizer\n",
    "gfs.fit(model=gen_model, _type='classification', X=X, y=y) # classification model\n",
    "\n",
    "# get results output\n",
    "binary_output_of_optimal_variables, indicies_of_optimal_variables = gfs.results()\n",
    "\n",
    "# plot results of progress\n",
    "gfs.plot_progress()"
   ]
  },
  {
   "cell_type": "code",
   "execution_count": 18,
   "metadata": {},
   "outputs": [
    {
     "data": {
      "text/plain": [
       "array([1, 0, 0, 1, 1, 0, 0, 0, 0, 0, 1, 1, 0, 1, 0, 1, 0, 1, 1, 1, 1, 1,\n",
       "       0, 0, 1, 1, 0, 0, 1, 0, 1, 1, 1, 0])"
      ]
     },
     "execution_count": 18,
     "metadata": {},
     "output_type": "execute_result"
    }
   ],
   "source": [
    "binary_output_of_optimal_variables"
   ]
  },
  {
   "cell_type": "code",
   "execution_count": 19,
   "metadata": {},
   "outputs": [
    {
     "data": {
      "text/plain": [
       "[0, 3, 4, 10, 11, 13, 15, 17, 18, 19, 20, 21, 24, 25, 28, 30, 31, 32]"
      ]
     },
     "execution_count": 19,
     "metadata": {},
     "output_type": "execute_result"
    }
   ],
   "source": [
    "indicies_of_optimal_variables"
   ]
  },
  {
   "cell_type": "code",
   "execution_count": 42,
   "metadata": {},
   "outputs": [
    {
     "data": {
      "text/plain": [
       "Index(['col1', 'col4', 'col5', 'col11', 'col12', 'col14', 'col16', 'col18',\n",
       "       'col19', 'col20', 'col21', 'col22', 'col25', 'col26', 'col29', 'col31',\n",
       "       'col32', 'col33'],\n",
       "      dtype='object')"
      ]
     },
     "execution_count": 42,
     "metadata": {},
     "output_type": "execute_result"
    }
   ],
   "source": [
    "X.columns[indicies_of_optimal_variables]"
   ]
  },
  {
   "cell_type": "code",
   "execution_count": 44,
   "metadata": {},
   "outputs": [],
   "source": [
    "reduced_X = X[X.columns[indicies_of_optimal_variables]]"
   ]
  },
  {
   "cell_type": "code",
   "execution_count": 45,
   "metadata": {},
   "outputs": [],
   "source": [
    "X_train, X_test, y_train, y_test = train_test_split(reduced_X, y, test_size=0.25, random_state=42)"
   ]
  },
  {
   "cell_type": "code",
   "execution_count": 47,
   "metadata": {},
   "outputs": [],
   "source": [
    "clf = GridSearchCV(SVC(gamma='scale'), parameters, cv=3, verbose=10)"
   ]
  },
  {
   "cell_type": "code",
   "execution_count": 48,
   "metadata": {},
   "outputs": [
    {
     "name": "stdout",
     "output_type": "stream",
     "text": [
      "Fitting 3 folds for each of 18 candidates, totalling 54 fits\n",
      "[CV] C=0.001, kernel=linear ..........................................\n",
      "[CV] . C=0.001, kernel=linear, score=0.6404494382022472, total=   0.0s\n",
      "[CV] C=0.001, kernel=linear ..........................................\n",
      "[CV] . C=0.001, kernel=linear, score=0.6436781609195402, total=   0.0s\n",
      "[CV] C=0.001, kernel=linear ..........................................\n",
      "[CV] . C=0.001, kernel=linear, score=0.6436781609195402, total=   0.0s\n",
      "[CV] C=0.001, kernel=rbf .............................................\n",
      "[CV] .... C=0.001, kernel=rbf, score=0.6404494382022472, total=   0.0s\n",
      "[CV] C=0.001, kernel=rbf .............................................\n",
      "[CV] .... C=0.001, kernel=rbf, score=0.6436781609195402, total=   0.0s\n",
      "[CV] C=0.001, kernel=rbf .............................................\n",
      "[CV] .... C=0.001, kernel=rbf, score=0.6436781609195402, total=   0.0s\n",
      "[CV] C=0.001, kernel=poly ............................................\n",
      "[CV] ... C=0.001, kernel=poly, score=0.6404494382022472, total=   0.0s\n",
      "[CV] C=0.001, kernel=poly ............................................\n",
      "[CV] ... C=0.001, kernel=poly, score=0.6436781609195402, total=   0.0s\n",
      "[CV] C=0.001, kernel=poly ............................................\n",
      "[CV] ... C=0.001, kernel=poly, score=0.6436781609195402, total=   0.0s\n",
      "[CV] C=0.01, kernel=linear ...........................................\n",
      "[CV] .. C=0.01, kernel=linear, score=0.6853932584269663, total=   0.0s\n",
      "[CV] C=0.01, kernel=linear ...........................................\n",
      "[CV] .. C=0.01, kernel=linear, score=0.6436781609195402, total=   0.0s\n",
      "[CV] C=0.01, kernel=linear ...........................................\n",
      "[CV] .. C=0.01, kernel=linear, score=0.6436781609195402, total=   0.0s\n",
      "[CV] C=0.01, kernel=rbf ..............................................\n",
      "[CV] ..... C=0.01, kernel=rbf, score=0.6404494382022472, total=   0.0s\n",
      "[CV] C=0.01, kernel=rbf ..............................................\n",
      "[CV] ..... C=0.01, kernel=rbf, score=0.6436781609195402, total=   0.0s\n",
      "[CV] C=0.01, kernel=rbf ..............................................\n",
      "[CV] ..... C=0.01, kernel=rbf, score=0.6436781609195402, total=   0.0s\n",
      "[CV] C=0.01, kernel=poly .............................................\n",
      "[CV] .... C=0.01, kernel=poly, score=0.6404494382022472, total=   0.0s\n",
      "[CV] C=0.01, kernel=poly .............................................\n",
      "[CV] .... C=0.01, kernel=poly, score=0.6436781609195402, total=   0.0s\n",
      "[CV] C=0.01, kernel=poly .............................................\n",
      "[CV] .... C=0.01, kernel=poly, score=0.6436781609195402, total=   0.0s\n",
      "[CV] C=0.1, kernel=linear ............................................\n",
      "[CV] ... C=0.1, kernel=linear, score=0.7640449438202247, total=   0.0s\n",
      "[CV] C=0.1, kernel=linear ............................................\n",
      "[CV] ... C=0.1, kernel=linear, score=0.8275862068965517, total=   0.0s\n",
      "[CV] C=0.1, kernel=linear ............................................\n",
      "[CV] ... C=0.1, kernel=linear, score=0.8390804597701149, total=   0.0s\n",
      "[CV] C=0.1, kernel=rbf ...............................................\n",
      "[CV] ...... C=0.1, kernel=rbf, score=0.7303370786516854, total=   0.0s\n",
      "[CV] C=0.1, kernel=rbf ...............................................\n",
      "[CV] ...... C=0.1, kernel=rbf, score=0.6436781609195402, total=   0.0s\n",
      "[CV] C=0.1, kernel=rbf ...............................................\n",
      "[CV] ...... C=0.1, kernel=rbf, score=0.6781609195402298, total=   0.0s\n",
      "[CV] C=0.1, kernel=poly ..............................................\n",
      "[CV] ..... C=0.1, kernel=poly, score=0.6404494382022472, total=   0.0s\n",
      "[CV] C=0.1, kernel=poly ..............................................\n",
      "[CV] ..... C=0.1, kernel=poly, score=0.6436781609195402, total=   0.0s\n",
      "[CV] C=0.1, kernel=poly ..............................................\n"
     ]
    },
    {
     "name": "stderr",
     "output_type": "stream",
     "text": [
      "[Parallel(n_jobs=1)]: Using backend SequentialBackend with 1 concurrent workers.\n",
      "[Parallel(n_jobs=1)]: Done   1 out of   1 | elapsed:    0.0s remaining:    0.0s\n",
      "[Parallel(n_jobs=1)]: Done   2 out of   2 | elapsed:    0.0s remaining:    0.0s\n",
      "[Parallel(n_jobs=1)]: Done   3 out of   3 | elapsed:    0.0s remaining:    0.0s\n",
      "[Parallel(n_jobs=1)]: Done   4 out of   4 | elapsed:    0.0s remaining:    0.0s\n",
      "[Parallel(n_jobs=1)]: Done   5 out of   5 | elapsed:    0.0s remaining:    0.0s\n",
      "[Parallel(n_jobs=1)]: Done   6 out of   6 | elapsed:    0.0s remaining:    0.0s\n",
      "[Parallel(n_jobs=1)]: Done   7 out of   7 | elapsed:    0.0s remaining:    0.0s\n",
      "[Parallel(n_jobs=1)]: Done   8 out of   8 | elapsed:    0.0s remaining:    0.0s\n",
      "[Parallel(n_jobs=1)]: Done   9 out of   9 | elapsed:    0.0s remaining:    0.0s\n"
     ]
    },
    {
     "name": "stdout",
     "output_type": "stream",
     "text": [
      "[CV] ..... C=0.1, kernel=poly, score=0.6436781609195402, total=   0.0s\n",
      "[CV] C=1, kernel=linear ..............................................\n",
      "[CV] ...... C=1, kernel=linear, score=0.797752808988764, total=   0.0s\n",
      "[CV] C=1, kernel=linear ..............................................\n",
      "[CV] ..... C=1, kernel=linear, score=0.8390804597701149, total=   0.0s\n",
      "[CV] C=1, kernel=linear ..............................................\n",
      "[CV] ..... C=1, kernel=linear, score=0.8850574712643678, total=   0.0s\n",
      "[CV] C=1, kernel=rbf .................................................\n",
      "[CV] ........ C=1, kernel=rbf, score=0.8876404494382022, total=   0.0s\n",
      "[CV] C=1, kernel=rbf .................................................\n",
      "[CV] ........ C=1, kernel=rbf, score=0.9425287356321839, total=   0.0s\n",
      "[CV] C=1, kernel=rbf .................................................\n",
      "[CV] ......... C=1, kernel=rbf, score=0.896551724137931, total=   0.0s\n",
      "[CV] C=1, kernel=poly ................................................\n",
      "[CV] ........ C=1, kernel=poly, score=0.797752808988764, total=   0.0s\n",
      "[CV] C=1, kernel=poly ................................................\n",
      "[CV] ....... C=1, kernel=poly, score=0.7471264367816092, total=   0.0s\n",
      "[CV] C=1, kernel=poly ................................................\n",
      "[CV] ....... C=1, kernel=poly, score=0.6781609195402298, total=   0.0s\n",
      "[CV] C=10, kernel=linear .............................................\n",
      "[CV] .... C=10, kernel=linear, score=0.8314606741573034, total=   0.0s\n",
      "[CV] C=10, kernel=linear .............................................\n",
      "[CV] .... C=10, kernel=linear, score=0.8160919540229885, total=   0.0s\n",
      "[CV] C=10, kernel=linear .............................................\n",
      "[CV] .... C=10, kernel=linear, score=0.8850574712643678, total=   0.0s\n",
      "[CV] C=10, kernel=rbf ................................................\n",
      "[CV] ....... C=10, kernel=rbf, score=0.9325842696629213, total=   0.0s\n",
      "[CV] C=10, kernel=rbf ................................................\n",
      "[CV] ....... C=10, kernel=rbf, score=0.9310344827586207, total=   0.0s\n",
      "[CV] C=10, kernel=rbf ................................................\n",
      "[CV] ........ C=10, kernel=rbf, score=0.896551724137931, total=   0.0s\n",
      "[CV] C=10, kernel=poly ...............................................\n",
      "[CV] ...... C=10, kernel=poly, score=0.8202247191011236, total=   0.0s\n",
      "[CV] C=10, kernel=poly ...............................................\n",
      "[CV] ...... C=10, kernel=poly, score=0.8620689655172413, total=   0.0s\n",
      "[CV] C=10, kernel=poly ...............................................\n",
      "[CV] ...... C=10, kernel=poly, score=0.7241379310344828, total=   0.0s\n",
      "[CV] C=100, kernel=linear ............................................\n",
      "[CV] ... C=100, kernel=linear, score=0.8426966292134831, total=   0.0s\n",
      "[CV] C=100, kernel=linear ............................................\n",
      "[CV] ... C=100, kernel=linear, score=0.8620689655172413, total=   0.0s\n",
      "[CV] C=100, kernel=linear ............................................\n",
      "[CV] ... C=100, kernel=linear, score=0.8735632183908046, total=   0.0s\n",
      "[CV] C=100, kernel=rbf ...............................................\n",
      "[CV] ...... C=100, kernel=rbf, score=0.9213483146067416, total=   0.0s\n",
      "[CV] C=100, kernel=rbf ...............................................\n",
      "[CV] ....... C=100, kernel=rbf, score=0.896551724137931, total=   0.0s\n",
      "[CV] C=100, kernel=rbf ...............................................\n",
      "[CV] ....... C=100, kernel=rbf, score=0.896551724137931, total=   0.0s\n",
      "[CV] C=100, kernel=poly ..............................................\n",
      "[CV] ..... C=100, kernel=poly, score=0.8426966292134831, total=   0.0s\n",
      "[CV] C=100, kernel=poly ..............................................\n",
      "[CV] ..... C=100, kernel=poly, score=0.8275862068965517, total=   0.0s\n",
      "[CV] C=100, kernel=poly ..............................................\n",
      "[CV] ..... C=100, kernel=poly, score=0.7701149425287356, total=   0.0s\n"
     ]
    },
    {
     "name": "stderr",
     "output_type": "stream",
     "text": [
      "[Parallel(n_jobs=1)]: Done  54 out of  54 | elapsed:    0.4s finished\n"
     ]
    },
    {
     "data": {
      "text/plain": [
       "GridSearchCV(cv=3, error_score='raise-deprecating',\n",
       "       estimator=SVC(C=1.0, cache_size=200, class_weight=None, coef0=0.0,\n",
       "  decision_function_shape='ovr', degree=3, gamma='scale', kernel='rbf',\n",
       "  max_iter=-1, probability=False, random_state=None, shrinking=True,\n",
       "  tol=0.001, verbose=False),\n",
       "       fit_params=None, iid='warn', n_jobs=None,\n",
       "       param_grid={'kernel': ('linear', 'rbf', 'poly'), 'C': [0.001, 0.01, 0.1, 1, 10, 100]},\n",
       "       pre_dispatch='2*n_jobs', refit=True, return_train_score='warn',\n",
       "       scoring=None, verbose=10)"
      ]
     },
     "execution_count": 48,
     "metadata": {},
     "output_type": "execute_result"
    }
   ],
   "source": [
    "clf.fit(X_train,y_train)"
   ]
  },
  {
   "cell_type": "code",
   "execution_count": 49,
   "metadata": {},
   "outputs": [
    {
     "data": {
      "text/plain": [
       "SVC(C=10, cache_size=200, class_weight=None, coef0=0.0,\n",
       "  decision_function_shape='ovr', degree=3, gamma='scale', kernel='rbf',\n",
       "  max_iter=-1, probability=False, random_state=None, shrinking=True,\n",
       "  tol=0.001, verbose=False)"
      ]
     },
     "execution_count": 49,
     "metadata": {},
     "output_type": "execute_result"
    }
   ],
   "source": [
    "clf.best_estimator_"
   ]
  },
  {
   "cell_type": "code",
   "execution_count": 50,
   "metadata": {},
   "outputs": [],
   "source": [
    "pred = clf.best_estimator_.predict(X_test)"
   ]
  },
  {
   "cell_type": "code",
   "execution_count": 52,
   "metadata": {},
   "outputs": [
    {
     "name": "stdout",
     "output_type": "stream",
     "text": [
      "AxesSubplot(0.125,0.125;0.62x0.755)\n",
      "+-----------------+--------------+----------+----------+\n",
      "| Precision Score | Recall Score | f1 Score | Accuracy |\n",
      "+-----------------+--------------+----------+----------+\n",
      "|      0.9478     |    0.9432    |  0.942   |  0.9432  |\n",
      "+-----------------+--------------+----------+----------+\n"
     ]
    },
    {
     "data": {
      "image/png": "[encoded data removed]",
      "text/plain": [
       "<Figure size 432x288 with 2 Axes>"
      ]
     },
     "metadata": {
      "needs_background": "light"
     },
     "output_type": "display_data"
    }
   ],
   "source": [
    "gen_scores(y_test, pred)"
   ]
  },
  {
   "cell_type": "code",
   "execution_count": null,
   "metadata": {},
   "outputs": [],
   "source": []
  },
  {
   "cell_type": "code",
   "execution_count": null,
   "metadata": {},
   "outputs": [],
   "source": []
  },
  {
   "cell_type": "code",
   "execution_count": null,
   "metadata": {},
   "outputs": [],
   "source": []
  },
  {
   "cell_type": "code",
   "execution_count": null,
   "metadata": {},
   "outputs": [],
   "source": []
  },
  {
   "cell_type": "code",
   "execution_count": 3,
   "metadata": {},
   "outputs": [],
   "source": [
    "# Reading pre-processed dataset\n",
    "data = pd.read_csv('final_data.csv')\n",
    "data.dropna(inplace=True)"
   ]
  },
  {
   "cell_type": "code",
   "execution_count": 4,
   "metadata": {},
   "outputs": [
    {
     "name": "stdout",
     "output_type": "stream",
     "text": [
      "Data Shape (364156, 11)\n"
     ]
    }
   ],
   "source": [
    "print(\"Data Shape\",data.shape)\n",
    "data.sort_values(by='Time',ascending=True, inplace=True)\n",
    "data.reset_index(drop=True, inplace=True)\n",
    "data['Score'].replace('positive','1',inplace=True)\n",
    "data['Score'].replace('negative','0', inplace=True)"
   ]
  },
  {
   "cell_type": "code",
   "execution_count": 5,
   "metadata": {},
   "outputs": [
    {
     "data": {
      "text/plain": [
       "1    307051\n",
       "0     57105\n",
       "Name: Score, dtype: int64"
      ]
     },
     "execution_count": 5,
     "metadata": {},
     "output_type": "execute_result"
    }
   ],
   "source": [
    "data['Score'].value_counts()"
   ]
  },
  {
   "cell_type": "code",
   "execution_count": 6,
   "metadata": {},
   "outputs": [],
   "source": [
    "data_1 = data[data['Score']=='1'].sample(n=1000)"
   ]
  },
  {
   "cell_type": "code",
   "execution_count": 7,
   "metadata": {},
   "outputs": [],
   "source": [
    "data_0 = data[data['Score']=='0'].sample(n=1000)"
   ]
  },
  {
   "cell_type": "code",
   "execution_count": 8,
   "metadata": {},
   "outputs": [],
   "source": [
    "data = pd.concat([data_1,data_0])"
   ]
  },
  {
   "cell_type": "code",
   "execution_count": 9,
   "metadata": {},
   "outputs": [],
   "source": [
    "data.sort_values(by='Time',ascending=True, inplace=True)\n",
    "data.reset_index(drop=True, inplace=True)"
   ]
  },
  {
   "cell_type": "code",
   "execution_count": 10,
   "metadata": {},
   "outputs": [],
   "source": [
    "X = data['CleanedText']"
   ]
  },
  {
   "cell_type": "code",
   "execution_count": 11,
   "metadata": {},
   "outputs": [],
   "source": [
    "y = data['Score']"
   ]
  },
  {
   "cell_type": "code",
   "execution_count": 12,
   "metadata": {},
   "outputs": [],
   "source": [
    "X_train = X[:700]\n",
    "X_test  = X[700:]\n",
    "y_train = y[:700]\n",
    "y_test = y[700:]"
   ]
  },
  {
   "cell_type": "code",
   "execution_count": 13,
   "metadata": {},
   "outputs": [],
   "source": [
    "from sklearn.feature_extraction.text import CountVectorizer"
   ]
  },
  {
   "cell_type": "code",
   "execution_count": 14,
   "metadata": {},
   "outputs": [],
   "source": [
    "count_vect = CountVectorizer()"
   ]
  },
  {
   "cell_type": "code",
   "execution_count": 15,
   "metadata": {},
   "outputs": [
    {
     "data": {
      "text/plain": [
       "CountVectorizer(analyzer='word', binary=False, decode_error='strict',\n",
       "        dtype=<class 'numpy.int64'>, encoding='utf-8', input='content',\n",
       "        lowercase=True, max_df=1.0, max_features=None, min_df=1,\n",
       "        ngram_range=(1, 1), preprocessor=None, stop_words=None,\n",
       "        strip_accents=None, token_pattern='(?u)\\\\b\\\\w\\\\w+\\\\b',\n",
       "        tokenizer=None, vocabulary=None)"
      ]
     },
     "execution_count": 15,
     "metadata": {},
     "output_type": "execute_result"
    }
   ],
   "source": [
    "count_vect.fit(X_train)"
   ]
  },
  {
   "cell_type": "code",
   "execution_count": 16,
   "metadata": {},
   "outputs": [],
   "source": [
    "bow_train = count_vect.transform(X_train)"
   ]
  },
  {
   "cell_type": "code",
   "execution_count": 17,
   "metadata": {},
   "outputs": [],
   "source": [
    "bow_test = count_vect.transform(X_test)"
   ]
  },
  {
   "cell_type": "code",
   "execution_count": 18,
   "metadata": {},
   "outputs": [
    {
     "data": {
      "text/plain": [
       "3688"
      ]
     },
     "execution_count": 18,
     "metadata": {},
     "output_type": "execute_result"
    }
   ],
   "source": [
    "len(count_vect.get_feature_names())"
   ]
  },
  {
   "cell_type": "code",
   "execution_count": null,
   "metadata": {},
   "outputs": [],
   "source": []
  },
  {
   "cell_type": "code",
   "execution_count": 20,
   "metadata": {},
   "outputs": [],
   "source": [
    "from geneticfs import GeneticFS"
   ]
  },
  {
   "cell_type": "code",
   "execution_count": 22,
   "metadata": {},
   "outputs": [
    {
     "name": "stdout",
     "output_type": "stream",
     "text": [
      "Iteration 10 Complete [Time Taken For Last Iteration: 20.1 Seconds]\n",
      "Iteration 20 Complete [Time Taken For Last Iteration: 20.89 Seconds]\n",
      "Iteration 30 Complete [Time Taken For Last Iteration: 20.7 Seconds]\n",
      "Iteration 40 Complete [Time Taken For Last Iteration: 15.59 Seconds]\n",
      "Iteration 50 Complete [Time Taken For Last Iteration: 19.57 Seconds]\n",
      "Iteration 60 Complete [Time Taken For Last Iteration: 19.17 Seconds]\n",
      "Iteration 70 Complete [Time Taken For Last Iteration: 19.13 Seconds]\n",
      "Iteration 80 Complete [Time Taken For Last Iteration: 19.85 Seconds]\n",
      "Iteration 90 Complete [Time Taken For Last Iteration: 19.8 Seconds]\n",
      "Iteration 100 Complete [Time Taken For Last Iteration: 18.81 Seconds]\n"
     ]
    },
    {
     "data": {
      "image/png": "[encoded data removed]",
      "text/plain": [
       "<Figure size 432x288 with 1 Axes>"
      ]
     },
     "metadata": {
      "needs_background": "light"
     },
     "output_type": "display_data"
    }
   ],
   "source": [
    "gen_model = MultinomialNB()\n",
    "gfs = GeneticFS()\n",
    "\n",
    "# fit the optimizer\n",
    "gfs.fit(model=gen_model, _type='classification', X= bow_train.toarray(), y=y_train) # classification model\n",
    "\n",
    "# get results output\n",
    "binary_output_of_optimal_variables, indicies_of_optimal_variables = gfs.results()\n",
    "\n",
    "# plot results of progress\n",
    "gfs.plot_progress()"
   ]
  },
  {
   "cell_type": "code",
   "execution_count": 45,
   "metadata": {},
   "outputs": [],
   "source": [
    "from sklearn.naive_bayes import MultinomialNB\n",
    "from sklearn.model_selection import GridSearchCV"
   ]
  },
  {
   "cell_type": "code",
   "execution_count": 24,
   "metadata": {},
   "outputs": [
    {
     "data": {
      "text/plain": [
       "1850"
      ]
     },
     "execution_count": 24,
     "metadata": {},
     "output_type": "execute_result"
    }
   ],
   "source": [
    "len(indicies_of_optimal_variables)"
   ]
  },
  {
   "cell_type": "code",
   "execution_count": 26,
   "metadata": {},
   "outputs": [
    {
     "data": {
      "text/plain": [
       "3688"
      ]
     },
     "execution_count": 26,
     "metadata": {},
     "output_type": "execute_result"
    }
   ],
   "source": [
    "len(binary_output_of_optimal_variables)"
   ]
  },
  {
   "cell_type": "code",
   "execution_count": 28,
   "metadata": {},
   "outputs": [],
   "source": [
    "bow_train_arr = bow_train.toarray()"
   ]
  },
  {
   "cell_type": "code",
   "execution_count": 41,
   "metadata": {},
   "outputs": [],
   "source": [
    "r_X_train = bow_train_arr[:, indicies_of_optimal_variables]"
   ]
  },
  {
   "cell_type": "code",
   "execution_count": 43,
   "metadata": {},
   "outputs": [],
   "source": [
    "r_X_test = bow_test.toarray()[:, indicies_of_optimal_variables]"
   ]
  },
  {
   "cell_type": "code",
   "execution_count": 44,
   "metadata": {},
   "outputs": [
    {
     "data": {
      "text/plain": [
       "(2300, 1850)"
      ]
     },
     "execution_count": 44,
     "metadata": {},
     "output_type": "execute_result"
    }
   ],
   "source": [
    "r_X_test.shape"
   ]
  },
  {
   "cell_type": "code",
   "execution_count": 54,
   "metadata": {},
   "outputs": [
    {
     "name": "stdout",
     "output_type": "stream",
     "text": [
      "Fitting 3 folds for each of 5 candidates, totalling 15 fits\n",
      "[CV] alpha=0.01 ......................................................\n",
      "[CV] ............. alpha=0.01, score=0.8218781362007168, total=   0.0s\n",
      "[CV] alpha=0.01 ......................................................\n",
      "[CV] ............. alpha=0.01, score=0.8385205163348851, total=   0.0s\n",
      "[CV] alpha=0.01 ......................................................\n"
     ]
    },
    {
     "name": "stderr",
     "output_type": "stream",
     "text": [
      "[Parallel(n_jobs=1)]: Using backend SequentialBackend with 1 concurrent workers.\n",
      "[Parallel(n_jobs=1)]: Done   1 out of   1 | elapsed:    0.0s remaining:    0.0s\n",
      "[Parallel(n_jobs=1)]: Done   2 out of   2 | elapsed:    0.0s remaining:    0.0s\n"
     ]
    },
    {
     "name": "stdout",
     "output_type": "stream",
     "text": [
      "[CV] ............. alpha=0.01, score=0.8062515158443578, total=   0.0s\n",
      "[CV] alpha=0.1 .......................................................\n",
      "[CV] .............. alpha=0.1, score=0.8117571099084598, total=   0.0s\n",
      "[CV] alpha=0.1 .......................................................\n",
      "[CV] .............. alpha=0.1, score=0.8540772532188842, total=   0.0s\n"
     ]
    },
    {
     "name": "stderr",
     "output_type": "stream",
     "text": [
      "[Parallel(n_jobs=1)]: Done   3 out of   3 | elapsed:    0.1s remaining:    0.0s\n",
      "[Parallel(n_jobs=1)]: Done   4 out of   4 | elapsed:    0.2s remaining:    0.0s\n",
      "[Parallel(n_jobs=1)]: Done   5 out of   5 | elapsed:    0.3s remaining:    0.0s\n"
     ]
    },
    {
     "name": "stdout",
     "output_type": "stream",
     "text": [
      "[CV] alpha=0.1 .......................................................\n",
      "[CV] .............. alpha=0.1, score=0.8022945759704371, total=   0.0s\n",
      "[CV] alpha=1 .........................................................\n",
      "[CV] ................ alpha=1, score=0.7996506802056592, total=   0.0s\n",
      "[CV] alpha=1 .........................................................\n",
      "[CV] ................. alpha=1, score=0.852530552331876, total=   0.0s\n",
      "[CV] alpha=1 .........................................................\n"
     ]
    },
    {
     "name": "stderr",
     "output_type": "stream",
     "text": [
      "[Parallel(n_jobs=1)]: Done   6 out of   6 | elapsed:    0.4s remaining:    0.0s\n",
      "[Parallel(n_jobs=1)]: Done   7 out of   7 | elapsed:    0.5s remaining:    0.0s\n",
      "[Parallel(n_jobs=1)]: Done   8 out of   8 | elapsed:    0.6s remaining:    0.0s\n"
     ]
    },
    {
     "name": "stdout",
     "output_type": "stream",
     "text": [
      "[CV] ................ alpha=1, score=0.8156631904148451, total=   0.0s\n",
      "[CV] alpha=10 ........................................................\n",
      "[CV] ............... alpha=10, score=0.6630864427474596, total=   0.0s\n",
      "[CV] alpha=10 ........................................................\n",
      "[CV] ............... alpha=10, score=0.6717613016105637, total=   0.0s\n",
      "[CV] alpha=10 ........................................................"
     ]
    },
    {
     "name": "stderr",
     "output_type": "stream",
     "text": [
      "[Parallel(n_jobs=1)]: Done   9 out of   9 | elapsed:    0.6s remaining:    0.0s\n"
     ]
    },
    {
     "name": "stdout",
     "output_type": "stream",
     "text": [
      "\n",
      "[CV] ............... alpha=10, score=0.6596043127813253, total=   0.0s\n",
      "[CV] alpha=100 .......................................................\n",
      "[CV] .............. alpha=100, score=0.6630864427474596, total=   0.0s\n",
      "[CV] alpha=100 .......................................................\n",
      "[CV] .............. alpha=100, score=0.6617169470463541, total=   0.0s\n",
      "[CV] alpha=100 .......................................................\n",
      "[CV] .............. alpha=100, score=0.6617169470463541, total=   0.0s\n"
     ]
    },
    {
     "name": "stderr",
     "output_type": "stream",
     "text": [
      "[Parallel(n_jobs=1)]: Done  15 out of  15 | elapsed:    1.2s finished\n"
     ]
    },
    {
     "data": {
      "text/plain": [
       "GridSearchCV(cv=3, error_score='raise-deprecating',\n",
       "       estimator=MultinomialNB(alpha=1.0, class_prior=None, fit_prior=True),\n",
       "       fit_params=None, iid='warn', n_jobs=None,\n",
       "       param_grid={'alpha': [0.01, 0.1, 1, 10, 100]},\n",
       "       pre_dispatch='2*n_jobs', refit=True, return_train_score='warn',\n",
       "       scoring='f1_weighted', verbose=10)"
      ]
     },
     "execution_count": 54,
     "metadata": {},
     "output_type": "execute_result"
    }
   ],
   "source": [
    "params = {'alpha':[ 0.01, 0.1,1, 10, 100]}\n",
    "clf = GridSearchCV(MultinomialNB(), param_grid=params, scoring='f1_weighted',cv=3, verbose=10)\n",
    "clf.fit(r_X_train, y_train)"
   ]
  },
  {
   "cell_type": "code",
   "execution_count": 55,
   "metadata": {},
   "outputs": [
    {
     "data": {
      "text/plain": [
       "MultinomialNB(alpha=0.1, class_prior=None, fit_prior=True)"
      ]
     },
     "execution_count": 55,
     "metadata": {},
     "output_type": "execute_result"
    }
   ],
   "source": [
    "clf.best_estimator_"
   ]
  },
  {
   "cell_type": "code",
   "execution_count": null,
   "metadata": {},
   "outputs": [],
   "source": []
  },
  {
   "cell_type": "code",
   "execution_count": 60,
   "metadata": {},
   "outputs": [],
   "source": [
    "pred = clf.best_estimator_.predict(r_X_test)"
   ]
  },
  {
   "cell_type": "code",
   "execution_count": 61,
   "metadata": {},
   "outputs": [
    {
     "name": "stdout",
     "output_type": "stream",
     "text": [
      "AxesSubplot(0.125,0.125;0.62x0.755)\n",
      "+-----------------+--------------+----------+----------+\n",
      "| Precision Score | Recall Score | f1 Score | Accuracy |\n",
      "+-----------------+--------------+----------+----------+\n",
      "|      0.7439     |    0.7435    |  0.7244  |  0.7435  |\n",
      "+-----------------+--------------+----------+----------+\n"
     ]
    },
    {
     "data": {
      "image/png": "[encoded data removed]",
      "text/plain": [
       "<Figure size 432x288 with 2 Axes>"
      ]
     },
     "metadata": {
      "needs_background": "light"
     },
     "output_type": "display_data"
    }
   ],
   "source": [
    "gen_scores(y_test, pred)"
   ]
  },
  {
   "cell_type": "code",
   "execution_count": 63,
   "metadata": {},
   "outputs": [
    {
     "data": {
      "text/plain": [
       "(700, 3688)"
      ]
     },
     "execution_count": 63,
     "metadata": {},
     "output_type": "execute_result"
    }
   ],
   "source": [
    "bow_train.shape"
   ]
  },
  {
   "cell_type": "code",
   "execution_count": 65,
   "metadata": {},
   "outputs": [
    {
     "data": {
      "text/plain": [
       "MultinomialNB(alpha=1.0, class_prior=None, fit_prior=True)"
      ]
     },
     "execution_count": 65,
     "metadata": {},
     "output_type": "execute_result"
    }
   ],
   "source": [
    "model = MultinomialNB()\n",
    "model.fit(bow_train,y_train)"
   ]
  },
  {
   "cell_type": "code",
   "execution_count": 66,
   "metadata": {},
   "outputs": [],
   "source": [
    "pred = model.predict(bow_test)"
   ]
  },
  {
   "cell_type": "code",
   "execution_count": 67,
   "metadata": {},
   "outputs": [
    {
     "name": "stdout",
     "output_type": "stream",
     "text": [
      "AxesSubplot(0.125,0.125;0.62x0.755)\n",
      "+-----------------+--------------+----------+----------+\n",
      "| Precision Score | Recall Score | f1 Score | Accuracy |\n",
      "+-----------------+--------------+----------+----------+\n",
      "|      0.7904     |    0.7661    |  0.7399  |  0.7661  |\n",
      "+-----------------+--------------+----------+----------+\n"
     ]
    },
    {
     "data": {
      "image/png": "[encoded data removed]",
      "text/plain": [
       "<Figure size 432x288 with 2 Axes>"
      ]
     },
     "metadata": {
      "needs_background": "light"
     },
     "output_type": "display_data"
    }
   ],
   "source": [
    "gen_scores(y_test, pred)"
   ]
  },
  {
   "cell_type": "code",
   "execution_count": null,
   "metadata": {},
   "outputs": [],
   "source": []
  }
 ],
 "metadata": {
  "kernelspec": {
   "display_name": "Python 3",
   "language": "python",
   "name": "python3"
  },
  "language_info": {
   "codemirror_mode": {
    "name": "ipython",
    "version": 3
   },
   "file_extension": ".py",
   "mimetype": "text/x-python",
   "name": "python",
   "nbconvert_exporter": "python",
   "pygments_lexer": "ipython3",
   "version": "3.7.0"
  }
 },
 "nbformat": 4,
 "nbformat_minor": 2
}
